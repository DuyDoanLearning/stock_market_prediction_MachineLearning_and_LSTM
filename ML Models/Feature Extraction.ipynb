{
 "cells": [
  {
   "cell_type": "markdown",
   "metadata": {},
   "source": [
    "# Machine Learning Models for stock prediction - non transformation version"
   ]
  },
  {
   "cell_type": "markdown",
   "metadata": {},
   "source": [
    "# Import necessary libraries"
   ]
  },
  {
   "cell_type": "code",
   "execution_count": 1,
   "metadata": {},
   "outputs": [],
   "source": [
    "import pandas as pd\n",
    "import numpy as np\n",
    "import matplotlib.pyplot as plt\n",
    "import seaborn as sns\n",
    "sns.set()\n",
    "\n",
    "import warnings\n",
    "warnings.filterwarnings(\"ignore\")"
   ]
  },
  {
   "cell_type": "markdown",
   "metadata": {},
   "source": [
    "## Import data\n",
    "\n",
    "The data was downloaded from Bloomberg on:\n",
    "* Exchange rate of Vietnam with its major trading partners: the China and the US\n",
    "* Precious metal spot price and future price: Gold, Silver, Palladium, Platinum\n",
    "* Global Stock Indices: Hang Seng Index, Nasdaq 100, Nasdaq Composite, Nikkei 225, SP500, DOJI, Shanghai Shenzhen CSI3000, Shanghai Shenzhen Composite and Singapore Stock Index\n",
    "* Volatility stock index: VIX Index\n",
    "\n",
    "The data will be imported from previous EDA session, which has been cleaned."
   ]
  },
  {
   "cell_type": "code",
   "execution_count": 121,
   "metadata": {},
   "outputs": [],
   "source": [
    "# Import data\n",
    "data = pd.read_csv('data.csv', index_col = ['Date'])"
   ]
  },
  {
   "cell_type": "markdown",
   "metadata": {},
   "source": [
    "# Feature Extraction\n",
    "\n",
    "We will generate the following set of features:\n",
    "- Return of n lag days\n",
    "- Lags price of n lag days\n",
    "- Diff price of n lag days"
   ]
  },
  {
   "cell_type": "code",
   "execution_count": 126,
   "metadata": {},
   "outputs": [],
   "source": [
    "# Generate lag function\n",
    "\n",
    "def generate_lag(df, n_lags):\n",
    "    \"\"\"\n",
    "    Generate n lag for each columns of the dataframe\n",
    "    \n",
    "    \"\"\"\n",
    "     # df_copy\n",
    "    df2 = df.copy()\n",
    "    \n",
    "    # Create column list\n",
    "    new_columns = []\n",
    "    \n",
    "    # Define n_lags:\n",
    "    lag_range = range(1, n_lags + 1)\n",
    "    \n",
    "    # Generate new columns with lags\n",
    "    for col in df2.columns:\n",
    "        for i in lag_range:\n",
    "            new_col_name = f\"{col}_lag_{i}\"\n",
    "            df2[new_col_name] = df2[col].shift(periods = i)\n",
    "            new_columns.append(new_col_name)\n",
    "    \n",
    "    return df2[new_columns]"
   ]
  },
  {
   "cell_type": "code",
   "execution_count": 119,
   "metadata": {},
   "outputs": [],
   "source": [
    "# Generate return\n",
    "def generate_return(df, n_lags):\n",
    "    \"\"\"\n",
    "    Generate n lag return for each columns of the dataframe\n",
    "    \n",
    "    \"\"\"\n",
    "    # df_copy\n",
    "    df2 = df.copy()\n",
    "    \n",
    "    # Create column list\n",
    "    new_columns = []\n",
    "    \n",
    "    # Define lag range\n",
    "    lag_range = range(1, n_lags + 1)\n",
    "    \n",
    "    # Generate new columns with lags\n",
    "    for col in df2.columns:\n",
    "        for i in lag_range:\n",
    "            new_col_name = f\"{col}_return_{i}\"\n",
    "            df2[new_col_name] = df2[col].pct_change(periods = i)\n",
    "            new_columns.append(new_col_name)\n",
    "    \n",
    "    return df2[new_columns]"
   ]
  },
  {
   "cell_type": "code",
   "execution_count": 125,
   "metadata": {},
   "outputs": [],
   "source": [
    "# Generate diff\n",
    "def generate_diff(df, n_lags):\n",
    "    \"\"\"\n",
    "    Generate n lag diff for each columns of the dataframe\n",
    "    \n",
    "    \"\"\"\n",
    "     # df_copy\n",
    "    df2 = df.copy()\n",
    "    \n",
    "    # Create column list\n",
    "    new_columns = []\n",
    "    \n",
    "    # Define n_lags:\n",
    "    lag_range = range(1, n_lags + 1)\n",
    "    \n",
    "    # Generate new columns with lags\n",
    "    for col in df2.columns:\n",
    "        for i in lag_range:\n",
    "            new_col_name = f\"{col}_return_{i}\"\n",
    "            df2[new_col_name] = df2[col].diff(periods = i)\n",
    "            new_columns.append(new_col_name)\n",
    "    \n",
    "    return df2[new_columns]"
   ]
  },
  {
   "cell_type": "code",
   "execution_count": 127,
   "metadata": {},
   "outputs": [],
   "source": [
    "# Generate lag\n",
    "data_lag = generate_lag(data, 10)\n",
    "data_ret = generate_return(data, 10)\n",
    "data_diff = generate_diff(data, 10)"
   ]
  },
  {
   "cell_type": "code",
   "execution_count": 129,
   "metadata": {},
   "outputs": [
    {
     "data": {
      "text/html": [
       "<div>\n",
       "<style scoped>\n",
       "    .dataframe tbody tr th:only-of-type {\n",
       "        vertical-align: middle;\n",
       "    }\n",
       "\n",
       "    .dataframe tbody tr th {\n",
       "        vertical-align: top;\n",
       "    }\n",
       "\n",
       "    .dataframe thead th {\n",
       "        text-align: right;\n",
       "    }\n",
       "</style>\n",
       "<table border=\"1\" class=\"dataframe\">\n",
       "  <thead>\n",
       "    <tr style=\"text-align: right;\">\n",
       "      <th></th>\n",
       "      <th>index_sp500</th>\n",
       "      <th>spot_palladium</th>\n",
       "      <th>index_shsz_csi300</th>\n",
       "      <th>index_vni</th>\n",
       "      <th>index_sp500_lag_1</th>\n",
       "      <th>index_sp500_lag_2</th>\n",
       "      <th>index_sp500_lag_3</th>\n",
       "      <th>index_sp500_lag_4</th>\n",
       "      <th>index_sp500_lag_5</th>\n",
       "      <th>index_sp500_lag_6</th>\n",
       "      <th>...</th>\n",
       "      <th>index_vni_return_1</th>\n",
       "      <th>index_vni_return_2</th>\n",
       "      <th>index_vni_return_3</th>\n",
       "      <th>index_vni_return_4</th>\n",
       "      <th>index_vni_return_5</th>\n",
       "      <th>index_vni_return_6</th>\n",
       "      <th>index_vni_return_7</th>\n",
       "      <th>index_vni_return_8</th>\n",
       "      <th>index_vni_return_9</th>\n",
       "      <th>index_vni_return_10</th>\n",
       "    </tr>\n",
       "    <tr>\n",
       "      <th>Date</th>\n",
       "      <th></th>\n",
       "      <th></th>\n",
       "      <th></th>\n",
       "      <th></th>\n",
       "      <th></th>\n",
       "      <th></th>\n",
       "      <th></th>\n",
       "      <th></th>\n",
       "      <th></th>\n",
       "      <th></th>\n",
       "      <th></th>\n",
       "      <th></th>\n",
       "      <th></th>\n",
       "      <th></th>\n",
       "      <th></th>\n",
       "      <th></th>\n",
       "      <th></th>\n",
       "      <th></th>\n",
       "      <th></th>\n",
       "      <th></th>\n",
       "      <th></th>\n",
       "    </tr>\n",
       "  </thead>\n",
       "  <tbody>\n",
       "    <tr>\n",
       "      <th>7/2/2007</th>\n",
       "      <td>1519.43</td>\n",
       "      <td>368.5</td>\n",
       "      <td>16130</td>\n",
       "      <td>994.17</td>\n",
       "      <td>NaN</td>\n",
       "      <td>NaN</td>\n",
       "      <td>NaN</td>\n",
       "      <td>NaN</td>\n",
       "      <td>NaN</td>\n",
       "      <td>NaN</td>\n",
       "      <td>...</td>\n",
       "      <td>NaN</td>\n",
       "      <td>NaN</td>\n",
       "      <td>NaN</td>\n",
       "      <td>NaN</td>\n",
       "      <td>NaN</td>\n",
       "      <td>NaN</td>\n",
       "      <td>NaN</td>\n",
       "      <td>NaN</td>\n",
       "      <td>NaN</td>\n",
       "      <td>NaN</td>\n",
       "    </tr>\n",
       "    <tr>\n",
       "      <th>7/3/2007</th>\n",
       "      <td>1524.87</td>\n",
       "      <td>365.0</td>\n",
       "      <td>16131</td>\n",
       "      <td>977.30</td>\n",
       "      <td>1519.43</td>\n",
       "      <td>NaN</td>\n",
       "      <td>NaN</td>\n",
       "      <td>NaN</td>\n",
       "      <td>NaN</td>\n",
       "      <td>NaN</td>\n",
       "      <td>...</td>\n",
       "      <td>-16.87</td>\n",
       "      <td>NaN</td>\n",
       "      <td>NaN</td>\n",
       "      <td>NaN</td>\n",
       "      <td>NaN</td>\n",
       "      <td>NaN</td>\n",
       "      <td>NaN</td>\n",
       "      <td>NaN</td>\n",
       "      <td>NaN</td>\n",
       "      <td>NaN</td>\n",
       "    </tr>\n",
       "    <tr>\n",
       "      <th>7/4/2007</th>\n",
       "      <td>1522.19</td>\n",
       "      <td>366.0</td>\n",
       "      <td>16130</td>\n",
       "      <td>1013.56</td>\n",
       "      <td>1524.87</td>\n",
       "      <td>1519.43</td>\n",
       "      <td>NaN</td>\n",
       "      <td>NaN</td>\n",
       "      <td>NaN</td>\n",
       "      <td>NaN</td>\n",
       "      <td>...</td>\n",
       "      <td>36.26</td>\n",
       "      <td>19.39</td>\n",
       "      <td>NaN</td>\n",
       "      <td>NaN</td>\n",
       "      <td>NaN</td>\n",
       "      <td>NaN</td>\n",
       "      <td>NaN</td>\n",
       "      <td>NaN</td>\n",
       "      <td>NaN</td>\n",
       "      <td>NaN</td>\n",
       "    </tr>\n",
       "    <tr>\n",
       "      <th>7/5/2007</th>\n",
       "      <td>1525.40</td>\n",
       "      <td>365.5</td>\n",
       "      <td>16130</td>\n",
       "      <td>1012.82</td>\n",
       "      <td>1522.19</td>\n",
       "      <td>1524.87</td>\n",
       "      <td>1519.43</td>\n",
       "      <td>NaN</td>\n",
       "      <td>NaN</td>\n",
       "      <td>NaN</td>\n",
       "      <td>...</td>\n",
       "      <td>-0.74</td>\n",
       "      <td>35.52</td>\n",
       "      <td>18.65</td>\n",
       "      <td>NaN</td>\n",
       "      <td>NaN</td>\n",
       "      <td>NaN</td>\n",
       "      <td>NaN</td>\n",
       "      <td>NaN</td>\n",
       "      <td>NaN</td>\n",
       "      <td>NaN</td>\n",
       "    </tr>\n",
       "    <tr>\n",
       "      <th>7/6/2007</th>\n",
       "      <td>1530.44</td>\n",
       "      <td>367.0</td>\n",
       "      <td>16135</td>\n",
       "      <td>1010.53</td>\n",
       "      <td>1525.40</td>\n",
       "      <td>1522.19</td>\n",
       "      <td>1524.87</td>\n",
       "      <td>1519.43</td>\n",
       "      <td>NaN</td>\n",
       "      <td>NaN</td>\n",
       "      <td>...</td>\n",
       "      <td>-2.29</td>\n",
       "      <td>-3.03</td>\n",
       "      <td>33.23</td>\n",
       "      <td>16.36</td>\n",
       "      <td>NaN</td>\n",
       "      <td>NaN</td>\n",
       "      <td>NaN</td>\n",
       "      <td>NaN</td>\n",
       "      <td>NaN</td>\n",
       "      <td>NaN</td>\n",
       "    </tr>\n",
       "  </tbody>\n",
       "</table>\n",
       "<p>5 rows × 124 columns</p>\n",
       "</div>"
      ],
      "text/plain": [
       "          index_sp500  spot_palladium  index_shsz_csi300  index_vni  \\\n",
       "Date                                                                  \n",
       "7/2/2007      1519.43           368.5              16130     994.17   \n",
       "7/3/2007      1524.87           365.0              16131     977.30   \n",
       "7/4/2007      1522.19           366.0              16130    1013.56   \n",
       "7/5/2007      1525.40           365.5              16130    1012.82   \n",
       "7/6/2007      1530.44           367.0              16135    1010.53   \n",
       "\n",
       "          index_sp500_lag_1  index_sp500_lag_2  index_sp500_lag_3  \\\n",
       "Date                                                                \n",
       "7/2/2007                NaN                NaN                NaN   \n",
       "7/3/2007            1519.43                NaN                NaN   \n",
       "7/4/2007            1524.87            1519.43                NaN   \n",
       "7/5/2007            1522.19            1524.87            1519.43   \n",
       "7/6/2007            1525.40            1522.19            1524.87   \n",
       "\n",
       "          index_sp500_lag_4  index_sp500_lag_5  index_sp500_lag_6  ...  \\\n",
       "Date                                                               ...   \n",
       "7/2/2007                NaN                NaN                NaN  ...   \n",
       "7/3/2007                NaN                NaN                NaN  ...   \n",
       "7/4/2007                NaN                NaN                NaN  ...   \n",
       "7/5/2007                NaN                NaN                NaN  ...   \n",
       "7/6/2007            1519.43                NaN                NaN  ...   \n",
       "\n",
       "          index_vni_return_1  index_vni_return_2  index_vni_return_3  \\\n",
       "Date                                                                   \n",
       "7/2/2007                 NaN                 NaN                 NaN   \n",
       "7/3/2007              -16.87                 NaN                 NaN   \n",
       "7/4/2007               36.26               19.39                 NaN   \n",
       "7/5/2007               -0.74               35.52               18.65   \n",
       "7/6/2007               -2.29               -3.03               33.23   \n",
       "\n",
       "          index_vni_return_4  index_vni_return_5  index_vni_return_6  \\\n",
       "Date                                                                   \n",
       "7/2/2007                 NaN                 NaN                 NaN   \n",
       "7/3/2007                 NaN                 NaN                 NaN   \n",
       "7/4/2007                 NaN                 NaN                 NaN   \n",
       "7/5/2007                 NaN                 NaN                 NaN   \n",
       "7/6/2007               16.36                 NaN                 NaN   \n",
       "\n",
       "          index_vni_return_7  index_vni_return_8  index_vni_return_9  \\\n",
       "Date                                                                   \n",
       "7/2/2007                 NaN                 NaN                 NaN   \n",
       "7/3/2007                 NaN                 NaN                 NaN   \n",
       "7/4/2007                 NaN                 NaN                 NaN   \n",
       "7/5/2007                 NaN                 NaN                 NaN   \n",
       "7/6/2007                 NaN                 NaN                 NaN   \n",
       "\n",
       "          index_vni_return_10  \n",
       "Date                           \n",
       "7/2/2007                  NaN  \n",
       "7/3/2007                  NaN  \n",
       "7/4/2007                  NaN  \n",
       "7/5/2007                  NaN  \n",
       "7/6/2007                  NaN  \n",
       "\n",
       "[5 rows x 124 columns]"
      ]
     },
     "execution_count": 129,
     "metadata": {},
     "output_type": "execute_result"
    }
   ],
   "source": [
    "# Merge all of dataframes into one big data\n",
    "data_features = pd.concat([data, data_lag, data_ret, data_diff], axis = 1)\n",
    "data_features.head()"
   ]
  },
  {
   "cell_type": "code",
   "execution_count": 130,
   "metadata": {},
   "outputs": [
    {
     "name": "stdout",
     "output_type": "stream",
     "text": [
      "<class 'pandas.core.frame.DataFrame'>\n",
      "Index: 4165 entries, 7/16/2007 to 6/30/2023\n",
      "Columns: 124 entries, index_sp500 to index_vni_return_10\n",
      "dtypes: float64(123), int64(1)\n",
      "memory usage: 4.0+ MB\n"
     ]
    }
   ],
   "source": [
    "# Drop missing values\n",
    "data_features = data_features.iloc[10:]"
   ]
  },
  {
   "cell_type": "code",
   "execution_count": 132,
   "metadata": {},
   "outputs": [
    {
     "data": {
      "text/html": [
       "<div>\n",
       "<style scoped>\n",
       "    .dataframe tbody tr th:only-of-type {\n",
       "        vertical-align: middle;\n",
       "    }\n",
       "\n",
       "    .dataframe tbody tr th {\n",
       "        vertical-align: top;\n",
       "    }\n",
       "\n",
       "    .dataframe thead th {\n",
       "        text-align: right;\n",
       "    }\n",
       "</style>\n",
       "<table border=\"1\" class=\"dataframe\">\n",
       "  <thead>\n",
       "    <tr style=\"text-align: right;\">\n",
       "      <th></th>\n",
       "      <th>index_sp500</th>\n",
       "      <th>spot_palladium</th>\n",
       "      <th>index_shsz_csi300</th>\n",
       "      <th>index_vni</th>\n",
       "      <th>index_sp500_lag_1</th>\n",
       "      <th>index_sp500_lag_2</th>\n",
       "      <th>index_sp500_lag_3</th>\n",
       "      <th>index_sp500_lag_4</th>\n",
       "      <th>index_sp500_lag_5</th>\n",
       "      <th>index_sp500_lag_6</th>\n",
       "      <th>...</th>\n",
       "      <th>index_vni_return_1</th>\n",
       "      <th>index_vni_return_2</th>\n",
       "      <th>index_vni_return_3</th>\n",
       "      <th>index_vni_return_4</th>\n",
       "      <th>index_vni_return_5</th>\n",
       "      <th>index_vni_return_6</th>\n",
       "      <th>index_vni_return_7</th>\n",
       "      <th>index_vni_return_8</th>\n",
       "      <th>index_vni_return_9</th>\n",
       "      <th>index_vni_return_10</th>\n",
       "    </tr>\n",
       "    <tr>\n",
       "      <th>Date</th>\n",
       "      <th></th>\n",
       "      <th></th>\n",
       "      <th></th>\n",
       "      <th></th>\n",
       "      <th></th>\n",
       "      <th></th>\n",
       "      <th></th>\n",
       "      <th></th>\n",
       "      <th></th>\n",
       "      <th></th>\n",
       "      <th></th>\n",
       "      <th></th>\n",
       "      <th></th>\n",
       "      <th></th>\n",
       "      <th></th>\n",
       "      <th></th>\n",
       "      <th></th>\n",
       "      <th></th>\n",
       "      <th></th>\n",
       "      <th></th>\n",
       "      <th></th>\n",
       "    </tr>\n",
       "  </thead>\n",
       "  <tbody>\n",
       "    <tr>\n",
       "      <th>7/16/2007</th>\n",
       "      <td>1549.52</td>\n",
       "      <td>367.50</td>\n",
       "      <td>16130</td>\n",
       "      <td>995.83</td>\n",
       "      <td>1552.50</td>\n",
       "      <td>1547.70</td>\n",
       "      <td>1518.76</td>\n",
       "      <td>1510.12</td>\n",
       "      <td>1531.85</td>\n",
       "      <td>1530.44</td>\n",
       "      <td>...</td>\n",
       "      <td>-19.90</td>\n",
       "      <td>-21.85</td>\n",
       "      <td>-34.02</td>\n",
       "      <td>-27.21</td>\n",
       "      <td>-14.44</td>\n",
       "      <td>-14.70</td>\n",
       "      <td>-16.99</td>\n",
       "      <td>-17.73</td>\n",
       "      <td>18.53</td>\n",
       "      <td>1.66</td>\n",
       "    </tr>\n",
       "    <tr>\n",
       "      <th>7/17/2007</th>\n",
       "      <td>1549.37</td>\n",
       "      <td>364.50</td>\n",
       "      <td>16130</td>\n",
       "      <td>1000.33</td>\n",
       "      <td>1549.52</td>\n",
       "      <td>1552.50</td>\n",
       "      <td>1547.70</td>\n",
       "      <td>1518.76</td>\n",
       "      <td>1510.12</td>\n",
       "      <td>1531.85</td>\n",
       "      <td>...</td>\n",
       "      <td>4.50</td>\n",
       "      <td>-15.40</td>\n",
       "      <td>-17.35</td>\n",
       "      <td>-29.52</td>\n",
       "      <td>-22.71</td>\n",
       "      <td>-9.94</td>\n",
       "      <td>-10.20</td>\n",
       "      <td>-12.49</td>\n",
       "      <td>-13.23</td>\n",
       "      <td>23.03</td>\n",
       "    </tr>\n",
       "    <tr>\n",
       "      <th>7/18/2007</th>\n",
       "      <td>1546.17</td>\n",
       "      <td>368.75</td>\n",
       "      <td>16135</td>\n",
       "      <td>994.73</td>\n",
       "      <td>1549.37</td>\n",
       "      <td>1549.52</td>\n",
       "      <td>1552.50</td>\n",
       "      <td>1547.70</td>\n",
       "      <td>1518.76</td>\n",
       "      <td>1510.12</td>\n",
       "      <td>...</td>\n",
       "      <td>-5.60</td>\n",
       "      <td>-1.10</td>\n",
       "      <td>-21.00</td>\n",
       "      <td>-22.95</td>\n",
       "      <td>-35.12</td>\n",
       "      <td>-28.31</td>\n",
       "      <td>-15.54</td>\n",
       "      <td>-15.80</td>\n",
       "      <td>-18.09</td>\n",
       "      <td>-18.83</td>\n",
       "    </tr>\n",
       "    <tr>\n",
       "      <th>7/19/2007</th>\n",
       "      <td>1553.08</td>\n",
       "      <td>371.13</td>\n",
       "      <td>16140</td>\n",
       "      <td>984.43</td>\n",
       "      <td>1546.17</td>\n",
       "      <td>1549.37</td>\n",
       "      <td>1549.52</td>\n",
       "      <td>1552.50</td>\n",
       "      <td>1547.70</td>\n",
       "      <td>1518.76</td>\n",
       "      <td>...</td>\n",
       "      <td>-10.30</td>\n",
       "      <td>-15.90</td>\n",
       "      <td>-11.40</td>\n",
       "      <td>-31.30</td>\n",
       "      <td>-33.25</td>\n",
       "      <td>-45.42</td>\n",
       "      <td>-38.61</td>\n",
       "      <td>-25.84</td>\n",
       "      <td>-26.10</td>\n",
       "      <td>-28.39</td>\n",
       "    </tr>\n",
       "    <tr>\n",
       "      <th>7/20/2007</th>\n",
       "      <td>1534.10</td>\n",
       "      <td>372.00</td>\n",
       "      <td>16137</td>\n",
       "      <td>981.31</td>\n",
       "      <td>1553.08</td>\n",
       "      <td>1546.17</td>\n",
       "      <td>1549.37</td>\n",
       "      <td>1549.52</td>\n",
       "      <td>1552.50</td>\n",
       "      <td>1547.70</td>\n",
       "      <td>...</td>\n",
       "      <td>-3.12</td>\n",
       "      <td>-13.42</td>\n",
       "      <td>-19.02</td>\n",
       "      <td>-14.52</td>\n",
       "      <td>-34.42</td>\n",
       "      <td>-36.37</td>\n",
       "      <td>-48.54</td>\n",
       "      <td>-41.73</td>\n",
       "      <td>-28.96</td>\n",
       "      <td>-29.22</td>\n",
       "    </tr>\n",
       "  </tbody>\n",
       "</table>\n",
       "<p>5 rows × 124 columns</p>\n",
       "</div>"
      ],
      "text/plain": [
       "           index_sp500  spot_palladium  index_shsz_csi300  index_vni  \\\n",
       "Date                                                                   \n",
       "7/16/2007      1549.52          367.50              16130     995.83   \n",
       "7/17/2007      1549.37          364.50              16130    1000.33   \n",
       "7/18/2007      1546.17          368.75              16135     994.73   \n",
       "7/19/2007      1553.08          371.13              16140     984.43   \n",
       "7/20/2007      1534.10          372.00              16137     981.31   \n",
       "\n",
       "           index_sp500_lag_1  index_sp500_lag_2  index_sp500_lag_3  \\\n",
       "Date                                                                 \n",
       "7/16/2007            1552.50            1547.70            1518.76   \n",
       "7/17/2007            1549.52            1552.50            1547.70   \n",
       "7/18/2007            1549.37            1549.52            1552.50   \n",
       "7/19/2007            1546.17            1549.37            1549.52   \n",
       "7/20/2007            1553.08            1546.17            1549.37   \n",
       "\n",
       "           index_sp500_lag_4  index_sp500_lag_5  index_sp500_lag_6  ...  \\\n",
       "Date                                                                ...   \n",
       "7/16/2007            1510.12            1531.85            1530.44  ...   \n",
       "7/17/2007            1518.76            1510.12            1531.85  ...   \n",
       "7/18/2007            1547.70            1518.76            1510.12  ...   \n",
       "7/19/2007            1552.50            1547.70            1518.76  ...   \n",
       "7/20/2007            1549.52            1552.50            1547.70  ...   \n",
       "\n",
       "           index_vni_return_1  index_vni_return_2  index_vni_return_3  \\\n",
       "Date                                                                    \n",
       "7/16/2007              -19.90              -21.85              -34.02   \n",
       "7/17/2007                4.50              -15.40              -17.35   \n",
       "7/18/2007               -5.60               -1.10              -21.00   \n",
       "7/19/2007              -10.30              -15.90              -11.40   \n",
       "7/20/2007               -3.12              -13.42              -19.02   \n",
       "\n",
       "           index_vni_return_4  index_vni_return_5  index_vni_return_6  \\\n",
       "Date                                                                    \n",
       "7/16/2007              -27.21              -14.44              -14.70   \n",
       "7/17/2007              -29.52              -22.71               -9.94   \n",
       "7/18/2007              -22.95              -35.12              -28.31   \n",
       "7/19/2007              -31.30              -33.25              -45.42   \n",
       "7/20/2007              -14.52              -34.42              -36.37   \n",
       "\n",
       "           index_vni_return_7  index_vni_return_8  index_vni_return_9  \\\n",
       "Date                                                                    \n",
       "7/16/2007              -16.99              -17.73               18.53   \n",
       "7/17/2007              -10.20              -12.49              -13.23   \n",
       "7/18/2007              -15.54              -15.80              -18.09   \n",
       "7/19/2007              -38.61              -25.84              -26.10   \n",
       "7/20/2007              -48.54              -41.73              -28.96   \n",
       "\n",
       "           index_vni_return_10  \n",
       "Date                            \n",
       "7/16/2007                 1.66  \n",
       "7/17/2007                23.03  \n",
       "7/18/2007               -18.83  \n",
       "7/19/2007               -28.39  \n",
       "7/20/2007               -29.22  \n",
       "\n",
       "[5 rows x 124 columns]"
      ]
     },
     "execution_count": 132,
     "metadata": {},
     "output_type": "execute_result"
    }
   ],
   "source": [
    "data_features.head()"
   ]
  },
  {
   "cell_type": "markdown",
   "metadata": {},
   "source": [
    "# Machine Learning models - Regression\n",
    "\n",
    "We will perform the test on several models to determine which models will perform best. The models are:\n",
    "- Linear Regression (include Ridge and Lasso for avoid multicolinearity)\n",
    "- Decision Trees Regressor\n",
    "- Gradient Boosting Regressor\n",
    "- XGBoost Regressor"
   ]
  },
  {
   "cell_type": "markdown",
   "metadata": {},
   "source": [
    "## Train test split - 70% 20% 10%"
   ]
  },
  {
   "cell_type": "code",
   "execution_count": 12,
   "metadata": {},
   "outputs": [],
   "source": [
    "# Define train test split\n",
    "def train_test_split(df, target):\n",
    "    # Define train, cv, test time\n",
    "    train_time = int(round(len(df) * 0.7))\n",
    "    cv_time = int(round(len(df) * 0.1))\n",
    "    \n",
    "    # Define X, y\n",
    "    X = df.drop(target, axis = 1)\n",
    "    y = df[target]\n",
    "    \n",
    "    # Train test split\n",
    "    X_train = X.iloc[:train_time]\n",
    "    X_cv = X.iloc[train_time : (train_time + cv_time)]\n",
    "    X_test = X.iloc[(train_time + cv_time):]\n",
    "    \n",
    "    y_train = y.iloc[:train_time]\n",
    "    y_cv = y.iloc[train_time : (train_time + cv_time)]\n",
    "    y_test = y.iloc[(train_time + cv_time):]\n",
    "    \n",
    "    # Print out to check shape\n",
    "    print(X_train.shape)\n",
    "    print(X_cv.shape)\n",
    "    print(X_test.shape)\n",
    "    \n",
    "    print(y_train.shape)\n",
    "    print(y_cv.shape)\n",
    "    print(y_test.shape)\n",
    "    \n",
    "    return X_train, y_train, X_cv, y_cv, X_test, y_test"
   ]
  },
  {
   "cell_type": "code",
   "execution_count": 22,
   "metadata": {},
   "outputs": [
    {
     "name": "stdout",
     "output_type": "stream",
     "text": [
      "(2922, 3)\n",
      "(418, 3)\n",
      "(835, 3)\n",
      "(2922,)\n",
      "(418,)\n",
      "(835,)\n"
     ]
    }
   ],
   "source": [
    "# Train test split the dataset\n",
    "X_train, y_train, X_cv, y_cv, X_test, y_test = train_test_split(data, 'index_vni')"
   ]
  },
  {
   "cell_type": "code",
   "execution_count": 31,
   "metadata": {},
   "outputs": [],
   "source": [
    "# Import scaler\n",
    "from sklearn.preprocessing import StandardScaler\n",
    "scaler = StandardScaler()\n",
    "\n",
    "# Scale the data\n",
    "X_train_scaled = scaler.fit_transform(X_train)\n",
    "X_cv_scaled = scaler.transform(X_cv)\n",
    "X_test_scaled = scaler.transform(X_test)"
   ]
  },
  {
   "cell_type": "markdown",
   "metadata": {},
   "source": [
    "## Prepare models\n",
    "\n",
    "We will prepare regression models. We will fit on non-tuned models first to see the model, then based on the result, we will perform further hyperparameters tunning if needed"
   ]
  },
  {
   "cell_type": "code",
   "execution_count": 77,
   "metadata": {},
   "outputs": [],
   "source": [
    "# Import model\n",
    "from sklearn.linear_model import LinearRegression\n",
    "from sklearn.linear_model import Ridge\n",
    "from sklearn.linear_model import Lasso\n",
    "from sklearn.tree import DecisionTreeRegressor\n",
    "from sklearn.ensemble import GradientBoostingRegressor\n",
    "from xgboost import XGBRegressor\n",
    "from sklearn.ensemble import RandomForestRegressor"
   ]
  },
  {
   "cell_type": "code",
   "execution_count": 85,
   "metadata": {},
   "outputs": [],
   "source": [
    "# Call out object\n",
    "lr = LinearRegression()\n",
    "ridge = Ridge(alpha = 15)\n",
    "lasso = Lasso(alpha = 20)\n",
    "dtr = DecisionTreeRegressor(criterion = 'squared_error', max_depth = 10, min_samples_split = 4)\n",
    "gb = GradientBoostingRegressor()\n",
    "xgb = XGBRegressor()\n",
    "rf = RandomForestRegressor(criterion = 'squared_error', max_depth = 10, min_samples_split = 4)\n",
    "\n",
    "# Set models list\n",
    "models = [lr, ridge, lasso, dtr, gb, xgb, rf]"
   ]
  },
  {
   "cell_type": "markdown",
   "metadata": {},
   "source": [
    "## Test models"
   ]
  },
  {
   "cell_type": "code",
   "execution_count": 86,
   "metadata": {},
   "outputs": [],
   "source": [
    "# Import metrics\n",
    "from sklearn.metrics import mean_absolute_error as mae\n",
    "from sklearn.metrics import mean_squared_error as mse\n",
    "\n",
    "def rmse(mse):\n",
    "    rmse = np.sqrt(mse)"
   ]
  },
  {
   "cell_type": "code",
   "execution_count": 87,
   "metadata": {},
   "outputs": [],
   "source": [
    "# Define evaluate model\n",
    "def evaluate_model(model, X_train, y_train, X_cv, y_cv):\n",
    "    \n",
    "    # Fit model and obtain result\n",
    "    model.fit(X_train, y_train)\n",
    "    y_pred_cv = model.predict(X_cv)\n",
    "    MAE = mae(y_cv, y_pred_cv)\n",
    "    MSE = mse(y_cv, y_pred_cv)\n",
    "    RMSE = rmse(MSE)\n",
    "    \n",
    "    # Print result\n",
    "    print(f\"{model} result: \\n\"\n",
    "          f\"MAE: {MAE} \\n\"\n",
    "          f\"MSE: {MSE} \\n\"\n",
    "          f\"RMSE: {RMSE} \\n\")"
   ]
  },
  {
   "cell_type": "code",
   "execution_count": 88,
   "metadata": {},
   "outputs": [
    {
     "name": "stdout",
     "output_type": "stream",
     "text": [
      "LinearRegression() result: \n",
      "MAE: 102.65879809516349 \n",
      "MSE: 21204.551532465335 \n",
      "RMSE: None \n",
      "\n",
      "Ridge(alpha=15) result: \n",
      "MAE: 99.68983842747956 \n",
      "MSE: 19937.125148123094 \n",
      "RMSE: None \n",
      "\n",
      "Lasso(alpha=20) result: \n",
      "MAE: 87.66394658271142 \n",
      "MSE: 9232.927680218125 \n",
      "RMSE: None \n",
      "\n",
      "DecisionTreeRegressor(max_depth=10, min_samples_split=4) result: \n",
      "MAE: 48.391081638755985 \n",
      "MSE: 4055.2495698626776 \n",
      "RMSE: None \n",
      "\n",
      "GradientBoostingRegressor() result: \n",
      "MAE: 40.860416708907614 \n",
      "MSE: 3682.6169748885495 \n",
      "RMSE: None \n",
      "\n",
      "XGBRegressor(base_score=None, booster=None, callbacks=None,\n",
      "             colsample_bylevel=None, colsample_bynode=None,\n",
      "             colsample_bytree=None, early_stopping_rounds=None,\n",
      "             enable_categorical=False, eval_metric=None, feature_types=None,\n",
      "             gamma=None, gpu_id=None, grow_policy=None, importance_type=None,\n",
      "             interaction_constraints=None, learning_rate=None, max_bin=None,\n",
      "             max_cat_threshold=None, max_cat_to_onehot=None,\n",
      "             max_delta_step=None, max_depth=None, max_leaves=None,\n",
      "             min_child_weight=None, missing=nan, monotone_constraints=None,\n",
      "             n_estimators=100, n_jobs=None, num_parallel_tree=None,\n",
      "             predictor=None, random_state=None, ...) result: \n",
      "MAE: 37.63143110795454 \n",
      "MSE: 3724.4076428969897 \n",
      "RMSE: None \n",
      "\n",
      "RandomForestRegressor(max_depth=10, min_samples_split=4) result: \n",
      "MAE: 40.74858328589509 \n",
      "MSE: 3325.4116912167974 \n",
      "RMSE: None \n",
      "\n"
     ]
    }
   ],
   "source": [
    "# Test the model\n",
    "for model in models:\n",
    "    evaluate_model(model, X_train_scaled, y_train, X_cv_scaled, y_cv)"
   ]
  },
  {
   "cell_type": "markdown",
   "metadata": {},
   "source": [
    "XGBoost Regressor has the lowest error, and shows potentials to tunning for more. Furthermore, we just simply fit scaled data without any feature extraction."
   ]
  },
  {
   "cell_type": "code",
   "execution_count": null,
   "metadata": {},
   "outputs": [],
   "source": []
  },
  {
   "cell_type": "code",
   "execution_count": null,
   "metadata": {},
   "outputs": [],
   "source": []
  },
  {
   "cell_type": "code",
   "execution_count": null,
   "metadata": {},
   "outputs": [],
   "source": []
  },
  {
   "cell_type": "code",
   "execution_count": null,
   "metadata": {},
   "outputs": [],
   "source": []
  },
  {
   "cell_type": "code",
   "execution_count": null,
   "metadata": {},
   "outputs": [],
   "source": []
  },
  {
   "cell_type": "code",
   "execution_count": null,
   "metadata": {},
   "outputs": [],
   "source": []
  },
  {
   "cell_type": "code",
   "execution_count": null,
   "metadata": {},
   "outputs": [],
   "source": []
  },
  {
   "cell_type": "code",
   "execution_count": null,
   "metadata": {},
   "outputs": [],
   "source": []
  },
  {
   "cell_type": "code",
   "execution_count": null,
   "metadata": {},
   "outputs": [],
   "source": []
  },
  {
   "cell_type": "code",
   "execution_count": null,
   "metadata": {},
   "outputs": [],
   "source": []
  },
  {
   "cell_type": "code",
   "execution_count": null,
   "metadata": {},
   "outputs": [],
   "source": []
  },
  {
   "cell_type": "code",
   "execution_count": null,
   "metadata": {},
   "outputs": [],
   "source": []
  },
  {
   "cell_type": "code",
   "execution_count": null,
   "metadata": {},
   "outputs": [],
   "source": []
  },
  {
   "cell_type": "code",
   "execution_count": null,
   "metadata": {},
   "outputs": [],
   "source": []
  },
  {
   "cell_type": "code",
   "execution_count": null,
   "metadata": {},
   "outputs": [],
   "source": []
  },
  {
   "cell_type": "code",
   "execution_count": null,
   "metadata": {},
   "outputs": [],
   "source": []
  },
  {
   "cell_type": "code",
   "execution_count": null,
   "metadata": {},
   "outputs": [],
   "source": []
  },
  {
   "cell_type": "code",
   "execution_count": null,
   "metadata": {},
   "outputs": [],
   "source": []
  },
  {
   "cell_type": "code",
   "execution_count": null,
   "metadata": {},
   "outputs": [],
   "source": []
  },
  {
   "cell_type": "code",
   "execution_count": null,
   "metadata": {},
   "outputs": [],
   "source": []
  },
  {
   "cell_type": "code",
   "execution_count": null,
   "metadata": {},
   "outputs": [],
   "source": []
  },
  {
   "cell_type": "code",
   "execution_count": null,
   "metadata": {},
   "outputs": [],
   "source": []
  },
  {
   "cell_type": "code",
   "execution_count": null,
   "metadata": {},
   "outputs": [],
   "source": []
  },
  {
   "cell_type": "code",
   "execution_count": null,
   "metadata": {},
   "outputs": [],
   "source": []
  },
  {
   "cell_type": "code",
   "execution_count": null,
   "metadata": {},
   "outputs": [],
   "source": []
  },
  {
   "cell_type": "code",
   "execution_count": null,
   "metadata": {},
   "outputs": [],
   "source": []
  },
  {
   "cell_type": "code",
   "execution_count": null,
   "metadata": {},
   "outputs": [],
   "source": []
  },
  {
   "cell_type": "code",
   "execution_count": null,
   "metadata": {},
   "outputs": [],
   "source": []
  },
  {
   "cell_type": "code",
   "execution_count": null,
   "metadata": {},
   "outputs": [],
   "source": []
  },
  {
   "cell_type": "code",
   "execution_count": null,
   "metadata": {},
   "outputs": [],
   "source": []
  },
  {
   "cell_type": "code",
   "execution_count": null,
   "metadata": {},
   "outputs": [],
   "source": []
  },
  {
   "cell_type": "code",
   "execution_count": null,
   "metadata": {},
   "outputs": [],
   "source": []
  },
  {
   "cell_type": "code",
   "execution_count": null,
   "metadata": {},
   "outputs": [],
   "source": []
  },
  {
   "cell_type": "code",
   "execution_count": null,
   "metadata": {},
   "outputs": [],
   "source": []
  },
  {
   "cell_type": "code",
   "execution_count": null,
   "metadata": {},
   "outputs": [],
   "source": []
  },
  {
   "cell_type": "code",
   "execution_count": null,
   "metadata": {},
   "outputs": [],
   "source": []
  },
  {
   "cell_type": "code",
   "execution_count": null,
   "metadata": {},
   "outputs": [],
   "source": []
  },
  {
   "cell_type": "code",
   "execution_count": null,
   "metadata": {},
   "outputs": [],
   "source": []
  },
  {
   "cell_type": "code",
   "execution_count": null,
   "metadata": {},
   "outputs": [],
   "source": []
  },
  {
   "cell_type": "code",
   "execution_count": null,
   "metadata": {},
   "outputs": [],
   "source": []
  },
  {
   "cell_type": "code",
   "execution_count": null,
   "metadata": {},
   "outputs": [],
   "source": []
  },
  {
   "cell_type": "code",
   "execution_count": null,
   "metadata": {},
   "outputs": [],
   "source": []
  },
  {
   "cell_type": "code",
   "execution_count": null,
   "metadata": {},
   "outputs": [],
   "source": []
  },
  {
   "cell_type": "code",
   "execution_count": null,
   "metadata": {},
   "outputs": [],
   "source": []
  },
  {
   "cell_type": "code",
   "execution_count": null,
   "metadata": {},
   "outputs": [],
   "source": []
  },
  {
   "cell_type": "code",
   "execution_count": null,
   "metadata": {},
   "outputs": [],
   "source": []
  },
  {
   "cell_type": "code",
   "execution_count": null,
   "metadata": {},
   "outputs": [],
   "source": []
  },
  {
   "cell_type": "code",
   "execution_count": null,
   "metadata": {},
   "outputs": [],
   "source": []
  },
  {
   "cell_type": "code",
   "execution_count": null,
   "metadata": {},
   "outputs": [],
   "source": []
  },
  {
   "cell_type": "code",
   "execution_count": null,
   "metadata": {},
   "outputs": [],
   "source": []
  },
  {
   "cell_type": "code",
   "execution_count": null,
   "metadata": {},
   "outputs": [],
   "source": []
  },
  {
   "cell_type": "code",
   "execution_count": null,
   "metadata": {},
   "outputs": [],
   "source": []
  },
  {
   "cell_type": "code",
   "execution_count": null,
   "metadata": {},
   "outputs": [],
   "source": []
  },
  {
   "cell_type": "code",
   "execution_count": null,
   "metadata": {},
   "outputs": [],
   "source": []
  },
  {
   "cell_type": "code",
   "execution_count": null,
   "metadata": {},
   "outputs": [],
   "source": []
  },
  {
   "cell_type": "code",
   "execution_count": null,
   "metadata": {},
   "outputs": [],
   "source": []
  },
  {
   "cell_type": "code",
   "execution_count": null,
   "metadata": {},
   "outputs": [],
   "source": []
  },
  {
   "cell_type": "code",
   "execution_count": null,
   "metadata": {},
   "outputs": [],
   "source": []
  },
  {
   "cell_type": "code",
   "execution_count": null,
   "metadata": {},
   "outputs": [],
   "source": []
  },
  {
   "cell_type": "code",
   "execution_count": null,
   "metadata": {},
   "outputs": [],
   "source": []
  },
  {
   "cell_type": "code",
   "execution_count": null,
   "metadata": {},
   "outputs": [],
   "source": []
  },
  {
   "cell_type": "code",
   "execution_count": null,
   "metadata": {},
   "outputs": [],
   "source": []
  },
  {
   "cell_type": "code",
   "execution_count": null,
   "metadata": {},
   "outputs": [],
   "source": []
  },
  {
   "cell_type": "code",
   "execution_count": null,
   "metadata": {},
   "outputs": [],
   "source": []
  },
  {
   "cell_type": "code",
   "execution_count": null,
   "metadata": {},
   "outputs": [],
   "source": []
  },
  {
   "cell_type": "code",
   "execution_count": null,
   "metadata": {},
   "outputs": [],
   "source": []
  },
  {
   "cell_type": "code",
   "execution_count": null,
   "metadata": {},
   "outputs": [],
   "source": []
  },
  {
   "cell_type": "code",
   "execution_count": null,
   "metadata": {},
   "outputs": [],
   "source": []
  },
  {
   "cell_type": "code",
   "execution_count": null,
   "metadata": {},
   "outputs": [],
   "source": []
  },
  {
   "cell_type": "code",
   "execution_count": null,
   "metadata": {},
   "outputs": [],
   "source": []
  },
  {
   "cell_type": "code",
   "execution_count": null,
   "metadata": {},
   "outputs": [],
   "source": []
  },
  {
   "cell_type": "code",
   "execution_count": null,
   "metadata": {},
   "outputs": [],
   "source": []
  },
  {
   "cell_type": "code",
   "execution_count": null,
   "metadata": {},
   "outputs": [],
   "source": []
  },
  {
   "cell_type": "code",
   "execution_count": null,
   "metadata": {},
   "outputs": [],
   "source": []
  },
  {
   "cell_type": "code",
   "execution_count": null,
   "metadata": {},
   "outputs": [],
   "source": []
  },
  {
   "cell_type": "code",
   "execution_count": null,
   "metadata": {},
   "outputs": [],
   "source": []
  },
  {
   "cell_type": "code",
   "execution_count": null,
   "metadata": {},
   "outputs": [],
   "source": []
  },
  {
   "cell_type": "code",
   "execution_count": null,
   "metadata": {},
   "outputs": [],
   "source": []
  },
  {
   "cell_type": "code",
   "execution_count": null,
   "metadata": {},
   "outputs": [],
   "source": []
  },
  {
   "cell_type": "code",
   "execution_count": null,
   "metadata": {},
   "outputs": [],
   "source": []
  },
  {
   "cell_type": "code",
   "execution_count": null,
   "metadata": {},
   "outputs": [],
   "source": []
  },
  {
   "cell_type": "code",
   "execution_count": null,
   "metadata": {},
   "outputs": [],
   "source": []
  },
  {
   "cell_type": "code",
   "execution_count": null,
   "metadata": {},
   "outputs": [],
   "source": []
  },
  {
   "cell_type": "code",
   "execution_count": null,
   "metadata": {},
   "outputs": [],
   "source": []
  },
  {
   "cell_type": "code",
   "execution_count": null,
   "metadata": {},
   "outputs": [],
   "source": []
  },
  {
   "cell_type": "code",
   "execution_count": null,
   "metadata": {},
   "outputs": [],
   "source": []
  },
  {
   "cell_type": "code",
   "execution_count": null,
   "metadata": {},
   "outputs": [],
   "source": []
  },
  {
   "cell_type": "code",
   "execution_count": null,
   "metadata": {},
   "outputs": [],
   "source": []
  },
  {
   "cell_type": "code",
   "execution_count": null,
   "metadata": {},
   "outputs": [],
   "source": []
  },
  {
   "cell_type": "code",
   "execution_count": null,
   "metadata": {},
   "outputs": [],
   "source": []
  },
  {
   "cell_type": "code",
   "execution_count": null,
   "metadata": {},
   "outputs": [],
   "source": []
  },
  {
   "cell_type": "code",
   "execution_count": null,
   "metadata": {},
   "outputs": [],
   "source": []
  },
  {
   "cell_type": "code",
   "execution_count": null,
   "metadata": {},
   "outputs": [],
   "source": []
  },
  {
   "cell_type": "code",
   "execution_count": null,
   "metadata": {},
   "outputs": [],
   "source": []
  },
  {
   "cell_type": "code",
   "execution_count": null,
   "metadata": {},
   "outputs": [],
   "source": []
  },
  {
   "cell_type": "code",
   "execution_count": null,
   "metadata": {},
   "outputs": [],
   "source": []
  },
  {
   "cell_type": "code",
   "execution_count": null,
   "metadata": {},
   "outputs": [],
   "source": []
  },
  {
   "cell_type": "code",
   "execution_count": null,
   "metadata": {},
   "outputs": [],
   "source": []
  },
  {
   "cell_type": "code",
   "execution_count": null,
   "metadata": {},
   "outputs": [],
   "source": []
  },
  {
   "cell_type": "code",
   "execution_count": null,
   "metadata": {},
   "outputs": [],
   "source": []
  },
  {
   "cell_type": "code",
   "execution_count": null,
   "metadata": {},
   "outputs": [],
   "source": []
  }
 ],
 "metadata": {
  "kernelspec": {
   "display_name": "Python 3",
   "language": "python",
   "name": "python3"
  },
  "language_info": {
   "codemirror_mode": {
    "name": "ipython",
    "version": 3
   },
   "file_extension": ".py",
   "mimetype": "text/x-python",
   "name": "python",
   "nbconvert_exporter": "python",
   "pygments_lexer": "ipython3",
   "version": "3.11.4"
  },
  "orig_nbformat": 4
 },
 "nbformat": 4,
 "nbformat_minor": 2
}
