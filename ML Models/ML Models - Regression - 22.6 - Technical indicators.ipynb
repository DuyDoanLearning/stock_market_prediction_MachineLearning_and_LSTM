{
 "cells": [
  {
   "cell_type": "markdown",
   "metadata": {},
   "source": [
    "# Machine Learning Models for stock prediction - non transformation version"
   ]
  },
  {
   "cell_type": "markdown",
   "metadata": {},
   "source": [
    "# Import necessary libraries"
   ]
  },
  {
   "cell_type": "code",
   "execution_count": 1,
   "metadata": {},
   "outputs": [],
   "source": [
    "import pandas as pd\n",
    "import numpy as np\n",
    "import matplotlib.pyplot as plt\n",
    "import seaborn as sns\n",
    "sns.set()\n",
    "\n",
    "import warnings\n",
    "warnings.filterwarnings(\"ignore\")"
   ]
  },
  {
   "cell_type": "markdown",
   "metadata": {},
   "source": [
    "## Import data\n",
    "\n",
    "The data was downloaded from Bloomberg on:\n",
    "* Exchange rate of Vietnam with its major trading partners: the China and the US\n",
    "* Precious metal spot price and future price: Gold, Silver, Palladium, Platinum\n",
    "* Global Stock Indices: Hang Seng Index, Nasdaq 100, Nasdaq Composite, Nikkei 225, SP500, DOJI, Shanghai Shenzhen CSI3000, Shanghai Shenzhen Composite and Singapore Stock Index\n",
    "* Volatility stock index: VIX Index\n",
    "\n",
    "The data will be imported from previous EDA session, which has been cleaned."
   ]
  },
  {
   "cell_type": "code",
   "execution_count": 2,
   "metadata": {},
   "outputs": [],
   "source": [
    "# Import data\n",
    "data = pd.read_csv('index_vni_technical.csv')\n",
    "\n",
    "# Transfer date column to date time\n",
    "import datetime\n",
    "data['Date'] = pd.to_datetime(data['Date'], format = '%m/%d/%Y')\n",
    "\n",
    "# Turn date into index\n",
    "data.set_index('Date', inplace = True)"
   ]
  },
  {
   "cell_type": "code",
   "execution_count": 3,
   "metadata": {},
   "outputs": [
    {
     "data": {
      "text/html": [
       "<div>\n",
       "<style scoped>\n",
       "    .dataframe tbody tr th:only-of-type {\n",
       "        vertical-align: middle;\n",
       "    }\n",
       "\n",
       "    .dataframe tbody tr th {\n",
       "        vertical-align: top;\n",
       "    }\n",
       "\n",
       "    .dataframe thead th {\n",
       "        text-align: right;\n",
       "    }\n",
       "</style>\n",
       "<table border=\"1\" class=\"dataframe\">\n",
       "  <thead>\n",
       "    <tr style=\"text-align: right;\">\n",
       "      <th></th>\n",
       "      <th>Close</th>\n",
       "      <th>Open</th>\n",
       "      <th>Low</th>\n",
       "      <th>High</th>\n",
       "      <th>Volume</th>\n",
       "    </tr>\n",
       "    <tr>\n",
       "      <th>Date</th>\n",
       "      <th></th>\n",
       "      <th></th>\n",
       "      <th></th>\n",
       "      <th></th>\n",
       "      <th></th>\n",
       "    </tr>\n",
       "  </thead>\n",
       "  <tbody>\n",
       "    <tr>\n",
       "      <th>2023-06-30</th>\n",
       "      <td>1120.18</td>\n",
       "      <td>1125.39</td>\n",
       "      <td>1120.01</td>\n",
       "      <td>1126.33</td>\n",
       "      <td>617526000</td>\n",
       "    </tr>\n",
       "    <tr>\n",
       "      <th>2023-06-29</th>\n",
       "      <td>1125.39</td>\n",
       "      <td>1139.42</td>\n",
       "      <td>1125.39</td>\n",
       "      <td>1140.43</td>\n",
       "      <td>906890000</td>\n",
       "    </tr>\n",
       "    <tr>\n",
       "      <th>2023-06-28</th>\n",
       "      <td>1138.35</td>\n",
       "      <td>1134.33</td>\n",
       "      <td>1131.86</td>\n",
       "      <td>1140.56</td>\n",
       "      <td>892136000</td>\n",
       "    </tr>\n",
       "    <tr>\n",
       "      <th>2023-06-27</th>\n",
       "      <td>1134.33</td>\n",
       "      <td>1132.03</td>\n",
       "      <td>1128.82</td>\n",
       "      <td>1136.49</td>\n",
       "      <td>721995000</td>\n",
       "    </tr>\n",
       "    <tr>\n",
       "      <th>2023-06-26</th>\n",
       "      <td>1132.03</td>\n",
       "      <td>1129.38</td>\n",
       "      <td>1119.95</td>\n",
       "      <td>1134.00</td>\n",
       "      <td>1040389000</td>\n",
       "    </tr>\n",
       "  </tbody>\n",
       "</table>\n",
       "</div>"
      ],
      "text/plain": [
       "              Close     Open      Low     High      Volume\n",
       "Date                                                      \n",
       "2023-06-30  1120.18  1125.39  1120.01  1126.33   617526000\n",
       "2023-06-29  1125.39  1139.42  1125.39  1140.43   906890000\n",
       "2023-06-28  1138.35  1134.33  1131.86  1140.56   892136000\n",
       "2023-06-27  1134.33  1132.03  1128.82  1136.49   721995000\n",
       "2023-06-26  1132.03  1129.38  1119.95  1134.00  1040389000"
      ]
     },
     "execution_count": 3,
     "metadata": {},
     "output_type": "execute_result"
    }
   ],
   "source": [
    "data.head()"
   ]
  },
  {
   "cell_type": "markdown",
   "metadata": {},
   "source": [
    "# Feature Extraction\n",
    "\n",
    "We will generate the following set of features:\n",
    "- Price statistics (High-Low, Open-Close, price and volume difference)\n",
    "- Simple Moving Average\n",
    "- Exponential Moving Average"
   ]
  },
  {
   "cell_type": "code",
   "execution_count": 4,
   "metadata": {},
   "outputs": [],
   "source": [
    "# Reversed the data so we calculate the data backward\n",
    "data = data[::-1]"
   ]
  },
  {
   "cell_type": "markdown",
   "metadata": {},
   "source": [
    "## Generate features"
   ]
  },
  {
   "cell_type": "code",
   "execution_count": 5,
   "metadata": {},
   "outputs": [],
   "source": [
    "## Generate simple price features\n",
    "\n",
    "# Price indicators\n",
    "data['H-L'] = data['High'] - data['Low'] \n",
    "data['O-C'] = data['Close'] - data['Open'] \n",
    "\n",
    "# Moving Average\n",
    "data['3_sma'] = data['Close'].rolling(3).mean()\n",
    "data['7_sma'] = data['Close'].rolling(7).mean()\n",
    "data['10_sma'] = data['Close'].rolling(window = 10).mean() \n",
    "data['14_sma'] = data['Close'].rolling(14).mean()\n",
    "data['21_sma'] = data['Close'].rolling(21).mean()\n",
    "data['30_sma'] = data['Close'].rolling(window = 30).mean()\n",
    "\n",
    "# Stock volatility\n",
    "data['5_std']= data['Close'].rolling(5).std() \n",
    "data['7_std'] = data['Close'].rolling(7).std()\n",
    "data['14_std'] = data['Close'].rolling(14).std()\n",
    "\n",
    "# Volume volatility\n",
    "data['vol_diff'] = data['Volume'] - data['Volume'].shift(periods = 1)\n",
    "\n",
    "# Alternative technical indicators\n",
    "data['Low_diff'] = data['Low'] - data['Low'].shift(periods = 1)\n",
    "data['High_diff'] = data['High'] - data['High'].shift(periods = 1)\n",
    "data['Close_diff'] = data['Close'] - data['Close'].shift(periods = 1)\n",
    "data['Vol_diff'] = data['Volume'] - data['Volume'].shift(periods = 1)\n",
    "data['Range_diff'] = data['H-L'] - data['H-L'].shift(periods = 1)"
   ]
  },
  {
   "cell_type": "code",
   "execution_count": 6,
   "metadata": {},
   "outputs": [],
   "source": [
    "## Define 50 days EMA and SMA\n",
    "# Calculate the SMA\n",
    "data['50_sma'] = data['Close'].rolling(50).mean()\n",
    "\n",
    "# Calculate the EMA\n",
    "data['50_ema'] = data['Close'].ewm(span = 50, adjust = False).mean()"
   ]
  },
  {
   "cell_type": "code",
   "execution_count": 7,
   "metadata": {},
   "outputs": [],
   "source": [
    "## Define 100 days EMA and SMA\n",
    "data['100_sma'] = data['Close'].rolling(100).mean()\n",
    "data['100_ema'] = data['Close'].ewm(span = 100, adjust = False).mean()"
   ]
  },
  {
   "cell_type": "code",
   "execution_count": 8,
   "metadata": {},
   "outputs": [],
   "source": [
    "# Window length for moving average\n",
    "length = 14\n",
    "# Define function to calculate the RSI\n",
    "def calc_rsi(over: pd.Series, fn_roll) -> pd.Series:\n",
    "    # Get the daily return\n",
    "    delta = over.diff()\n",
    "    # Get rid of the first day NaN\n",
    "    delta = delta[1:]\n",
    "    \n",
    "    # Make the positive gains (up) and negative gains (downs) series\n",
    "    up, down = delta.clip(lower = 0), delta.clip(upper = 0).abs()\n",
    "    \n",
    "    roll_up, roll_down = fn_roll(up), fn_roll(down)\n",
    "    rs = roll_up / roll_down\n",
    "    rsi = 100 - (100 / (1 +rs))\n",
    "    \n",
    "    # Avoid division-by-zero if 'roll down' is zero\n",
    "    # This prevents inf and/or nan values:\n",
    "    rsi[:] = np.select([roll_down == 0, roll_up == 0, True], [100,0, rsi])\n",
    "    rsi.name = 'rsi'\n",
    "    \n",
    "    # Assert range\n",
    "    valid_rsi = rsi[length -1:]\n",
    "    assert ((0 <= valid_rsi) & (valid_rsi <= 100)).all()\n",
    "    \n",
    "    return rsi"
   ]
  },
  {
   "cell_type": "code",
   "execution_count": 10,
   "metadata": {},
   "outputs": [],
   "source": [
    "# Calculate RSI using MA of choice\n",
    "close = data['Close']\n",
    "# Reminder: Provide ≥ `1 + length` extra data points!\n",
    "data['rsi_ema'] = calc_rsi(close, lambda s: s.ewm(span=length).mean())\n",
    "data['rsi_sma'] = calc_rsi(close, lambda s: s.rolling(length).mean())\n",
    "data['rsi_rma'] = calc_rsi(close, lambda s: s.ewm(alpha=1 / length).mean())  # Approximates TradingView.\n",
    "data = data.dropna()"
   ]
  },
  {
   "cell_type": "code",
   "execution_count": 11,
   "metadata": {},
   "outputs": [],
   "source": [
    "def gain(x):\n",
    "    return((x > 0) * x).sum()\n",
    "def loss(x):\n",
    "    return((x < 0) * x).sum()\n",
    "\n",
    "# Function to calculate MFI\n",
    "def mfi_function(high, low, close, volume, n = 14):\n",
    "    typical_price = (high + low + close) / 3\n",
    "    money_flow = typical_price * volume\n",
    "    mf_sign = np.where(typical_price > typical_price.shift(1), 1, -1)\n",
    "    signed_mf = money_flow * mf_sign\n",
    "    mf_avg_gain = signed_mf.rolling(n).apply(gain, raw = True)\n",
    "    mf_avg_loss = signed_mf.rolling(n).apply(loss, raw = True)\n",
    "    return (100 - (100 / (1 + (mf_avg_gain / abs(mf_avg_loss))))).to_numpy()\n",
    "\n",
    "data['mfi'] = mfi_function(data['High'], data['Low'], data['Close'], data['Volume'], 14)"
   ]
  },
  {
   "cell_type": "code",
   "execution_count": 13,
   "metadata": {},
   "outputs": [],
   "source": [
    "# Calculate the SMA\n",
    "data['50_sma'] = data['Close'].rolling(50).mean()\n",
    "\n",
    "# Calculate the EMA\n",
    "data['50_ema'] = data['Close'].ewm(span = 50, adjust = False).mean()"
   ]
  },
  {
   "cell_type": "markdown",
   "metadata": {},
   "source": [
    "100 days MA"
   ]
  },
  {
   "cell_type": "code",
   "execution_count": 14,
   "metadata": {},
   "outputs": [],
   "source": [
    "data['100_sma'] = data['Close'].rolling(100).mean()\n",
    "data['100_ema'] = data['Close'].ewm(span = 100, adjust = False).mean()"
   ]
  },
  {
   "cell_type": "code",
   "execution_count": 15,
   "metadata": {},
   "outputs": [],
   "source": [
    "high_low = data['H-L']\n",
    "high_close = np.abs(data['High'] - data['Close'].shift(1))\n",
    "low_close = np.abs(data['Low'] - data['Close'].shift(1))\n",
    "\n",
    "ranges = pd.concat([high_low, high_close, low_close], axis = 1)\n",
    "true_range = np.max(ranges, axis = 1)\n",
    "\n",
    "atr = true_range.rolling(14).sum()/14\n",
    "\n",
    "data['true_range'] = true_range\n",
    "data['avg_true_range'] = atr"
   ]
  },
  {
   "cell_type": "code",
   "execution_count": 16,
   "metadata": {},
   "outputs": [],
   "source": [
    "# Calculate the MACD\n",
    "data['macd'] = (data['Close'].ewm(span = 9, adjust = False).mean()) - (data['Close'].ewm(span = 26, adjust = False).mean())"
   ]
  },
  {
   "cell_type": "markdown",
   "metadata": {},
   "source": [
    "### Check the features"
   ]
  },
  {
   "cell_type": "code",
   "execution_count": 17,
   "metadata": {},
   "outputs": [
    {
     "data": {
      "text/html": [
       "<div>\n",
       "<style scoped>\n",
       "    .dataframe tbody tr th:only-of-type {\n",
       "        vertical-align: middle;\n",
       "    }\n",
       "\n",
       "    .dataframe tbody tr th {\n",
       "        vertical-align: top;\n",
       "    }\n",
       "\n",
       "    .dataframe thead th {\n",
       "        text-align: right;\n",
       "    }\n",
       "</style>\n",
       "<table border=\"1\" class=\"dataframe\">\n",
       "  <thead>\n",
       "    <tr style=\"text-align: right;\">\n",
       "      <th></th>\n",
       "      <th>Close</th>\n",
       "      <th>Open</th>\n",
       "      <th>Low</th>\n",
       "      <th>High</th>\n",
       "      <th>Volume</th>\n",
       "      <th>H-L</th>\n",
       "      <th>O-C</th>\n",
       "      <th>3_sma</th>\n",
       "      <th>7_sma</th>\n",
       "      <th>10_sma</th>\n",
       "      <th>...</th>\n",
       "      <th>50_ema</th>\n",
       "      <th>100_sma</th>\n",
       "      <th>100_ema</th>\n",
       "      <th>rsi_ema</th>\n",
       "      <th>rsi_sma</th>\n",
       "      <th>rsi_rma</th>\n",
       "      <th>mfi</th>\n",
       "      <th>true_range</th>\n",
       "      <th>avg_true_range</th>\n",
       "      <th>macd</th>\n",
       "    </tr>\n",
       "  </thead>\n",
       "  <tbody>\n",
       "    <tr>\n",
       "      <th>count</th>\n",
       "      <td>3986.000000</td>\n",
       "      <td>3986.000000</td>\n",
       "      <td>3986.000000</td>\n",
       "      <td>3986.000000</td>\n",
       "      <td>3.986000e+03</td>\n",
       "      <td>3986.000000</td>\n",
       "      <td>3986.000000</td>\n",
       "      <td>3986.000000</td>\n",
       "      <td>3986.000000</td>\n",
       "      <td>3986.000000</td>\n",
       "      <td>...</td>\n",
       "      <td>3986.000000</td>\n",
       "      <td>3887.000000</td>\n",
       "      <td>3986.000000</td>\n",
       "      <td>3986.000000</td>\n",
       "      <td>3986.000000</td>\n",
       "      <td>3986.000000</td>\n",
       "      <td>3973.000000</td>\n",
       "      <td>3986.000000</td>\n",
       "      <td>3973.000000</td>\n",
       "      <td>3986.000000</td>\n",
       "    </tr>\n",
       "    <tr>\n",
       "      <th>mean</th>\n",
       "      <td>736.006252</td>\n",
       "      <td>736.051197</td>\n",
       "      <td>730.904704</td>\n",
       "      <td>740.901177</td>\n",
       "      <td>2.095157e+08</td>\n",
       "      <td>9.996473</td>\n",
       "      <td>-0.044945</td>\n",
       "      <td>735.976035</td>\n",
       "      <td>735.913132</td>\n",
       "      <td>735.876496</td>\n",
       "      <td>...</td>\n",
       "      <td>735.511265</td>\n",
       "      <td>728.656264</td>\n",
       "      <td>735.158534</td>\n",
       "      <td>52.826318</td>\n",
       "      <td>53.120242</td>\n",
       "      <td>52.126286</td>\n",
       "      <td>53.062192</td>\n",
       "      <td>11.319182</td>\n",
       "      <td>11.326611</td>\n",
       "      <td>0.190434</td>\n",
       "    </tr>\n",
       "    <tr>\n",
       "      <th>std</th>\n",
       "      <td>304.411400</td>\n",
       "      <td>304.499621</td>\n",
       "      <td>302.008221</td>\n",
       "      <td>306.395283</td>\n",
       "      <td>2.493532e+08</td>\n",
       "      <td>8.455297</td>\n",
       "      <td>8.877335</td>\n",
       "      <td>304.299361</td>\n",
       "      <td>304.081870</td>\n",
       "      <td>303.922291</td>\n",
       "      <td>...</td>\n",
       "      <td>300.462057</td>\n",
       "      <td>299.841612</td>\n",
       "      <td>295.958370</td>\n",
       "      <td>19.127796</td>\n",
       "      <td>20.034674</td>\n",
       "      <td>14.665556</td>\n",
       "      <td>17.609413</td>\n",
       "      <td>8.930248</td>\n",
       "      <td>6.794356</td>\n",
       "      <td>18.342658</td>\n",
       "    </tr>\n",
       "    <tr>\n",
       "      <th>min</th>\n",
       "      <td>235.500000</td>\n",
       "      <td>236.570000</td>\n",
       "      <td>234.660000</td>\n",
       "      <td>236.700000</td>\n",
       "      <td>1.340000e+06</td>\n",
       "      <td>0.270000</td>\n",
       "      <td>-68.310000</td>\n",
       "      <td>240.786667</td>\n",
       "      <td>243.034286</td>\n",
       "      <td>243.798000</td>\n",
       "      <td>...</td>\n",
       "      <td>272.982859</td>\n",
       "      <td>290.770200</td>\n",
       "      <td>303.450700</td>\n",
       "      <td>0.932786</td>\n",
       "      <td>0.000000</td>\n",
       "      <td>6.514197</td>\n",
       "      <td>0.000000</td>\n",
       "      <td>0.760000</td>\n",
       "      <td>3.199286</td>\n",
       "      <td>-82.846792</td>\n",
       "    </tr>\n",
       "    <tr>\n",
       "      <th>25%</th>\n",
       "      <td>488.932500</td>\n",
       "      <td>488.765000</td>\n",
       "      <td>485.455000</td>\n",
       "      <td>492.747500</td>\n",
       "      <td>4.469275e+07</td>\n",
       "      <td>5.030000</td>\n",
       "      <td>-3.490000</td>\n",
       "      <td>488.384167</td>\n",
       "      <td>488.201786</td>\n",
       "      <td>488.100250</td>\n",
       "      <td>...</td>\n",
       "      <td>487.642785</td>\n",
       "      <td>486.493100</td>\n",
       "      <td>487.555335</td>\n",
       "      <td>38.700042</td>\n",
       "      <td>37.720648</td>\n",
       "      <td>41.563225</td>\n",
       "      <td>40.836120</td>\n",
       "      <td>5.832500</td>\n",
       "      <td>6.718571</td>\n",
       "      <td>-7.400469</td>\n",
       "    </tr>\n",
       "    <tr>\n",
       "      <th>50%</th>\n",
       "      <td>615.745000</td>\n",
       "      <td>615.985000</td>\n",
       "      <td>612.070000</td>\n",
       "      <td>620.690000</td>\n",
       "      <td>1.184730e+08</td>\n",
       "      <td>7.420000</td>\n",
       "      <td>0.165000</td>\n",
       "      <td>615.518333</td>\n",
       "      <td>615.439286</td>\n",
       "      <td>614.279500</td>\n",
       "      <td>...</td>\n",
       "      <td>606.825384</td>\n",
       "      <td>593.114100</td>\n",
       "      <td>598.600820</td>\n",
       "      <td>53.448918</td>\n",
       "      <td>53.366894</td>\n",
       "      <td>52.155245</td>\n",
       "      <td>53.917219</td>\n",
       "      <td>8.580000</td>\n",
       "      <td>9.150714</td>\n",
       "      <td>1.820978</td>\n",
       "    </tr>\n",
       "    <tr>\n",
       "      <th>75%</th>\n",
       "      <td>973.575000</td>\n",
       "      <td>972.995000</td>\n",
       "      <td>968.150000</td>\n",
       "      <td>977.702500</td>\n",
       "      <td>2.248825e+08</td>\n",
       "      <td>11.790000</td>\n",
       "      <td>4.040000</td>\n",
       "      <td>973.735000</td>\n",
       "      <td>973.993214</td>\n",
       "      <td>975.032750</td>\n",
       "      <td>...</td>\n",
       "      <td>972.956357</td>\n",
       "      <td>971.593300</td>\n",
       "      <td>973.247000</td>\n",
       "      <td>67.373972</td>\n",
       "      <td>69.150152</td>\n",
       "      <td>62.821606</td>\n",
       "      <td>65.545421</td>\n",
       "      <td>13.657500</td>\n",
       "      <td>14.011429</td>\n",
       "      <td>10.090804</td>\n",
       "    </tr>\n",
       "    <tr>\n",
       "      <th>max</th>\n",
       "      <td>1528.570000</td>\n",
       "      <td>1534.100000</td>\n",
       "      <td>1524.960000</td>\n",
       "      <td>1536.450000</td>\n",
       "      <td>1.522741e+09</td>\n",
       "      <td>83.750000</td>\n",
       "      <td>58.280000</td>\n",
       "      <td>1526.516667</td>\n",
       "      <td>1515.951429</td>\n",
       "      <td>1510.201000</td>\n",
       "      <td>...</td>\n",
       "      <td>1490.390027</td>\n",
       "      <td>1484.568800</td>\n",
       "      <td>1471.077126</td>\n",
       "      <td>98.194873</td>\n",
       "      <td>99.783862</td>\n",
       "      <td>93.568041</td>\n",
       "      <td>100.000000</td>\n",
       "      <td>83.750000</td>\n",
       "      <td>46.095714</td>\n",
       "      <td>59.628964</td>\n",
       "    </tr>\n",
       "  </tbody>\n",
       "</table>\n",
       "<p>8 rows × 33 columns</p>\n",
       "</div>"
      ],
      "text/plain": [
       "             Close         Open          Low         High        Volume  \\\n",
       "count  3986.000000  3986.000000  3986.000000  3986.000000  3.986000e+03   \n",
       "mean    736.006252   736.051197   730.904704   740.901177  2.095157e+08   \n",
       "std     304.411400   304.499621   302.008221   306.395283  2.493532e+08   \n",
       "min     235.500000   236.570000   234.660000   236.700000  1.340000e+06   \n",
       "25%     488.932500   488.765000   485.455000   492.747500  4.469275e+07   \n",
       "50%     615.745000   615.985000   612.070000   620.690000  1.184730e+08   \n",
       "75%     973.575000   972.995000   968.150000   977.702500  2.248825e+08   \n",
       "max    1528.570000  1534.100000  1524.960000  1536.450000  1.522741e+09   \n",
       "\n",
       "               H-L          O-C        3_sma        7_sma       10_sma  ...  \\\n",
       "count  3986.000000  3986.000000  3986.000000  3986.000000  3986.000000  ...   \n",
       "mean      9.996473    -0.044945   735.976035   735.913132   735.876496  ...   \n",
       "std       8.455297     8.877335   304.299361   304.081870   303.922291  ...   \n",
       "min       0.270000   -68.310000   240.786667   243.034286   243.798000  ...   \n",
       "25%       5.030000    -3.490000   488.384167   488.201786   488.100250  ...   \n",
       "50%       7.420000     0.165000   615.518333   615.439286   614.279500  ...   \n",
       "75%      11.790000     4.040000   973.735000   973.993214   975.032750  ...   \n",
       "max      83.750000    58.280000  1526.516667  1515.951429  1510.201000  ...   \n",
       "\n",
       "            50_ema      100_sma      100_ema      rsi_ema      rsi_sma  \\\n",
       "count  3986.000000  3887.000000  3986.000000  3986.000000  3986.000000   \n",
       "mean    735.511265   728.656264   735.158534    52.826318    53.120242   \n",
       "std     300.462057   299.841612   295.958370    19.127796    20.034674   \n",
       "min     272.982859   290.770200   303.450700     0.932786     0.000000   \n",
       "25%     487.642785   486.493100   487.555335    38.700042    37.720648   \n",
       "50%     606.825384   593.114100   598.600820    53.448918    53.366894   \n",
       "75%     972.956357   971.593300   973.247000    67.373972    69.150152   \n",
       "max    1490.390027  1484.568800  1471.077126    98.194873    99.783862   \n",
       "\n",
       "           rsi_rma          mfi   true_range  avg_true_range         macd  \n",
       "count  3986.000000  3973.000000  3986.000000     3973.000000  3986.000000  \n",
       "mean     52.126286    53.062192    11.319182       11.326611     0.190434  \n",
       "std      14.665556    17.609413     8.930248        6.794356    18.342658  \n",
       "min       6.514197     0.000000     0.760000        3.199286   -82.846792  \n",
       "25%      41.563225    40.836120     5.832500        6.718571    -7.400469  \n",
       "50%      52.155245    53.917219     8.580000        9.150714     1.820978  \n",
       "75%      62.821606    65.545421    13.657500       14.011429    10.090804  \n",
       "max      93.568041   100.000000    83.750000       46.095714    59.628964  \n",
       "\n",
       "[8 rows x 33 columns]"
      ]
     },
     "execution_count": 17,
     "metadata": {},
     "output_type": "execute_result"
    }
   ],
   "source": [
    "# Describe statistics\n",
    "data.describe()"
   ]
  },
  {
   "cell_type": "code",
   "execution_count": 18,
   "metadata": {},
   "outputs": [],
   "source": [
    "# Exclude missing values\n",
    "data = data.iloc[100:]"
   ]
  },
  {
   "cell_type": "markdown",
   "metadata": {},
   "source": [
    "# Machine Learning models - Regression\n",
    "\n",
    "We will perform the test on several models to determine which models will perform best. The models are:\n",
    "- Linear Regression (include Ridge and Lasso for avoid multicolinearity)\n",
    "- Decision Trees Regressor\n",
    "- Gradient Boosting Regressor\n",
    "- Random Forest Regressors\n",
    "- XGBoost Regressor\n",
    "- Support Vector Regressor"
   ]
  },
  {
   "cell_type": "markdown",
   "metadata": {},
   "source": [
    "## Train test split - 80% for training and 20% for testing"
   ]
  },
  {
   "cell_type": "code",
   "execution_count": 20,
   "metadata": {},
   "outputs": [],
   "source": [
    "# Define train test split\n",
    "def train_test_split(df, target):\n",
    "    # Define train, cv, test time\n",
    "    train_time = int(round(len(df) * 0.8))\n",
    "    \n",
    "    # Define X, y\n",
    "    X = df.drop(target, axis = 1)\n",
    "    y = df[target]\n",
    "    \n",
    "    # Train test split\n",
    "    X_train = X.iloc[:train_time]\n",
    "    X_test = X.iloc[train_time:]\n",
    "    \n",
    "    y_train = y.iloc[:train_time]\n",
    "    y_test = y.iloc[train_time:]\n",
    "    \n",
    "    # Print out to check shape\n",
    "    print(X_train.shape)\n",
    "    print(X_test.shape)\n",
    "    \n",
    "    print(y_train.shape)\n",
    "    print(y_test.shape)\n",
    "    \n",
    "    return X_train, y_train, X_test, y_test"
   ]
  },
  {
   "cell_type": "code",
   "execution_count": 21,
   "metadata": {},
   "outputs": [
    {
     "name": "stdout",
     "output_type": "stream",
     "text": [
      "(3109, 32)\n",
      "(777, 32)\n",
      "(3109,)\n",
      "(777,)\n"
     ]
    }
   ],
   "source": [
    "# Train test split the dataset\n",
    "X_train, y_train, X_test, y_test = train_test_split(data, 'Close')"
   ]
  },
  {
   "cell_type": "code",
   "execution_count": 23,
   "metadata": {},
   "outputs": [
    {
     "name": "stdout",
     "output_type": "stream",
     "text": [
      "(3109, 32)\n",
      "(777, 32)\n",
      "(3109,)\n",
      "(777,)\n"
     ]
    }
   ],
   "source": [
    "train_time = int(round(len(data) * 0.8))\n",
    "    \n",
    "# Define X, y\n",
    "X = data.drop('Close', axis = 1)\n",
    "y = data['Close']\n",
    "    \n",
    "# Train test split\n",
    "X_train = X.iloc[:train_time]\n",
    "X_test = X.iloc[train_time:]\n",
    "    \n",
    "y_train = y.iloc[:train_time]\n",
    "y_test = y.iloc[train_time:]\n",
    "    \n",
    "# Print out to check shape\n",
    "print(X_train.shape)\n",
    "print(X_test.shape)\n",
    "    \n",
    "print(y_train.shape)\n",
    "print(y_test.shape)"
   ]
  },
  {
   "cell_type": "code",
   "execution_count": 24,
   "metadata": {},
   "outputs": [],
   "source": [
    "# Import scaler\n",
    "from sklearn.preprocessing import MinMaxScaler\n",
    "scaler = MinMaxScaler()\n",
    "\n",
    "# Scale the data\n",
    "X_train_scaled = scaler.fit_transform(X_train)\n",
    "X_test_scaled = scaler.transform(X_test)"
   ]
  },
  {
   "cell_type": "markdown",
   "metadata": {},
   "source": [
    "## Prepare models\n",
    "\n",
    "We will prepare regression models. We will fit on non-tuned models first to see the model, then based on the result, we will perform further hyperparameters tunning if needed"
   ]
  },
  {
   "cell_type": "code",
   "execution_count": 25,
   "metadata": {},
   "outputs": [],
   "source": [
    "# Import model\n",
    "from sklearn.linear_model import LinearRegression\n",
    "from sklearn.linear_model import Ridge\n",
    "from sklearn.linear_model import Lasso\n",
    "from sklearn.tree import DecisionTreeRegressor\n",
    "from sklearn.ensemble import GradientBoostingRegressor\n",
    "from xgboost import XGBRegressor\n",
    "from sklearn.ensemble import RandomForestRegressor\n",
    "from sklearn.svm import SVR"
   ]
  },
  {
   "cell_type": "code",
   "execution_count": 26,
   "metadata": {},
   "outputs": [],
   "source": [
    "# Call out object\n",
    "lr = LinearRegression()\n",
    "ridge = Ridge(alpha = 0.1)\n",
    "lasso = Lasso(alpha = 0.1)\n",
    "dtr = DecisionTreeRegressor(criterion = 'squared_error', max_depth = 10, min_samples_split = 4)\n",
    "gb = GradientBoostingRegressor()\n",
    "xgb = XGBRegressor()\n",
    "rf = RandomForestRegressor(criterion = 'squared_error', max_depth = 10, min_samples_split = 4)\n",
    "svr = SVR()\n",
    "\n",
    "# Set models list\n",
    "models = [lr, ridge, lasso, dtr, gb, xgb, rf, svr]"
   ]
  },
  {
   "cell_type": "markdown",
   "metadata": {},
   "source": [
    "### Prepare necessary metrics and functions"
   ]
  },
  {
   "cell_type": "code",
   "execution_count": 27,
   "metadata": {},
   "outputs": [],
   "source": [
    "# Import metrics\n",
    "from sklearn.metrics import mean_absolute_error as mae\n",
    "from sklearn.metrics import mean_squared_error as mse\n",
    "\n",
    "def rmse(mse):\n",
    "    rmse = np.sqrt(mse)"
   ]
  },
  {
   "cell_type": "code",
   "execution_count": 28,
   "metadata": {},
   "outputs": [],
   "source": [
    "# Define evaluate model\n",
    "def evaluate_model(model, X_train, y_train, X_cv, y_cv):\n",
    "    # Fit model and obtain result\n",
    "    model.fit(X_train, y_train)\n",
    "    y_pred_cv = model.predict(X_cv)\n",
    "    MAE = mae(y_cv, y_pred_cv)\n",
    "    MSE = mse(y_cv, y_pred_cv)\n",
    "    RMSE = rmse(MSE)\n",
    "\n",
    "    # Store result\n",
    "    return MAE, MSE, RMSE"
   ]
  },
  {
   "cell_type": "markdown",
   "metadata": {},
   "source": [
    "## Evaluate model"
   ]
  },
  {
   "cell_type": "code",
   "execution_count": 29,
   "metadata": {},
   "outputs": [
    {
     "data": {
      "text/html": [
       "<div>\n",
       "<style scoped>\n",
       "    .dataframe tbody tr th:only-of-type {\n",
       "        vertical-align: middle;\n",
       "    }\n",
       "\n",
       "    .dataframe tbody tr th {\n",
       "        vertical-align: top;\n",
       "    }\n",
       "\n",
       "    .dataframe thead th {\n",
       "        text-align: right;\n",
       "    }\n",
       "</style>\n",
       "<table border=\"1\" class=\"dataframe\">\n",
       "  <thead>\n",
       "    <tr style=\"text-align: right;\">\n",
       "      <th></th>\n",
       "      <th>MAE</th>\n",
       "      <th>MSE</th>\n",
       "    </tr>\n",
       "  </thead>\n",
       "  <tbody>\n",
       "    <tr>\n",
       "      <th>Linear Regression</th>\n",
       "      <td>0.000</td>\n",
       "      <td>0.000</td>\n",
       "    </tr>\n",
       "    <tr>\n",
       "      <th>Ridge</th>\n",
       "      <td>1.920</td>\n",
       "      <td>7.332</td>\n",
       "    </tr>\n",
       "    <tr>\n",
       "      <th>Lasso</th>\n",
       "      <td>2.304</td>\n",
       "      <td>8.856</td>\n",
       "    </tr>\n",
       "    <tr>\n",
       "      <th>Gradient Boosting</th>\n",
       "      <td>76.473</td>\n",
       "      <td>16441.537</td>\n",
       "    </tr>\n",
       "    <tr>\n",
       "      <th>XGBoost</th>\n",
       "      <td>77.793</td>\n",
       "      <td>16387.064</td>\n",
       "    </tr>\n",
       "    <tr>\n",
       "      <th>Random Forest</th>\n",
       "      <td>78.724</td>\n",
       "      <td>17170.648</td>\n",
       "    </tr>\n",
       "    <tr>\n",
       "      <th>Decision Tree</th>\n",
       "      <td>79.215</td>\n",
       "      <td>16923.703</td>\n",
       "    </tr>\n",
       "    <tr>\n",
       "      <th>SVR</th>\n",
       "      <td>391.051</td>\n",
       "      <td>218657.079</td>\n",
       "    </tr>\n",
       "  </tbody>\n",
       "</table>\n",
       "</div>"
      ],
      "text/plain": [
       "                       MAE         MSE\n",
       "Linear Regression    0.000       0.000\n",
       "Ridge                1.920       7.332\n",
       "Lasso                2.304       8.856\n",
       "Gradient Boosting   76.473   16441.537\n",
       "XGBoost             77.793   16387.064\n",
       "Random Forest       78.724   17170.648\n",
       "Decision Tree       79.215   16923.703\n",
       "SVR                391.051  218657.079"
      ]
     },
     "execution_count": 29,
     "metadata": {},
     "output_type": "execute_result"
    }
   ],
   "source": [
    "# Measure performance of models on generated features\n",
    "# Test with models\n",
    "col = ['Linear Regression','Ridge','Lasso','Decision Tree','Gradient Boosting','XGBoost','Random Forest', 'SVR']\n",
    "MAE_cv = []\n",
    "MSE_cv = []\n",
    "\n",
    "for model in models:\n",
    "    MAE, MSE, RMSE = evaluate_model(model, X_train_scaled, y_train, X_test_scaled, y_test)\n",
    "    MAE_cv.append(round(MAE, 3))\n",
    "    MSE_cv.append(round(MSE,3))\n",
    "\n",
    "cv_result = pd.DataFrame(data = [MAE_cv, MSE_cv], columns = [col], index = ['MAE','MSE'])\n",
    "cv_result.T.sort_values(by = 'MAE')"
   ]
  },
  {
   "cell_type": "code",
   "execution_count": 30,
   "metadata": {},
   "outputs": [],
   "source": [
    "## Visualize the top 3 lowest result models\n",
    "\n",
    "# Refit to obtain model\n",
    "lr.fit(X_train_scaled, y_train)\n",
    "ridge.fit(X_train_scaled, y_train)\n",
    "lr.fit(X_train_scaled, y_train)\n",
    "\n",
    "# Obtain predictions\n",
    "lr_pred = lr.predict(X_test_scaled)\n",
    "ridge_pred = ridge.predict(X_test_scaled)\n",
    "lasso_pred = lasso.predict(X_test_scaled)"
   ]
  },
  {
   "cell_type": "code",
   "execution_count": 31,
   "metadata": {},
   "outputs": [],
   "source": [
    "# Obtain index date for prediction\n",
    "date_index = X_test.index\n",
    "\n",
    "# Turn prediction into dataframe\n",
    "lr_pred = pd.DataFrame(data = lr_pred, index = date_index)\n",
    "ridge_pred = pd.DataFrame(data = ridge_pred, index = date_index)\n",
    "lasso_pred = pd.DataFrame(data = lasso_pred, index = date_index)"
   ]
  },
  {
   "cell_type": "code",
   "execution_count": 32,
   "metadata": {},
   "outputs": [
    {
     "data": {
      "image/png": "[encoded data removed]",
      "text/plain": [
       "<Figure size 1000x400 with 1 Axes>"
      ]
     },
     "metadata": {},
     "output_type": "display_data"
    }
   ],
   "source": [
    "# Plot the visualization\n",
    "actual = data['Close'].iloc[-791:]\n",
    "\n",
    "fig, ax = plt.subplots(figsize = (10, 4))\n",
    "ax.plot(lr_pred, color = 'y', label = 'LR prediction')\n",
    "ax.plot(ridge_pred, color = 'r', label = 'Ridge prediction')\n",
    "ax.plot(lasso_pred, color = 'b', label = 'Lasso prediction')\n",
    "ax.plot(actual, color = 'g', label = 'Actual price')\n",
    "ax.legend()\n",
    "plt.show()"
   ]
  },
  {
   "cell_type": "markdown",
   "metadata": {},
   "source": [
    "The model predicts very well and it seems like global stock indices are not outperformed the predictions of normal technical indicators. Let's take a closer look at shorter timeframe"
   ]
  },
  {
   "cell_type": "code",
   "execution_count": 33,
   "metadata": {},
   "outputs": [],
   "source": [
    "# Define start and end period\n",
    "import datetime\n",
    "start = datetime.datetime(2023,1,1)\n",
    "end = datetime.datetime(2023,6,30)\n",
    "\n",
    "# Slicing the frame\n",
    "actual_slice = actual.loc[start:end]\n",
    "lr_pred_slice = lr_pred.loc[start:end]\n",
    "ridge_pred_slice = ridge_pred.loc[start:end]\n",
    "lasso_pred_slice = lasso_pred.loc[start:end]"
   ]
  },
  {
   "cell_type": "code",
   "execution_count": 34,
   "metadata": {},
   "outputs": [
    {
     "data": {
      "image/png": "[encoded data removed]",
      "text/plain": [
       "<Figure size 1000x400 with 1 Axes>"
      ]
     },
     "metadata": {},
     "output_type": "display_data"
    }
   ],
   "source": [
    "# Plot the visualization\n",
    "fig, ax = plt.subplots(figsize = (10, 4))\n",
    "ax.plot(lr_pred_slice, color = 'y', label = 'LR prediction')\n",
    "ax.plot(ridge_pred_slice, color = 'r', label = 'Ridge prediction')\n",
    "ax.plot(lasso_pred_slice, color = 'b', label = 'Lasso prediction')\n",
    "ax.plot(actual_slice, color = 'g', label = 'Actual price')\n",
    "ax.legend()\n",
    "plt.show()"
   ]
  },
  {
   "cell_type": "markdown",
   "metadata": {},
   "source": [
    "The Technical indicators fit well with the actual price movements and has low error."
   ]
  }
 ],
 "metadata": {
  "kernelspec": {
   "display_name": "Python 3",
   "language": "python",
   "name": "python3"
  },
  "language_info": {
   "codemirror_mode": {
    "name": "ipython",
    "version": 3
   },
   "file_extension": ".py",
   "mimetype": "text/x-python",
   "name": "python",
   "nbconvert_exporter": "python",
   "pygments_lexer": "ipython3",
   "version": "3.11.4"
  },
  "orig_nbformat": 4
 },
 "nbformat": 4,
 "nbformat_minor": 2
}
