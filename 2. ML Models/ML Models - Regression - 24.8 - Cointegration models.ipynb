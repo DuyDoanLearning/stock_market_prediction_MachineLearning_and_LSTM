{
 "cells": [
  {
   "cell_type": "markdown",
   "metadata": {},
   "source": [
    "# Dissertation Code - Regression"
   ]
  },
  {
   "cell_type": "markdown",
   "metadata": {},
   "source": [
    "# Import necessary libraries"
   ]
  },
  {
   "cell_type": "code",
   "execution_count": 172,
   "metadata": {},
   "outputs": [],
   "source": [
    "import pandas as pd\n",
    "import numpy as np\n",
    "import matplotlib.pyplot as plt\n",
    "import seaborn as sns\n",
    "sns.set()\n",
    "\n",
    "import warnings\n",
    "warnings.filterwarnings(\"ignore\")"
   ]
  },
  {
   "cell_type": "markdown",
   "metadata": {},
   "source": [
    "## Import data\n",
    "\n",
    "The data was downloaded from Bloomberg and has been cleaned, keeping only meaningful variables:\n",
    "- Global stock indices: SHSZ CSI300 (China) and SP500 (US)\n",
    "- Commodity price: Palladium spot price\n",
    "- Target variable: VN-Index"
   ]
  },
  {
   "cell_type": "code",
   "execution_count": 173,
   "metadata": {},
   "outputs": [
    {
     "data": {
      "text/html": [
       "<div>\n",
       "<style scoped>\n",
       "    .dataframe tbody tr th:only-of-type {\n",
       "        vertical-align: middle;\n",
       "    }\n",
       "\n",
       "    .dataframe tbody tr th {\n",
       "        vertical-align: top;\n",
       "    }\n",
       "\n",
       "    .dataframe thead th {\n",
       "        text-align: right;\n",
       "    }\n",
       "</style>\n",
       "<table border=\"1\" class=\"dataframe\">\n",
       "  <thead>\n",
       "    <tr style=\"text-align: right;\">\n",
       "      <th></th>\n",
       "      <th>index_sp500</th>\n",
       "      <th>spot_palladium</th>\n",
       "      <th>index_shsz_csi300</th>\n",
       "      <th>index_vni</th>\n",
       "    </tr>\n",
       "    <tr>\n",
       "      <th>Date</th>\n",
       "      <th></th>\n",
       "      <th></th>\n",
       "      <th></th>\n",
       "      <th></th>\n",
       "    </tr>\n",
       "  </thead>\n",
       "  <tbody>\n",
       "    <tr>\n",
       "      <th>2007-07-02</th>\n",
       "      <td>1519.43</td>\n",
       "      <td>368.5</td>\n",
       "      <td>16130</td>\n",
       "      <td>994.17</td>\n",
       "    </tr>\n",
       "    <tr>\n",
       "      <th>2007-07-03</th>\n",
       "      <td>1524.87</td>\n",
       "      <td>365.0</td>\n",
       "      <td>16131</td>\n",
       "      <td>977.30</td>\n",
       "    </tr>\n",
       "    <tr>\n",
       "      <th>2007-07-04</th>\n",
       "      <td>1522.19</td>\n",
       "      <td>366.0</td>\n",
       "      <td>16130</td>\n",
       "      <td>1013.56</td>\n",
       "    </tr>\n",
       "    <tr>\n",
       "      <th>2007-07-05</th>\n",
       "      <td>1525.40</td>\n",
       "      <td>365.5</td>\n",
       "      <td>16130</td>\n",
       "      <td>1012.82</td>\n",
       "    </tr>\n",
       "    <tr>\n",
       "      <th>2007-07-06</th>\n",
       "      <td>1530.44</td>\n",
       "      <td>367.0</td>\n",
       "      <td>16135</td>\n",
       "      <td>1010.53</td>\n",
       "    </tr>\n",
       "  </tbody>\n",
       "</table>\n",
       "</div>"
      ],
      "text/plain": [
       "            index_sp500  spot_palladium  index_shsz_csi300  index_vni\n",
       "Date                                                                 \n",
       "2007-07-02      1519.43           368.5              16130     994.17\n",
       "2007-07-03      1524.87           365.0              16131     977.30\n",
       "2007-07-04      1522.19           366.0              16130    1013.56\n",
       "2007-07-05      1525.40           365.5              16130    1012.82\n",
       "2007-07-06      1530.44           367.0              16135    1010.53"
      ]
     },
     "execution_count": 173,
     "metadata": {},
     "output_type": "execute_result"
    }
   ],
   "source": [
    "# Import data\n",
    "data = pd.read_csv('data.csv')\n",
    "data['Date'] = pd.to_datetime(data['Date'], format = \"%m/%d/%Y\")\n",
    "data.set_index('Date', inplace = True)\n",
    "data.head()"
   ]
  },
  {
   "cell_type": "markdown",
   "metadata": {},
   "source": [
    "## Exploratory Data Analysis"
   ]
  },
  {
   "cell_type": "code",
   "execution_count": 174,
   "metadata": {},
   "outputs": [
    {
     "data": {
      "text/html": [
       "<div>\n",
       "<style scoped>\n",
       "    .dataframe tbody tr th:only-of-type {\n",
       "        vertical-align: middle;\n",
       "    }\n",
       "\n",
       "    .dataframe tbody tr th {\n",
       "        vertical-align: top;\n",
       "    }\n",
       "\n",
       "    .dataframe thead th {\n",
       "        text-align: right;\n",
       "    }\n",
       "</style>\n",
       "<table border=\"1\" class=\"dataframe\">\n",
       "  <thead>\n",
       "    <tr style=\"text-align: right;\">\n",
       "      <th></th>\n",
       "      <th>index_sp500</th>\n",
       "      <th>spot_palladium</th>\n",
       "      <th>index_shsz_csi300</th>\n",
       "      <th>index_vni</th>\n",
       "    </tr>\n",
       "    <tr>\n",
       "      <th>Date</th>\n",
       "      <th></th>\n",
       "      <th></th>\n",
       "      <th></th>\n",
       "      <th></th>\n",
       "    </tr>\n",
       "  </thead>\n",
       "  <tbody>\n",
       "    <tr>\n",
       "      <th>2007-07-02</th>\n",
       "      <td>1519.43</td>\n",
       "      <td>368.5</td>\n",
       "      <td>16130</td>\n",
       "      <td>994.17</td>\n",
       "    </tr>\n",
       "    <tr>\n",
       "      <th>2007-07-03</th>\n",
       "      <td>1524.87</td>\n",
       "      <td>365.0</td>\n",
       "      <td>16131</td>\n",
       "      <td>977.30</td>\n",
       "    </tr>\n",
       "    <tr>\n",
       "      <th>2007-07-04</th>\n",
       "      <td>1522.19</td>\n",
       "      <td>366.0</td>\n",
       "      <td>16130</td>\n",
       "      <td>1013.56</td>\n",
       "    </tr>\n",
       "    <tr>\n",
       "      <th>2007-07-05</th>\n",
       "      <td>1525.40</td>\n",
       "      <td>365.5</td>\n",
       "      <td>16130</td>\n",
       "      <td>1012.82</td>\n",
       "    </tr>\n",
       "    <tr>\n",
       "      <th>2007-07-06</th>\n",
       "      <td>1530.44</td>\n",
       "      <td>367.0</td>\n",
       "      <td>16135</td>\n",
       "      <td>1010.53</td>\n",
       "    </tr>\n",
       "  </tbody>\n",
       "</table>\n",
       "</div>"
      ],
      "text/plain": [
       "            index_sp500  spot_palladium  index_shsz_csi300  index_vni\n",
       "Date                                                                 \n",
       "2007-07-02      1519.43           368.5              16130     994.17\n",
       "2007-07-03      1524.87           365.0              16131     977.30\n",
       "2007-07-04      1522.19           366.0              16130    1013.56\n",
       "2007-07-05      1525.40           365.5              16130    1012.82\n",
       "2007-07-06      1530.44           367.0              16135    1010.53"
      ]
     },
     "execution_count": 174,
     "metadata": {},
     "output_type": "execute_result"
    }
   ],
   "source": [
    "# Describe the data\n",
    "data.head()"
   ]
  },
  {
   "cell_type": "markdown",
   "metadata": {},
   "source": [
    "## Cointegration Test"
   ]
  },
  {
   "cell_type": "code",
   "execution_count": 175,
   "metadata": {},
   "outputs": [
    {
     "data": {
      "text/html": [
       "<div>\n",
       "<style scoped>\n",
       "    .dataframe tbody tr th:only-of-type {\n",
       "        vertical-align: middle;\n",
       "    }\n",
       "\n",
       "    .dataframe tbody tr th {\n",
       "        vertical-align: top;\n",
       "    }\n",
       "\n",
       "    .dataframe thead th {\n",
       "        text-align: right;\n",
       "    }\n",
       "</style>\n",
       "<table border=\"1\" class=\"dataframe\">\n",
       "  <thead>\n",
       "    <tr style=\"text-align: right;\">\n",
       "      <th></th>\n",
       "      <th>p_value</th>\n",
       "      <th>Test_statistics</th>\n",
       "      <th>Stationary</th>\n",
       "    </tr>\n",
       "  </thead>\n",
       "  <tbody>\n",
       "    <tr>\n",
       "      <th>index_shsz_csi300</th>\n",
       "      <td>0.166166</td>\n",
       "      <td>-2.318198</td>\n",
       "      <td>Non-stationary</td>\n",
       "    </tr>\n",
       "    <tr>\n",
       "      <th>spot_palladium</th>\n",
       "      <td>0.547025</td>\n",
       "      <td>-1.472589</td>\n",
       "      <td>Non-stationary</td>\n",
       "    </tr>\n",
       "    <tr>\n",
       "      <th>index_vni</th>\n",
       "      <td>0.682080</td>\n",
       "      <td>-1.180140</td>\n",
       "      <td>Non-stationary</td>\n",
       "    </tr>\n",
       "    <tr>\n",
       "      <th>index_sp500</th>\n",
       "      <td>0.980759</td>\n",
       "      <td>0.380698</td>\n",
       "      <td>Non-stationary</td>\n",
       "    </tr>\n",
       "  </tbody>\n",
       "</table>\n",
       "</div>"
      ],
      "text/plain": [
       "                    p_value  Test_statistics      Stationary\n",
       "index_shsz_csi300  0.166166        -2.318198  Non-stationary\n",
       "spot_palladium     0.547025        -1.472589  Non-stationary\n",
       "index_vni          0.682080        -1.180140  Non-stationary\n",
       "index_sp500        0.980759         0.380698  Non-stationary"
      ]
     },
     "execution_count": 175,
     "metadata": {},
     "output_type": "execute_result"
    }
   ],
   "source": [
    "# Check for stationarity\n",
    "import statsmodels.tsa.stattools as ts\n",
    "cols = []\n",
    "p_values = []\n",
    "statistics = []\n",
    "for col in data.columns:\n",
    "    result = ts.adfuller(data[col])\n",
    "    p_value = result[1]\n",
    "    cols.append(col)\n",
    "    p_values.append(p_value)\n",
    "    statistics.append(result[0])\n",
    "\n",
    "\n",
    "stationary = pd.DataFrame(data = [p_values, statistics], columns = data.columns, index = ['p_value','Test_statistics'])\n",
    "stationary = stationary.T\n",
    "stationary['Stationary'] = np.where(stationary['p_value'] > 0.1, 'Non-stationary','Stationary')\n",
    "stationary.sort_values(by = 'p_value', ascending = True)\n",
    "    "
   ]
  },
  {
   "cell_type": "code",
   "execution_count": 176,
   "metadata": {},
   "outputs": [
    {
     "data": {
      "text/html": [
       "<div>\n",
       "<style scoped>\n",
       "    .dataframe tbody tr th:only-of-type {\n",
       "        vertical-align: middle;\n",
       "    }\n",
       "\n",
       "    .dataframe tbody tr th {\n",
       "        vertical-align: top;\n",
       "    }\n",
       "\n",
       "    .dataframe thead th {\n",
       "        text-align: right;\n",
       "    }\n",
       "</style>\n",
       "<table border=\"1\" class=\"dataframe\">\n",
       "  <thead>\n",
       "    <tr style=\"text-align: right;\">\n",
       "      <th></th>\n",
       "      <th>p_value</th>\n",
       "      <th>Cointegrated</th>\n",
       "    </tr>\n",
       "  </thead>\n",
       "  <tbody>\n",
       "    <tr>\n",
       "      <th>index_sp500</th>\n",
       "      <td>0.011873</td>\n",
       "      <td>Cointegrated</td>\n",
       "    </tr>\n",
       "    <tr>\n",
       "      <th>spot_palladium</th>\n",
       "      <td>0.093027</td>\n",
       "      <td>Cointegrated</td>\n",
       "    </tr>\n",
       "    <tr>\n",
       "      <th>index_shsz_csi300</th>\n",
       "      <td>0.317219</td>\n",
       "      <td>No cointegration</td>\n",
       "    </tr>\n",
       "  </tbody>\n",
       "</table>\n",
       "</div>"
      ],
      "text/plain": [
       "                    p_value      Cointegrated\n",
       "index_sp500        0.011873      Cointegrated\n",
       "spot_palladium     0.093027      Cointegrated\n",
       "index_shsz_csi300  0.317219  No cointegration"
      ]
     },
     "execution_count": 176,
     "metadata": {},
     "output_type": "execute_result"
    }
   ],
   "source": [
    "# Cointegration test\n",
    "import statsmodels.tsa.stattools as ts\n",
    "\n",
    "cols = []\n",
    "p_values = []\n",
    "\n",
    "for column in data.drop('index_vni', axis = 1).columns:\n",
    "    result = ts.coint(data['index_vni'], data[column], method = 'aeg', maxlag = 5)\n",
    "    cols.append(column)\n",
    "    p_values.append(result[1])\n",
    "\n",
    "\n",
    "cointegration = pd.DataFrame(data = p_values)\n",
    "cointegration.T\n",
    "cointegration.index = cols\n",
    "cointegration.rename(columns = {0 : 'p_value'}, inplace = True)\n",
    "cointegration = cointegration.sort_values(by = 'p_value', ascending = True)\n",
    "cointegration['Cointegrated'] = np.where(cointegration['p_value'] > 0.1, 'No cointegration','Cointegrated')\n",
    "cointegration\n"
   ]
  },
  {
   "cell_type": "code",
   "execution_count": 177,
   "metadata": {},
   "outputs": [
    {
     "data": {
      "text/html": [
       "<div>\n",
       "<style scoped>\n",
       "    .dataframe tbody tr th:only-of-type {\n",
       "        vertical-align: middle;\n",
       "    }\n",
       "\n",
       "    .dataframe tbody tr th {\n",
       "        vertical-align: top;\n",
       "    }\n",
       "\n",
       "    .dataframe thead th {\n",
       "        text-align: right;\n",
       "    }\n",
       "</style>\n",
       "<table border=\"1\" class=\"dataframe\">\n",
       "  <thead>\n",
       "    <tr style=\"text-align: right;\">\n",
       "      <th></th>\n",
       "      <th>index_sp500_x</th>\n",
       "      <th>spot_palladium_x</th>\n",
       "      <th>index_shsz_csi300_x</th>\n",
       "      <th>index_vni_x</th>\n",
       "    </tr>\n",
       "  </thead>\n",
       "  <tbody>\n",
       "    <tr>\n",
       "      <th>index_sp500_y</th>\n",
       "      <td>1.0000</td>\n",
       "      <td>0.1347</td>\n",
       "      <td>0.0158</td>\n",
       "      <td>0.0004</td>\n",
       "    </tr>\n",
       "    <tr>\n",
       "      <th>spot_palladium_y</th>\n",
       "      <td>0.0000</td>\n",
       "      <td>1.0000</td>\n",
       "      <td>0.0015</td>\n",
       "      <td>0.0056</td>\n",
       "    </tr>\n",
       "    <tr>\n",
       "      <th>index_shsz_csi300_y</th>\n",
       "      <td>0.0086</td>\n",
       "      <td>0.0403</td>\n",
       "      <td>1.0000</td>\n",
       "      <td>0.0546</td>\n",
       "    </tr>\n",
       "    <tr>\n",
       "      <th>index_vni_y</th>\n",
       "      <td>0.0000</td>\n",
       "      <td>0.0000</td>\n",
       "      <td>0.0012</td>\n",
       "      <td>1.0000</td>\n",
       "    </tr>\n",
       "  </tbody>\n",
       "</table>\n",
       "</div>"
      ],
      "text/plain": [
       "                     index_sp500_x  spot_palladium_x  index_shsz_csi300_x  \\\n",
       "index_sp500_y               1.0000            0.1347               0.0158   \n",
       "spot_palladium_y            0.0000            1.0000               0.0015   \n",
       "index_shsz_csi300_y         0.0086            0.0403               1.0000   \n",
       "index_vni_y                 0.0000            0.0000               0.0012   \n",
       "\n",
       "                     index_vni_x  \n",
       "index_sp500_y             0.0004  \n",
       "spot_palladium_y          0.0056  \n",
       "index_shsz_csi300_y       0.0546  \n",
       "index_vni_y               1.0000  "
      ]
     },
     "execution_count": 177,
     "metadata": {},
     "output_type": "execute_result"
    }
   ],
   "source": [
    "# Import test\n",
    "from statsmodels.tsa.stattools import grangercausalitytests\n",
    "\n",
    "# Define parameters\n",
    "maxlag = 12\n",
    "test = 'ssr_chi2test'\n",
    "\n",
    "# Define test\n",
    "def granger_causality_matrix(X_train, variables, test = test, verbose = False):\n",
    "    dataset = pd.DataFrame(np.zeros((len(variables), len(variables))), columns = variables, index = variables)\n",
    "    for c in dataset.columns:\n",
    "        for r in dataset.index:\n",
    "            test_result = grangercausalitytests(X_train[[r,c]], maxlag= maxlag, verbose= False)\n",
    "            p_values = [round(test_result[i+1][0][test][1],4) for i in range(maxlag)]\n",
    "            if verbose: print(f'Y = {r}, X = {c}, P Values = {p_values}')\n",
    "            \n",
    "            min_p_value = np.min(p_values)\n",
    "            dataset.loc[r,c] = min_p_value\n",
    "    dataset.columns = [var + '_x' for var in variables]\n",
    "    \n",
    "    dataset.index = [var + '_y' for var in variables]\n",
    "    \n",
    "    return dataset\n",
    "granger_result = granger_causality_matrix(data, variables= data.columns)\n",
    "granger_result"
   ]
  },
  {
   "cell_type": "code",
   "execution_count": 178,
   "metadata": {},
   "outputs": [
    {
     "data": {
      "text/plain": [
       "index_sp500_x          0.0000\n",
       "spot_palladium_x       0.0000\n",
       "index_shsz_csi300_x    0.0012\n",
       "index_vni_x            1.0000\n",
       "Name: index_vni_y, dtype: float64"
      ]
     },
     "execution_count": 178,
     "metadata": {},
     "output_type": "execute_result"
    }
   ],
   "source": [
    "# Examine potential variables to predict vn-index\n",
    "granger_result.loc['index_vni_y'].T.sort_values(ascending = True)"
   ]
  },
  {
   "cell_type": "code",
   "execution_count": 179,
   "metadata": {},
   "outputs": [
    {
     "data": {
      "image/png": "[encoded data removed]",
      "text/plain": [
       "<Figure size 1000x600 with 4 Axes>"
      ]
     },
     "metadata": {},
     "output_type": "display_data"
    }
   ],
   "source": [
    "# Check the scatter plot between variables\n",
    "y = data['index_vni']\n",
    "fix, ax = plt.subplots(2,2, figsize = (10,6))\n",
    "ax[0,0].scatter(y, data['index_sp500'])\n",
    "ax[0,1].scatter(y, data['index_shsz_csi300'])\n",
    "ax[1,0].scatter(y, data['spot_palladium'])\n",
    "plt.show()"
   ]
  },
  {
   "cell_type": "markdown",
   "metadata": {},
   "source": [
    "Spot price palladium and SP500 seems to have a certain degree of correlation, while SHSZ CSI300 shows little correlation with the VNI. Therefore, we will continue further with only SP500 and spot price of palladium."
   ]
  },
  {
   "cell_type": "code",
   "execution_count": 180,
   "metadata": {},
   "outputs": [],
   "source": [
    "# Drop the SHSZ CSI300 variables\n",
    "data = data.drop('index_shsz_csi300', axis = 1)"
   ]
  },
  {
   "cell_type": "code",
   "execution_count": 181,
   "metadata": {},
   "outputs": [
    {
     "data": {
      "text/html": [
       "<div>\n",
       "<style scoped>\n",
       "    .dataframe tbody tr th:only-of-type {\n",
       "        vertical-align: middle;\n",
       "    }\n",
       "\n",
       "    .dataframe tbody tr th {\n",
       "        vertical-align: top;\n",
       "    }\n",
       "\n",
       "    .dataframe thead th {\n",
       "        text-align: right;\n",
       "    }\n",
       "</style>\n",
       "<table border=\"1\" class=\"dataframe\">\n",
       "  <thead>\n",
       "    <tr style=\"text-align: right;\">\n",
       "      <th></th>\n",
       "      <th>index_sp500</th>\n",
       "      <th>spot_palladium</th>\n",
       "      <th>index_vni</th>\n",
       "    </tr>\n",
       "    <tr>\n",
       "      <th>Date</th>\n",
       "      <th></th>\n",
       "      <th></th>\n",
       "      <th></th>\n",
       "    </tr>\n",
       "  </thead>\n",
       "  <tbody>\n",
       "    <tr>\n",
       "      <th>2007-07-03</th>\n",
       "      <td>0.003574</td>\n",
       "      <td>-0.009543</td>\n",
       "      <td>-0.017115</td>\n",
       "    </tr>\n",
       "    <tr>\n",
       "      <th>2007-07-04</th>\n",
       "      <td>-0.001759</td>\n",
       "      <td>0.002736</td>\n",
       "      <td>0.036430</td>\n",
       "    </tr>\n",
       "    <tr>\n",
       "      <th>2007-07-05</th>\n",
       "      <td>0.002107</td>\n",
       "      <td>-0.001367</td>\n",
       "      <td>-0.000730</td>\n",
       "    </tr>\n",
       "    <tr>\n",
       "      <th>2007-07-06</th>\n",
       "      <td>0.003299</td>\n",
       "      <td>0.004096</td>\n",
       "      <td>-0.002264</td>\n",
       "    </tr>\n",
       "    <tr>\n",
       "      <th>2007-07-09</th>\n",
       "      <td>0.000921</td>\n",
       "      <td>0.002721</td>\n",
       "      <td>-0.000257</td>\n",
       "    </tr>\n",
       "  </tbody>\n",
       "</table>\n",
       "</div>"
      ],
      "text/plain": [
       "            index_sp500  spot_palladium  index_vni\n",
       "Date                                              \n",
       "2007-07-03     0.003574       -0.009543  -0.017115\n",
       "2007-07-04    -0.001759        0.002736   0.036430\n",
       "2007-07-05     0.002107       -0.001367  -0.000730\n",
       "2007-07-06     0.003299        0.004096  -0.002264\n",
       "2007-07-09     0.000921        0.002721  -0.000257"
      ]
     },
     "execution_count": 181,
     "metadata": {},
     "output_type": "execute_result"
    }
   ],
   "source": [
    "# Generate log return\n",
    "log_returns = np.log(data).diff()\n",
    "log_returns.dropna(inplace= True)\n",
    "log_returns.reset_index(inplace= True)\n",
    "log_returns.replace([np.inf, -np.inf], np.nan, inplace = True)\n",
    "log_returns = log_returns.dropna()\n",
    "log_returns.set_index('Date', inplace = True)\n",
    "log_returns.head()"
   ]
  },
  {
   "cell_type": "code",
   "execution_count": 182,
   "metadata": {},
   "outputs": [
    {
     "data": {
      "text/plain": [
       "index_sp500       0.000257\n",
       "spot_palladium    0.000289\n",
       "index_vni         0.000029\n",
       "dtype: float64"
      ]
     },
     "execution_count": 182,
     "metadata": {},
     "output_type": "execute_result"
    }
   ],
   "source": [
    "log_returns.mean()"
   ]
  },
  {
   "cell_type": "code",
   "execution_count": 183,
   "metadata": {},
   "outputs": [
    {
     "data": {
      "text/html": [
       "<div>\n",
       "<style scoped>\n",
       "    .dataframe tbody tr th:only-of-type {\n",
       "        vertical-align: middle;\n",
       "    }\n",
       "\n",
       "    .dataframe tbody tr th {\n",
       "        vertical-align: top;\n",
       "    }\n",
       "\n",
       "    .dataframe thead th {\n",
       "        text-align: right;\n",
       "    }\n",
       "</style>\n",
       "<table border=\"1\" class=\"dataframe\">\n",
       "  <thead>\n",
       "    <tr style=\"text-align: right;\">\n",
       "      <th></th>\n",
       "      <th>index_sp500_x</th>\n",
       "      <th>spot_palladium_x</th>\n",
       "      <th>index_vni_x</th>\n",
       "    </tr>\n",
       "  </thead>\n",
       "  <tbody>\n",
       "    <tr>\n",
       "      <th>index_sp500_y</th>\n",
       "      <td>1.0</td>\n",
       "      <td>0.1347</td>\n",
       "      <td>0.0004</td>\n",
       "    </tr>\n",
       "    <tr>\n",
       "      <th>spot_palladium_y</th>\n",
       "      <td>0.0</td>\n",
       "      <td>1.0000</td>\n",
       "      <td>0.0056</td>\n",
       "    </tr>\n",
       "    <tr>\n",
       "      <th>index_vni_y</th>\n",
       "      <td>0.0</td>\n",
       "      <td>0.0000</td>\n",
       "      <td>1.0000</td>\n",
       "    </tr>\n",
       "  </tbody>\n",
       "</table>\n",
       "</div>"
      ],
      "text/plain": [
       "                  index_sp500_x  spot_palladium_x  index_vni_x\n",
       "index_sp500_y               1.0            0.1347       0.0004\n",
       "spot_palladium_y            0.0            1.0000       0.0056\n",
       "index_vni_y                 0.0            0.0000       1.0000"
      ]
     },
     "execution_count": 183,
     "metadata": {},
     "output_type": "execute_result"
    }
   ],
   "source": [
    "# Import test\n",
    "from statsmodels.tsa.stattools import grangercausalitytests\n",
    "\n",
    "# Define parameters\n",
    "maxlag = 12\n",
    "test = 'ssr_chi2test'\n",
    "\n",
    "# Define test\n",
    "def granger_causality_matrix(X_train, variables, test = test, verbose = False):\n",
    "    dataset = pd.DataFrame(np.zeros((len(variables), len(variables))), columns = variables, index = variables)\n",
    "    for c in dataset.columns:\n",
    "        for r in dataset.index:\n",
    "            test_result = grangercausalitytests(X_train[[r,c]], maxlag= maxlag, verbose= False)\n",
    "            p_values = [round(test_result[i+1][0][test][1],4) for i in range(maxlag)]\n",
    "            if verbose: print(f'Y = {r}, X = {c}, P Values = {p_values}')\n",
    "            \n",
    "            min_p_value = np.min(p_values)\n",
    "            dataset.loc[r,c] = min_p_value\n",
    "    dataset.columns = [var + '_x' for var in variables]\n",
    "    \n",
    "    dataset.index = [var + '_y' for var in variables]\n",
    "    \n",
    "    return dataset\n",
    "granger_result = granger_causality_matrix(data, variables= data.columns)\n",
    "granger_result"
   ]
  },
  {
   "cell_type": "code",
   "execution_count": 184,
   "metadata": {},
   "outputs": [],
   "source": [
    "# plots the spread on the return series data\n",
    "import statsmodels.api as sm\n",
    "A1 = log_returns[\"index_vni\"]\n",
    "A2 = log_returns[\"index_sp500\"]\n",
    "A1 = sm.add_constant(A1)\n",
    "results = sm.OLS(A2, A1).fit()\n",
    "\n",
    "A1 = A1[\"index_vni\"]\n",
    "b1 = results.params[\"index_vni\"]\n"
   ]
  },
  {
   "cell_type": "code",
   "execution_count": 185,
   "metadata": {},
   "outputs": [
    {
     "data": {
      "text/plain": [
       "Text(0.5, 1.0, 'Spread between log different of SP500 and VNIndex')"
      ]
     },
     "execution_count": 185,
     "metadata": {},
     "output_type": "execute_result"
    },
    {
     "data": {
      "image/png": "[encoded data removed]",
      "text/plain": [
       "<Figure size 640x480 with 1 Axes>"
      ]
     },
     "metadata": {},
     "output_type": "display_data"
    }
   ],
   "source": [
    "# Check spread\n",
    "spread1 = A2.values - b1 * A1.values\n",
    "plt.plot(spread1)\n",
    "plt.xlabel('Time t')\n",
    "plt.ylabel('Spread of Log different')\n",
    "plt.title('Spread between log different of SP500 and VNIndex')"
   ]
  },
  {
   "cell_type": "code",
   "execution_count": 186,
   "metadata": {},
   "outputs": [],
   "source": [
    "# plots the spread on the return series data\n",
    "import statsmodels.api as sm\n",
    "A1 = log_returns[\"index_vni\"]\n",
    "A3 = log_returns[\"spot_palladium\"]\n",
    "A1 = sm.add_constant(A1)\n",
    "results = sm.OLS(A3, A1).fit()\n",
    "\n",
    "A1 = A1[\"index_vni\"]\n",
    "b2 = results.params[\"index_vni\"]"
   ]
  },
  {
   "cell_type": "code",
   "execution_count": 187,
   "metadata": {},
   "outputs": [
    {
     "data": {
      "text/plain": [
       "Text(0.5, 1.0, 'Spread between log different of spot price Palladium and VNIndex')"
      ]
     },
     "execution_count": 187,
     "metadata": {},
     "output_type": "execute_result"
    },
    {
     "data": {
      "image/png": "[encoded data removed]",
      "text/plain": [
       "<Figure size 640x480 with 1 Axes>"
      ]
     },
     "metadata": {},
     "output_type": "display_data"
    }
   ],
   "source": [
    "# Check spread\n",
    "spread2 = A3.values - b2 * A1.values\n",
    "plt.plot(spread2)\n",
    "plt.xlabel('Time t')\n",
    "plt.ylabel('Spread of Log different')\n",
    "plt.title('Spread between log different of spot price Palladium and VNIndex')"
   ]
  },
  {
   "cell_type": "markdown",
   "metadata": {},
   "source": [
    "## Machine Learning for Regressions"
   ]
  },
  {
   "cell_type": "code",
   "execution_count": 188,
   "metadata": {},
   "outputs": [],
   "source": [
    "def split(df, target):\n",
    "    # Define target and predictors\n",
    "    X = df.drop('index_vni', axis = 1)\n",
    "    y = df['index_vni']\n",
    "\n",
    "    # Define train set, cv test and test set\n",
    "    train_time = int(round(0.8 * len(df)))\n",
    "\n",
    "    X_train = X.iloc[:train_time]\n",
    "    X_test = X.iloc[train_time:]\n",
    "\n",
    "    y_train = y.iloc[:train_time]\n",
    "    y_test = y.iloc[train_time:]\n",
    "    \n",
    "    # Print out the shape to check shape\n",
    "    print(X_train.shape)\n",
    "    print(X_test.shape)\n",
    "    print(y_train.shape)\n",
    "    print(y_test.shape)\n",
    "    return X_train, y_train, X_test, y_test"
   ]
  },
  {
   "cell_type": "code",
   "execution_count": 189,
   "metadata": {},
   "outputs": [],
   "source": [
    "# Import and call out object of models\n",
    "from sklearn.linear_model import LinearRegression, Ridge, Lasso\n",
    "from sklearn.svm import SVR\n",
    "from xgboost import XGBRegressor\n",
    "from sklearn.tree import DecisionTreeRegressor\n",
    "from sklearn.ensemble import RandomForestRegressor\n",
    "from sklearn.ensemble import GradientBoostingRegressor\n",
    "\n",
    "\n",
    "lr = LinearRegression()\n",
    "ridge = Ridge(alpha = 0.1)\n",
    "lasso = Lasso(alpha = 0.1)\n",
    "dtr = DecisionTreeRegressor(criterion = 'squared_error', max_depth = 10, min_samples_split = 4)\n",
    "gb = GradientBoostingRegressor()\n",
    "xgb = XGBRegressor()\n",
    "rf = RandomForestRegressor(criterion = 'squared_error', max_depth = 10, min_samples_split = 4)\n",
    "svr = SVR()"
   ]
  },
  {
   "cell_type": "code",
   "execution_count": 190,
   "metadata": {},
   "outputs": [],
   "source": [
    "# Import scaling\n",
    "from sklearn.preprocessing import MinMaxScaler\n",
    "scaler = MinMaxScaler()"
   ]
  },
  {
   "cell_type": "code",
   "execution_count": 191,
   "metadata": {},
   "outputs": [
    {
     "name": "stdout",
     "output_type": "stream",
     "text": [
      "(3340, 2)\n",
      "(835, 2)\n",
      "(3340,)\n",
      "(835,)\n"
     ]
    }
   ],
   "source": [
    "# Define train set, cv test and test set\n",
    "X_train, y_train, X_test, y_test = split(data, 'index_vni')"
   ]
  },
  {
   "cell_type": "code",
   "execution_count": 192,
   "metadata": {},
   "outputs": [],
   "source": [
    "# Scale the variables\n",
    "X_train_scaled = scaler.fit_transform(X_train)\n",
    "X_test_scaled = scaler.transform(X_test)"
   ]
  },
  {
   "cell_type": "code",
   "execution_count": 193,
   "metadata": {},
   "outputs": [],
   "source": [
    "# Import metrics\n",
    "from sklearn.metrics import mean_absolute_error as mae\n",
    "from sklearn.metrics import mean_squared_error as mse"
   ]
  },
  {
   "cell_type": "code",
   "execution_count": 194,
   "metadata": {},
   "outputs": [],
   "source": [
    "# Define evaluate model function\n",
    "def evaluate_model(model, X_train, y_train, X_test, y_test):\n",
    "    model.fit(X_train, y_train)\n",
    "    y_pred = model.predict(X_test)\n",
    "    MAE = mae(y_test, y_pred)\n",
    "    MSE = mse(y_test, y_pred)\n",
    "    return MAE, MSE"
   ]
  },
  {
   "cell_type": "code",
   "execution_count": 195,
   "metadata": {},
   "outputs": [
    {
     "data": {
      "text/html": [
       "<div>\n",
       "<style scoped>\n",
       "    .dataframe tbody tr th:only-of-type {\n",
       "        vertical-align: middle;\n",
       "    }\n",
       "\n",
       "    .dataframe tbody tr th {\n",
       "        vertical-align: top;\n",
       "    }\n",
       "\n",
       "    .dataframe thead th {\n",
       "        text-align: right;\n",
       "    }\n",
       "</style>\n",
       "<table border=\"1\" class=\"dataframe\">\n",
       "  <thead>\n",
       "    <tr style=\"text-align: right;\">\n",
       "      <th></th>\n",
       "      <th>MAE</th>\n",
       "      <th>MSE</th>\n",
       "    </tr>\n",
       "  </thead>\n",
       "  <tbody>\n",
       "    <tr>\n",
       "      <th>Lasso</th>\n",
       "      <td>100.603459</td>\n",
       "      <td>16129.680294</td>\n",
       "    </tr>\n",
       "    <tr>\n",
       "      <th>Ridge</th>\n",
       "      <td>100.910855</td>\n",
       "      <td>16420.100223</td>\n",
       "    </tr>\n",
       "    <tr>\n",
       "      <th>Linear Regression</th>\n",
       "      <td>100.950344</td>\n",
       "      <td>16475.599204</td>\n",
       "    </tr>\n",
       "    <tr>\n",
       "      <th>Gradient Boosting</th>\n",
       "      <td>233.319154</td>\n",
       "      <td>85063.381957</td>\n",
       "    </tr>\n",
       "    <tr>\n",
       "      <th>XGBoost</th>\n",
       "      <td>236.181340</td>\n",
       "      <td>86620.981160</td>\n",
       "    </tr>\n",
       "    <tr>\n",
       "      <th>Decision Tree</th>\n",
       "      <td>239.282851</td>\n",
       "      <td>87116.103382</td>\n",
       "    </tr>\n",
       "    <tr>\n",
       "      <th>Random Forest</th>\n",
       "      <td>240.483373</td>\n",
       "      <td>87758.415015</td>\n",
       "    </tr>\n",
       "    <tr>\n",
       "      <th>SVR</th>\n",
       "      <td>409.182227</td>\n",
       "      <td>222258.787627</td>\n",
       "    </tr>\n",
       "  </tbody>\n",
       "</table>\n",
       "</div>"
      ],
      "text/plain": [
       "                          MAE            MSE\n",
       "Lasso              100.603459   16129.680294\n",
       "Ridge              100.910855   16420.100223\n",
       "Linear Regression  100.950344   16475.599204\n",
       "Gradient Boosting  233.319154   85063.381957\n",
       "XGBoost            236.181340   86620.981160\n",
       "Decision Tree      239.282851   87116.103382\n",
       "Random Forest      240.483373   87758.415015\n",
       "SVR                409.182227  222258.787627"
      ]
     },
     "execution_count": 195,
     "metadata": {},
     "output_type": "execute_result"
    }
   ],
   "source": [
    "# Evaluate the model\n",
    "col = ['Linear Regression','Ridge','Lasso','Decision Tree','Gradient Boosting','XGBoost','Random Forest', 'SVR']\n",
    "MAE_cv = []\n",
    "MSE_cv = []\n",
    "\n",
    "for model in models:\n",
    "    MAE, MSE = evaluate_model(model, X_train_scaled, y_train, X_test_scaled, y_test)\n",
    "    MAE_cv.append(MAE)\n",
    "    MSE_cv.append(MSE)\n",
    "\n",
    "cv_result = pd.DataFrame(data = [MAE_cv, MSE_cv], columns = [col], index = ['MAE','MSE'])\n",
    "cv_result.T.sort_values(by = 'MAE')"
   ]
  },
  {
   "cell_type": "markdown",
   "metadata": {},
   "source": [
    "It seems like regression task on level time-series data is not effective and will not work at all. The error is too high. We will perform regression on the log differencing of time-series data"
   ]
  },
  {
   "cell_type": "code",
   "execution_count": 196,
   "metadata": {},
   "outputs": [
    {
     "name": "stdout",
     "output_type": "stream",
     "text": [
      "(3339, 2)\n",
      "(835, 2)\n",
      "(3339,)\n",
      "(835,)\n"
     ]
    }
   ],
   "source": [
    "# Test with log return data set\n",
    "df2 = log_returns\n",
    "\n",
    "# Train test split\n",
    "X_train, y_train, X_test, y_test = split(df2, 'index_vni')"
   ]
  },
  {
   "cell_type": "code",
   "execution_count": 197,
   "metadata": {},
   "outputs": [],
   "source": [
    "# Scale the data\n",
    "from sklearn.preprocessing import StandardScaler\n",
    "scaler = StandardScaler()\n",
    "\n",
    "X_train_scaled = scaler.fit_transform(X_train)\n",
    "X_test_scaled = scaler.transform(X_test)"
   ]
  },
  {
   "cell_type": "code",
   "execution_count": 198,
   "metadata": {},
   "outputs": [
    {
     "data": {
      "text/html": [
       "<div>\n",
       "<style scoped>\n",
       "    .dataframe tbody tr th:only-of-type {\n",
       "        vertical-align: middle;\n",
       "    }\n",
       "\n",
       "    .dataframe tbody tr th {\n",
       "        vertical-align: top;\n",
       "    }\n",
       "\n",
       "    .dataframe thead th {\n",
       "        text-align: right;\n",
       "    }\n",
       "</style>\n",
       "<table border=\"1\" class=\"dataframe\">\n",
       "  <thead>\n",
       "    <tr style=\"text-align: right;\">\n",
       "      <th></th>\n",
       "      <th>MAE</th>\n",
       "      <th>MSE</th>\n",
       "    </tr>\n",
       "  </thead>\n",
       "  <tbody>\n",
       "    <tr>\n",
       "      <th>Lasso</th>\n",
       "      <td>0.009858</td>\n",
       "      <td>0.000212</td>\n",
       "    </tr>\n",
       "    <tr>\n",
       "      <th>Ridge</th>\n",
       "      <td>0.009927</td>\n",
       "      <td>0.000214</td>\n",
       "    </tr>\n",
       "    <tr>\n",
       "      <th>Linear Regression</th>\n",
       "      <td>0.009927</td>\n",
       "      <td>0.000214</td>\n",
       "    </tr>\n",
       "    <tr>\n",
       "      <th>Random Forest</th>\n",
       "      <td>0.010131</td>\n",
       "      <td>0.000219</td>\n",
       "    </tr>\n",
       "    <tr>\n",
       "      <th>Gradient Boosting</th>\n",
       "      <td>0.010291</td>\n",
       "      <td>0.000227</td>\n",
       "    </tr>\n",
       "    <tr>\n",
       "      <th>Decision Tree</th>\n",
       "      <td>0.011112</td>\n",
       "      <td>0.000310</td>\n",
       "    </tr>\n",
       "    <tr>\n",
       "      <th>XGBoost</th>\n",
       "      <td>0.011703</td>\n",
       "      <td>0.000275</td>\n",
       "    </tr>\n",
       "    <tr>\n",
       "      <th>SVR</th>\n",
       "      <td>0.025158</td>\n",
       "      <td>0.000949</td>\n",
       "    </tr>\n",
       "  </tbody>\n",
       "</table>\n",
       "</div>"
      ],
      "text/plain": [
       "                        MAE       MSE\n",
       "Lasso              0.009858  0.000212\n",
       "Ridge              0.009927  0.000214\n",
       "Linear Regression  0.009927  0.000214\n",
       "Random Forest      0.010131  0.000219\n",
       "Gradient Boosting  0.010291  0.000227\n",
       "Decision Tree      0.011112  0.000310\n",
       "XGBoost            0.011703  0.000275\n",
       "SVR                0.025158  0.000949"
      ]
     },
     "execution_count": 198,
     "metadata": {},
     "output_type": "execute_result"
    }
   ],
   "source": [
    "# Evaluate the model\n",
    "col = ['Linear Regression','Ridge','Lasso','Decision Tree','Gradient Boosting','XGBoost','Random Forest', 'SVR']\n",
    "MAE_cv = []\n",
    "MSE_cv = []\n",
    "\n",
    "for model in models:\n",
    "    MAE, MSE = evaluate_model(model, X_train_scaled, y_train, X_test_scaled, y_test)\n",
    "    MAE_cv.append(MAE)\n",
    "    MSE_cv.append(MSE)\n",
    "\n",
    "cv_result = pd.DataFrame(data = [MAE_cv, MSE_cv], columns = [col], index = ['MAE','MSE'])\n",
    "cv_result.T.sort_values(by = 'MAE')"
   ]
  },
  {
   "cell_type": "markdown",
   "metadata": {},
   "source": [
    "With the values mean for the target variable is 0.00029, then the MAE, MSE and RMSE is very high, hence the model is not very accurate. We will generate a dataset that includes the spread of sp500 and palladium. We will do that by calculating the spread like we did with OLC models above as follow:\n",
    "\n",
    "$ spread = log_{sp500}(\\frac{p_t}{p_{t-1}}) - b \\times log_{vni}(\\frac{p_t}{p_{t-1}})$\n",
    "\n",
    "With $b$ is the beta coefficient generated from OLS models above"
   ]
  },
  {
   "cell_type": "code",
   "execution_count": 199,
   "metadata": {},
   "outputs": [],
   "source": [
    "# Generate set\n",
    "df3 = df2.copy()\n",
    "df3['vni_sp500_spread'] = df3['index_sp500'] - b1 * df3['index_vni']\n",
    "df3['vni_palladium_spread'] = df3['spot_palladium'] - b2 * df3['index_vni']"
   ]
  },
  {
   "cell_type": "code",
   "execution_count": 200,
   "metadata": {},
   "outputs": [
    {
     "name": "stdout",
     "output_type": "stream",
     "text": [
      "(3339, 4)\n",
      "(835, 4)\n",
      "(3339,)\n",
      "(835,)\n"
     ]
    }
   ],
   "source": [
    "# Train test split\n",
    "X_train, y_train, X_test, y_test = split(df3, 'index_vni')"
   ]
  },
  {
   "cell_type": "code",
   "execution_count": 201,
   "metadata": {},
   "outputs": [],
   "source": [
    "# Scale the data\n",
    "X_train_scaled = scaler.fit_transform(X_train)\n",
    "X_test_scaled = scaler.transform(X_test)"
   ]
  },
  {
   "cell_type": "code",
   "execution_count": 202,
   "metadata": {},
   "outputs": [
    {
     "data": {
      "text/html": [
       "<div>\n",
       "<style scoped>\n",
       "    .dataframe tbody tr th:only-of-type {\n",
       "        vertical-align: middle;\n",
       "    }\n",
       "\n",
       "    .dataframe tbody tr th {\n",
       "        vertical-align: top;\n",
       "    }\n",
       "\n",
       "    .dataframe thead th {\n",
       "        text-align: right;\n",
       "    }\n",
       "</style>\n",
       "<table border=\"1\" class=\"dataframe\">\n",
       "  <thead>\n",
       "    <tr style=\"text-align: right;\">\n",
       "      <th></th>\n",
       "      <th>MAE</th>\n",
       "      <th>MSE</th>\n",
       "    </tr>\n",
       "  </thead>\n",
       "  <tbody>\n",
       "    <tr>\n",
       "      <th>Linear Regression</th>\n",
       "      <td>4.586151e-17</td>\n",
       "      <td>4.183176e-33</td>\n",
       "    </tr>\n",
       "    <tr>\n",
       "      <th>Ridge</th>\n",
       "      <td>1.676845e-04</td>\n",
       "      <td>6.125041e-08</td>\n",
       "    </tr>\n",
       "    <tr>\n",
       "      <th>XGBoost</th>\n",
       "      <td>5.035962e-03</td>\n",
       "      <td>7.036607e-05</td>\n",
       "    </tr>\n",
       "    <tr>\n",
       "      <th>Gradient Boosting</th>\n",
       "      <td>8.608843e-03</td>\n",
       "      <td>1.593518e-04</td>\n",
       "    </tr>\n",
       "    <tr>\n",
       "      <th>Random Forest</th>\n",
       "      <td>8.973932e-03</td>\n",
       "      <td>1.732150e-04</td>\n",
       "    </tr>\n",
       "    <tr>\n",
       "      <th>Decision Tree</th>\n",
       "      <td>9.719223e-03</td>\n",
       "      <td>2.067818e-04</td>\n",
       "    </tr>\n",
       "    <tr>\n",
       "      <th>Lasso</th>\n",
       "      <td>9.858374e-03</td>\n",
       "      <td>2.116803e-04</td>\n",
       "    </tr>\n",
       "    <tr>\n",
       "      <th>SVR</th>\n",
       "      <td>1.925786e-02</td>\n",
       "      <td>5.638749e-04</td>\n",
       "    </tr>\n",
       "  </tbody>\n",
       "</table>\n",
       "</div>"
      ],
      "text/plain": [
       "                            MAE           MSE\n",
       "Linear Regression  4.586151e-17  4.183176e-33\n",
       "Ridge              1.676845e-04  6.125041e-08\n",
       "XGBoost            5.035962e-03  7.036607e-05\n",
       "Gradient Boosting  8.608843e-03  1.593518e-04\n",
       "Random Forest      8.973932e-03  1.732150e-04\n",
       "Decision Tree      9.719223e-03  2.067818e-04\n",
       "Lasso              9.858374e-03  2.116803e-04\n",
       "SVR                1.925786e-02  5.638749e-04"
      ]
     },
     "execution_count": 202,
     "metadata": {},
     "output_type": "execute_result"
    }
   ],
   "source": [
    "# Evaluate the model\n",
    "col = ['Linear Regression','Ridge','Lasso','Decision Tree','Gradient Boosting','XGBoost','Random Forest', 'SVR']\n",
    "MAE_cv = []\n",
    "MSE_cv = []\n",
    "\n",
    "for model in models:\n",
    "    MAE, MSE = evaluate_model(model, X_train_scaled, y_train, X_test_scaled, y_test)\n",
    "    MAE_cv.append(MAE)\n",
    "    MSE_cv.append(MSE)\n",
    "\n",
    "cv_result = pd.DataFrame(data = [MAE_cv, MSE_cv], columns = [col], index = ['MAE','MSE'])\n",
    "cv_result.T.sort_values(by = 'MAE')"
   ]
  },
  {
   "cell_type": "markdown",
   "metadata": {},
   "source": [
    "Linear regression performed best with very low error! Ridge, applied to avoid overfitting, also has a quite low error. Now will test with only spread values to see the performance."
   ]
  },
  {
   "cell_type": "code",
   "execution_count": 203,
   "metadata": {},
   "outputs": [
    {
     "data": {
      "text/html": [
       "<div>\n",
       "<style scoped>\n",
       "    .dataframe tbody tr th:only-of-type {\n",
       "        vertical-align: middle;\n",
       "    }\n",
       "\n",
       "    .dataframe tbody tr th {\n",
       "        vertical-align: top;\n",
       "    }\n",
       "\n",
       "    .dataframe thead th {\n",
       "        text-align: right;\n",
       "    }\n",
       "</style>\n",
       "<table border=\"1\" class=\"dataframe\">\n",
       "  <thead>\n",
       "    <tr style=\"text-align: right;\">\n",
       "      <th></th>\n",
       "      <th>index_vni</th>\n",
       "      <th>vni_sp500_spread</th>\n",
       "      <th>vni_palladium_spread</th>\n",
       "    </tr>\n",
       "    <tr>\n",
       "      <th>Date</th>\n",
       "      <th></th>\n",
       "      <th></th>\n",
       "      <th></th>\n",
       "    </tr>\n",
       "  </thead>\n",
       "  <tbody>\n",
       "    <tr>\n",
       "      <th>2007-07-03</th>\n",
       "      <td>-0.017115</td>\n",
       "      <td>0.003959</td>\n",
       "      <td>-0.008422</td>\n",
       "    </tr>\n",
       "    <tr>\n",
       "      <th>2007-07-04</th>\n",
       "      <td>0.036430</td>\n",
       "      <td>-0.002578</td>\n",
       "      <td>0.000349</td>\n",
       "    </tr>\n",
       "    <tr>\n",
       "      <th>2007-07-05</th>\n",
       "      <td>-0.000730</td>\n",
       "      <td>0.002123</td>\n",
       "      <td>-0.001319</td>\n",
       "    </tr>\n",
       "    <tr>\n",
       "      <th>2007-07-06</th>\n",
       "      <td>-0.002264</td>\n",
       "      <td>0.003350</td>\n",
       "      <td>0.004244</td>\n",
       "    </tr>\n",
       "    <tr>\n",
       "      <th>2007-07-09</th>\n",
       "      <td>-0.000257</td>\n",
       "      <td>0.000927</td>\n",
       "      <td>0.002738</td>\n",
       "    </tr>\n",
       "    <tr>\n",
       "      <th>...</th>\n",
       "      <td>...</td>\n",
       "      <td>...</td>\n",
       "      <td>...</td>\n",
       "    </tr>\n",
       "    <tr>\n",
       "      <th>2023-06-26</th>\n",
       "      <td>0.002344</td>\n",
       "      <td>-0.004550</td>\n",
       "      <td>0.016588</td>\n",
       "    </tr>\n",
       "    <tr>\n",
       "      <th>2023-06-27</th>\n",
       "      <td>0.002030</td>\n",
       "      <td>0.011345</td>\n",
       "      <td>-0.008804</td>\n",
       "    </tr>\n",
       "    <tr>\n",
       "      <th>2023-06-28</th>\n",
       "      <td>0.003538</td>\n",
       "      <td>-0.000434</td>\n",
       "      <td>-0.028628</td>\n",
       "    </tr>\n",
       "    <tr>\n",
       "      <th>2023-06-29</th>\n",
       "      <td>-0.011450</td>\n",
       "      <td>0.004721</td>\n",
       "      <td>-0.026154</td>\n",
       "    </tr>\n",
       "    <tr>\n",
       "      <th>2023-06-30</th>\n",
       "      <td>-0.004640</td>\n",
       "      <td>0.012299</td>\n",
       "      <td>0.001581</td>\n",
       "    </tr>\n",
       "  </tbody>\n",
       "</table>\n",
       "<p>4174 rows × 3 columns</p>\n",
       "</div>"
      ],
      "text/plain": [
       "            index_vni  vni_sp500_spread  vni_palladium_spread\n",
       "Date                                                         \n",
       "2007-07-03  -0.017115          0.003959             -0.008422\n",
       "2007-07-04   0.036430         -0.002578              0.000349\n",
       "2007-07-05  -0.000730          0.002123             -0.001319\n",
       "2007-07-06  -0.002264          0.003350              0.004244\n",
       "2007-07-09  -0.000257          0.000927              0.002738\n",
       "...               ...               ...                   ...\n",
       "2023-06-26   0.002344         -0.004550              0.016588\n",
       "2023-06-27   0.002030          0.011345             -0.008804\n",
       "2023-06-28   0.003538         -0.000434             -0.028628\n",
       "2023-06-29  -0.011450          0.004721             -0.026154\n",
       "2023-06-30  -0.004640          0.012299              0.001581\n",
       "\n",
       "[4174 rows x 3 columns]"
      ]
     },
     "execution_count": 203,
     "metadata": {},
     "output_type": "execute_result"
    }
   ],
   "source": [
    "# Generate set\n",
    "df4 = df3.drop(['index_sp500','spot_palladium'], axis = 1)\n",
    "df4"
   ]
  },
  {
   "cell_type": "code",
   "execution_count": 204,
   "metadata": {},
   "outputs": [
    {
     "name": "stdout",
     "output_type": "stream",
     "text": [
      "(3339, 2)\n",
      "(835, 2)\n",
      "(3339,)\n",
      "(835,)\n"
     ]
    }
   ],
   "source": [
    "# Train test split\n",
    "X_train, y_train, X_test, y_test = split(df4, 'index_vni')"
   ]
  },
  {
   "cell_type": "code",
   "execution_count": 205,
   "metadata": {},
   "outputs": [],
   "source": [
    "# Scale the data\n",
    "X_train_scaled = scaler.fit_transform(X_train)\n",
    "X_test_scaled = scaler.transform(X_test)"
   ]
  },
  {
   "cell_type": "code",
   "execution_count": 206,
   "metadata": {},
   "outputs": [
    {
     "data": {
      "text/html": [
       "<div>\n",
       "<style scoped>\n",
       "    .dataframe tbody tr th:only-of-type {\n",
       "        vertical-align: middle;\n",
       "    }\n",
       "\n",
       "    .dataframe tbody tr th {\n",
       "        vertical-align: top;\n",
       "    }\n",
       "\n",
       "    .dataframe thead th {\n",
       "        text-align: right;\n",
       "    }\n",
       "</style>\n",
       "<table border=\"1\" class=\"dataframe\">\n",
       "  <thead>\n",
       "    <tr style=\"text-align: right;\">\n",
       "      <th></th>\n",
       "      <th>MAE</th>\n",
       "      <th>MSE</th>\n",
       "    </tr>\n",
       "  </thead>\n",
       "  <tbody>\n",
       "    <tr>\n",
       "      <th>Lasso</th>\n",
       "      <td>0.009858</td>\n",
       "      <td>0.000212</td>\n",
       "    </tr>\n",
       "    <tr>\n",
       "      <th>Ridge</th>\n",
       "      <td>0.009866</td>\n",
       "      <td>0.000212</td>\n",
       "    </tr>\n",
       "    <tr>\n",
       "      <th>Linear Regression</th>\n",
       "      <td>0.009866</td>\n",
       "      <td>0.000212</td>\n",
       "    </tr>\n",
       "    <tr>\n",
       "      <th>Random Forest</th>\n",
       "      <td>0.010020</td>\n",
       "      <td>0.000215</td>\n",
       "    </tr>\n",
       "    <tr>\n",
       "      <th>Gradient Boosting</th>\n",
       "      <td>0.010091</td>\n",
       "      <td>0.000217</td>\n",
       "    </tr>\n",
       "    <tr>\n",
       "      <th>Decision Tree</th>\n",
       "      <td>0.010945</td>\n",
       "      <td>0.000278</td>\n",
       "    </tr>\n",
       "    <tr>\n",
       "      <th>XGBoost</th>\n",
       "      <td>0.011265</td>\n",
       "      <td>0.000249</td>\n",
       "    </tr>\n",
       "    <tr>\n",
       "      <th>SVR</th>\n",
       "      <td>0.023577</td>\n",
       "      <td>0.000819</td>\n",
       "    </tr>\n",
       "  </tbody>\n",
       "</table>\n",
       "</div>"
      ],
      "text/plain": [
       "                        MAE       MSE\n",
       "Lasso              0.009858  0.000212\n",
       "Ridge              0.009866  0.000212\n",
       "Linear Regression  0.009866  0.000212\n",
       "Random Forest      0.010020  0.000215\n",
       "Gradient Boosting  0.010091  0.000217\n",
       "Decision Tree      0.010945  0.000278\n",
       "XGBoost            0.011265  0.000249\n",
       "SVR                0.023577  0.000819"
      ]
     },
     "execution_count": 206,
     "metadata": {},
     "output_type": "execute_result"
    }
   ],
   "source": [
    "# Evaluate the model\n",
    "col = ['Linear Regression','Ridge','Lasso','Decision Tree','Gradient Boosting','XGBoost','Random Forest', 'SVR']\n",
    "MAE_cv = []\n",
    "MSE_cv = []\n",
    "\n",
    "for model in models:\n",
    "    MAE, MSE = evaluate_model(model, X_train_scaled, y_train, X_test_scaled, y_test)\n",
    "    MAE_cv.append(MAE)\n",
    "    MSE_cv.append(MSE)\n",
    "\n",
    "cv_result = pd.DataFrame(data = [MAE_cv, MSE_cv], columns = [col], index = ['MAE','MSE'])\n",
    "cv_result.T.sort_values(by = 'MAE')"
   ]
  },
  {
   "cell_type": "markdown",
   "metadata": {},
   "source": [
    "The errors with spread only version are much higher than version included the log differencing of our original predictors.\n",
    "\n",
    "To confirm that our predictors actually have a meaning in assisting the VN-index log return prediction, we will perform the model on the target variable only"
   ]
  },
  {
   "cell_type": "code",
   "execution_count": 207,
   "metadata": {},
   "outputs": [
    {
     "data": {
      "text/html": [
       "<div>\n",
       "<style scoped>\n",
       "    .dataframe tbody tr th:only-of-type {\n",
       "        vertical-align: middle;\n",
       "    }\n",
       "\n",
       "    .dataframe tbody tr th {\n",
       "        vertical-align: top;\n",
       "    }\n",
       "\n",
       "    .dataframe thead th {\n",
       "        text-align: right;\n",
       "    }\n",
       "</style>\n",
       "<table border=\"1\" class=\"dataframe\">\n",
       "  <thead>\n",
       "    <tr style=\"text-align: right;\">\n",
       "      <th></th>\n",
       "      <th>index_vni</th>\n",
       "    </tr>\n",
       "    <tr>\n",
       "      <th>Date</th>\n",
       "      <th></th>\n",
       "    </tr>\n",
       "  </thead>\n",
       "  <tbody>\n",
       "    <tr>\n",
       "      <th>2007-07-03</th>\n",
       "      <td>-0.017115</td>\n",
       "    </tr>\n",
       "    <tr>\n",
       "      <th>2007-07-04</th>\n",
       "      <td>0.036430</td>\n",
       "    </tr>\n",
       "    <tr>\n",
       "      <th>2007-07-05</th>\n",
       "      <td>-0.000730</td>\n",
       "    </tr>\n",
       "    <tr>\n",
       "      <th>2007-07-06</th>\n",
       "      <td>-0.002264</td>\n",
       "    </tr>\n",
       "    <tr>\n",
       "      <th>2007-07-09</th>\n",
       "      <td>-0.000257</td>\n",
       "    </tr>\n",
       "    <tr>\n",
       "      <th>...</th>\n",
       "      <td>...</td>\n",
       "    </tr>\n",
       "    <tr>\n",
       "      <th>2023-06-26</th>\n",
       "      <td>0.002344</td>\n",
       "    </tr>\n",
       "    <tr>\n",
       "      <th>2023-06-27</th>\n",
       "      <td>0.002030</td>\n",
       "    </tr>\n",
       "    <tr>\n",
       "      <th>2023-06-28</th>\n",
       "      <td>0.003538</td>\n",
       "    </tr>\n",
       "    <tr>\n",
       "      <th>2023-06-29</th>\n",
       "      <td>-0.011450</td>\n",
       "    </tr>\n",
       "    <tr>\n",
       "      <th>2023-06-30</th>\n",
       "      <td>-0.004640</td>\n",
       "    </tr>\n",
       "  </tbody>\n",
       "</table>\n",
       "<p>4174 rows × 1 columns</p>\n",
       "</div>"
      ],
      "text/plain": [
       "            index_vni\n",
       "Date                 \n",
       "2007-07-03  -0.017115\n",
       "2007-07-04   0.036430\n",
       "2007-07-05  -0.000730\n",
       "2007-07-06  -0.002264\n",
       "2007-07-09  -0.000257\n",
       "...               ...\n",
       "2023-06-26   0.002344\n",
       "2023-06-27   0.002030\n",
       "2023-06-28   0.003538\n",
       "2023-06-29  -0.011450\n",
       "2023-06-30  -0.004640\n",
       "\n",
       "[4174 rows x 1 columns]"
      ]
     },
     "execution_count": 207,
     "metadata": {},
     "output_type": "execute_result"
    }
   ],
   "source": [
    "# Generate data\n",
    "df5 = df4[['index_vni']]\n",
    "df5"
   ]
  },
  {
   "cell_type": "code",
   "execution_count": 208,
   "metadata": {},
   "outputs": [],
   "source": [
    "# Define X and Y\n",
    "X = list(range(len(df5))) # The X variable is the time itself\n",
    "y = df5['index_vni']\n",
    "\n",
    "train_time = int(round(len(df5) * 0.8))\n",
    "\n",
    "# Train test split\n",
    "X_train = np.array(X[:train_time]).reshape(-1,1)\n",
    "X_test = np.array(X[train_time:]).reshape(-1,1)\n",
    "\n",
    "y_train = y.iloc[:train_time]\n",
    "y_test = y.iloc[train_time:]"
   ]
  },
  {
   "cell_type": "code",
   "execution_count": 210,
   "metadata": {},
   "outputs": [
    {
     "data": {
      "text/html": [
       "<div>\n",
       "<style scoped>\n",
       "    .dataframe tbody tr th:only-of-type {\n",
       "        vertical-align: middle;\n",
       "    }\n",
       "\n",
       "    .dataframe tbody tr th {\n",
       "        vertical-align: top;\n",
       "    }\n",
       "\n",
       "    .dataframe thead th {\n",
       "        text-align: right;\n",
       "    }\n",
       "</style>\n",
       "<table border=\"1\" class=\"dataframe\">\n",
       "  <thead>\n",
       "    <tr style=\"text-align: right;\">\n",
       "      <th></th>\n",
       "      <th>MAE</th>\n",
       "      <th>MSE</th>\n",
       "    </tr>\n",
       "  </thead>\n",
       "  <tbody>\n",
       "    <tr>\n",
       "      <th>Lasso</th>\n",
       "      <td>0.009858</td>\n",
       "      <td>0.000212</td>\n",
       "    </tr>\n",
       "    <tr>\n",
       "      <th>Ridge</th>\n",
       "      <td>0.009866</td>\n",
       "      <td>0.000212</td>\n",
       "    </tr>\n",
       "    <tr>\n",
       "      <th>Linear Regression</th>\n",
       "      <td>0.009866</td>\n",
       "      <td>0.000212</td>\n",
       "    </tr>\n",
       "    <tr>\n",
       "      <th>Random Forest</th>\n",
       "      <td>0.009997</td>\n",
       "      <td>0.000214</td>\n",
       "    </tr>\n",
       "    <tr>\n",
       "      <th>Gradient Boosting</th>\n",
       "      <td>0.010089</td>\n",
       "      <td>0.000217</td>\n",
       "    </tr>\n",
       "    <tr>\n",
       "      <th>Decision Tree</th>\n",
       "      <td>0.010951</td>\n",
       "      <td>0.000279</td>\n",
       "    </tr>\n",
       "    <tr>\n",
       "      <th>XGBoost</th>\n",
       "      <td>0.011265</td>\n",
       "      <td>0.000249</td>\n",
       "    </tr>\n",
       "    <tr>\n",
       "      <th>SVR</th>\n",
       "      <td>0.023577</td>\n",
       "      <td>0.000819</td>\n",
       "    </tr>\n",
       "  </tbody>\n",
       "</table>\n",
       "</div>"
      ],
      "text/plain": [
       "                        MAE       MSE\n",
       "Lasso              0.009858  0.000212\n",
       "Ridge              0.009866  0.000212\n",
       "Linear Regression  0.009866  0.000212\n",
       "Random Forest      0.009997  0.000214\n",
       "Gradient Boosting  0.010089  0.000217\n",
       "Decision Tree      0.010951  0.000279\n",
       "XGBoost            0.011265  0.000249\n",
       "SVR                0.023577  0.000819"
      ]
     },
     "execution_count": 210,
     "metadata": {},
     "output_type": "execute_result"
    }
   ],
   "source": [
    "# Evaluate the model\n",
    "col = ['Linear Regression','Ridge','Lasso','Decision Tree','Gradient Boosting','XGBoost','Random Forest', 'SVR']\n",
    "MAE_cv = []\n",
    "MSE_cv = []\n",
    "\n",
    "for model in models:\n",
    "    MAE, MSE = evaluate_model(model, X_train_scaled, y_train, X_test_scaled, y_test)\n",
    "    MAE_cv.append(MAE)\n",
    "    MSE_cv.append(MSE)\n",
    "\n",
    "cv_result = pd.DataFrame(data = [MAE_cv, MSE_cv], columns = [col], index = ['MAE','MSE'])\n",
    "cv_result.T.sort_values(by = 'MAE')"
   ]
  },
  {
   "cell_type": "markdown",
   "metadata": {},
   "source": [
    "When predicting with only the target variable, we can see that the errors are much higher. This indicates that the predictors and their spreads between target variables could low down the errors, without further tuning the hyperparameters."
   ]
  },
  {
   "cell_type": "code",
   "execution_count": 211,
   "metadata": {},
   "outputs": [
    {
     "name": "stdout",
     "output_type": "stream",
     "text": [
      "(3339, 4)\n",
      "(835, 4)\n",
      "(3339,)\n",
      "(835,)\n",
      "Test error: \n",
      "MAE: 4.5861508437565174e-17 \n",
      "MSE: 4.1831762035033025e-33 \n",
      "RMSE: 6.467747833290428e-17\n"
     ]
    }
   ],
   "source": [
    "# Re-fit the model to LR\n",
    "# Generate set\n",
    "df3 = df2.copy()\n",
    "df3['vni_sp500_spread'] = df3['index_sp500'] - b1 * df3['index_vni']\n",
    "df3['vni_palladium_spread'] = df3['spot_palladium'] - b2 * df3['index_vni']\n",
    "\n",
    "# Train test split\n",
    "X_train, y_train, X_test, y_test = split(df3, 'index_vni')\n",
    "\n",
    "# Scale the data\n",
    "X_train_scaled = scaler.fit_transform(X_train)\n",
    "X_test_scaled = scaler.transform(X_test)\n",
    "\n",
    "# Fit the model\n",
    "lr.fit(X_train_scaled, y_train)\n",
    "y_pred_test = lr.predict(X_test_scaled)\n",
    "\n",
    "# Calculate error\n",
    "print(f\"Test error: \\n\"\n",
    "      f\"MAE: {mae(y_test, y_pred_test)} \\n\"\n",
    "      f\"MSE: {mse(y_test, y_pred_test)} \\n\"\n",
    "      f\"RMSE: {rmse(mse(y_test, y_pred_test))}\")"
   ]
  },
  {
   "cell_type": "markdown",
   "metadata": {},
   "source": [
    "## Turn into actual prediction\n",
    "\n",
    "Since this is the log of different, therefore we need to exponent them and translate into actual change. What we can notice here is that the trading time of the US is closed 12 hours before the close time of VN-Index trading. Therefore, once the market in Vietnam closed at time t, we will already have enough information to predict the next day change."
   ]
  },
  {
   "cell_type": "code",
   "execution_count": 212,
   "metadata": {},
   "outputs": [],
   "source": [
    "# Turn into actual change\n",
    "pred_test = np.exp(y_pred_test)"
   ]
  },
  {
   "cell_type": "markdown",
   "metadata": {},
   "source": [
    "The above values are the normalization of the returns, calculated as follow:\n",
    "\n",
    "\n",
    "$r_t = log(1 + R_{t}) = log(\\frac{P_t}{P_{t-1}}) = log(P_t) - log(P_{t-1})$\n",
    "\n",
    "To inverse the values back to $R_t$, we need to perform the following equation:\n",
    "\n",
    "$return_t = R_t - 1$"
   ]
  },
  {
   "cell_type": "code",
   "execution_count": 213,
   "metadata": {},
   "outputs": [],
   "source": [
    "# Inverse into actual return\n",
    "pred_test = pred_test - 1"
   ]
  },
  {
   "cell_type": "code",
   "execution_count": 214,
   "metadata": {},
   "outputs": [
    {
     "name": "stdout",
     "output_type": "stream",
     "text": [
      "835\n"
     ]
    },
    {
     "data": {
      "image/png": "[encoded data removed]",
      "text/plain": [
       "<Figure size 640x480 with 1 Axes>"
      ]
     },
     "metadata": {},
     "output_type": "display_data"
    }
   ],
   "source": [
    "# Visualize the return\n",
    "plt.plot(pred_test)\n",
    "print(len(pred_test))"
   ]
  },
  {
   "cell_type": "code",
   "execution_count": 215,
   "metadata": {},
   "outputs": [
    {
     "name": "stdout",
     "output_type": "stream",
     "text": [
      "835\n"
     ]
    },
    {
     "data": {
      "image/png": "[encoded data removed]",
      "text/plain": [
       "<Figure size 640x480 with 1 Axes>"
      ]
     },
     "metadata": {},
     "output_type": "display_data"
    }
   ],
   "source": [
    "# Compare to actual return\n",
    "test_time = data['index_vni'].iloc[train_time:]\n",
    "test_time = test_time.pct_change()\n",
    "test_time.dropna(inplace = True)\n",
    "plt.plot(test_time)\n",
    "print(len(test_time))"
   ]
  },
  {
   "cell_type": "markdown",
   "metadata": {},
   "source": [
    "We can see that the pattern of prediction is very much like the pattern of return in cv time. It is time for us to translate into actual change and compare prediction with actual movements"
   ]
  },
  {
   "cell_type": "code",
   "execution_count": 216,
   "metadata": {},
   "outputs": [],
   "source": [
    "# Generate price of Vn-index\n",
    "vni_index = data[['index_vni']]\n",
    "vni_index.rename(columns = {'index_vni' : 'Close'}, inplace= True)\n",
    "\n",
    "# Generate the return column\n",
    "vni_index['Actual_return'] = vni_index['Close'].pct_change()\n",
    "\n",
    "# Generate dataset with same length with prediction\n",
    "vni_index_test = vni_index.iloc[train_time + 1:]"
   ]
  },
  {
   "cell_type": "code",
   "execution_count": 217,
   "metadata": {},
   "outputs": [],
   "source": [
    "# Combine two prediction numpy\n",
    "pred = pd.DataFrame(data = pred_test, columns = ['Pred_return'], index = vni_index_test.index)\n",
    "\n",
    "# Combine the two dataframe\n",
    "vni_index_test['Pred_return'] = pred"
   ]
  },
  {
   "cell_type": "code",
   "execution_count": 218,
   "metadata": {},
   "outputs": [
    {
     "data": {
      "text/html": [
       "<div>\n",
       "<style scoped>\n",
       "    .dataframe tbody tr th:only-of-type {\n",
       "        vertical-align: middle;\n",
       "    }\n",
       "\n",
       "    .dataframe tbody tr th {\n",
       "        vertical-align: top;\n",
       "    }\n",
       "\n",
       "    .dataframe thead th {\n",
       "        text-align: right;\n",
       "    }\n",
       "</style>\n",
       "<table border=\"1\" class=\"dataframe\">\n",
       "  <thead>\n",
       "    <tr style=\"text-align: right;\">\n",
       "      <th></th>\n",
       "      <th>Close</th>\n",
       "      <th>Actual_return</th>\n",
       "      <th>Pred_return</th>\n",
       "    </tr>\n",
       "    <tr>\n",
       "      <th>Date</th>\n",
       "      <th></th>\n",
       "      <th></th>\n",
       "      <th></th>\n",
       "    </tr>\n",
       "  </thead>\n",
       "  <tbody>\n",
       "    <tr>\n",
       "      <th>2020-04-20</th>\n",
       "      <td>794.97</td>\n",
       "      <td>0.006801</td>\n",
       "      <td>0.006801</td>\n",
       "    </tr>\n",
       "    <tr>\n",
       "      <th>2020-04-21</th>\n",
       "      <td>766.84</td>\n",
       "      <td>-0.035385</td>\n",
       "      <td>-0.035385</td>\n",
       "    </tr>\n",
       "    <tr>\n",
       "      <th>2020-04-22</th>\n",
       "      <td>768.92</td>\n",
       "      <td>0.002712</td>\n",
       "      <td>0.002712</td>\n",
       "    </tr>\n",
       "    <tr>\n",
       "      <th>2020-04-23</th>\n",
       "      <td>773.91</td>\n",
       "      <td>0.006490</td>\n",
       "      <td>0.006490</td>\n",
       "    </tr>\n",
       "    <tr>\n",
       "      <th>2020-04-24</th>\n",
       "      <td>776.66</td>\n",
       "      <td>0.003553</td>\n",
       "      <td>0.003553</td>\n",
       "    </tr>\n",
       "    <tr>\n",
       "      <th>2020-04-27</th>\n",
       "      <td>770.77</td>\n",
       "      <td>-0.007584</td>\n",
       "      <td>-0.007584</td>\n",
       "    </tr>\n",
       "    <tr>\n",
       "      <th>2020-04-28</th>\n",
       "      <td>767.21</td>\n",
       "      <td>-0.004619</td>\n",
       "      <td>-0.004619</td>\n",
       "    </tr>\n",
       "    <tr>\n",
       "      <th>2020-04-29</th>\n",
       "      <td>769.11</td>\n",
       "      <td>0.002477</td>\n",
       "      <td>0.002477</td>\n",
       "    </tr>\n",
       "    <tr>\n",
       "      <th>2020-04-30</th>\n",
       "      <td>789.60</td>\n",
       "      <td>0.026641</td>\n",
       "      <td>0.026641</td>\n",
       "    </tr>\n",
       "    <tr>\n",
       "      <th>2020-05-01</th>\n",
       "      <td>794.97</td>\n",
       "      <td>0.006801</td>\n",
       "      <td>0.006801</td>\n",
       "    </tr>\n",
       "  </tbody>\n",
       "</table>\n",
       "</div>"
      ],
      "text/plain": [
       "             Close  Actual_return  Pred_return\n",
       "Date                                          \n",
       "2020-04-20  794.97       0.006801     0.006801\n",
       "2020-04-21  766.84      -0.035385    -0.035385\n",
       "2020-04-22  768.92       0.002712     0.002712\n",
       "2020-04-23  773.91       0.006490     0.006490\n",
       "2020-04-24  776.66       0.003553     0.003553\n",
       "2020-04-27  770.77      -0.007584    -0.007584\n",
       "2020-04-28  767.21      -0.004619    -0.004619\n",
       "2020-04-29  769.11       0.002477     0.002477\n",
       "2020-04-30  789.60       0.026641     0.026641\n",
       "2020-05-01  794.97       0.006801     0.006801"
      ]
     },
     "execution_count": 218,
     "metadata": {},
     "output_type": "execute_result"
    }
   ],
   "source": [
    "# Check first 10 values\n",
    "vni_index_test.head(10)"
   ]
  },
  {
   "cell_type": "code",
   "execution_count": 219,
   "metadata": {},
   "outputs": [
    {
     "data": {
      "text/html": [
       "<div>\n",
       "<style scoped>\n",
       "    .dataframe tbody tr th:only-of-type {\n",
       "        vertical-align: middle;\n",
       "    }\n",
       "\n",
       "    .dataframe tbody tr th {\n",
       "        vertical-align: top;\n",
       "    }\n",
       "\n",
       "    .dataframe thead th {\n",
       "        text-align: right;\n",
       "    }\n",
       "</style>\n",
       "<table border=\"1\" class=\"dataframe\">\n",
       "  <thead>\n",
       "    <tr style=\"text-align: right;\">\n",
       "      <th></th>\n",
       "      <th>Close</th>\n",
       "      <th>Actual_return</th>\n",
       "      <th>Pred_return</th>\n",
       "    </tr>\n",
       "  </thead>\n",
       "  <tbody>\n",
       "    <tr>\n",
       "      <th>count</th>\n",
       "      <td>835.000000</td>\n",
       "      <td>835.000000</td>\n",
       "      <td>835.000000</td>\n",
       "    </tr>\n",
       "    <tr>\n",
       "      <th>mean</th>\n",
       "      <td>1165.005940</td>\n",
       "      <td>0.000524</td>\n",
       "      <td>0.000524</td>\n",
       "    </tr>\n",
       "    <tr>\n",
       "      <th>std</th>\n",
       "      <td>203.644079</td>\n",
       "      <td>0.014474</td>\n",
       "      <td>0.014474</td>\n",
       "    </tr>\n",
       "    <tr>\n",
       "      <th>min</th>\n",
       "      <td>762.470000</td>\n",
       "      <td>-0.081611</td>\n",
       "      <td>-0.081611</td>\n",
       "    </tr>\n",
       "    <tr>\n",
       "      <th>25%</th>\n",
       "      <td>1028.635000</td>\n",
       "      <td>-0.004647</td>\n",
       "      <td>-0.004647</td>\n",
       "    </tr>\n",
       "    <tr>\n",
       "      <th>50%</th>\n",
       "      <td>1166.540000</td>\n",
       "      <td>0.001564</td>\n",
       "      <td>0.001564</td>\n",
       "    </tr>\n",
       "    <tr>\n",
       "      <th>75%</th>\n",
       "      <td>1334.695000</td>\n",
       "      <td>0.007713</td>\n",
       "      <td>0.007713</td>\n",
       "    </tr>\n",
       "    <tr>\n",
       "      <th>max</th>\n",
       "      <td>1528.570000</td>\n",
       "      <td>0.065738</td>\n",
       "      <td>0.065738</td>\n",
       "    </tr>\n",
       "  </tbody>\n",
       "</table>\n",
       "</div>"
      ],
      "text/plain": [
       "             Close  Actual_return  Pred_return\n",
       "count   835.000000     835.000000   835.000000\n",
       "mean   1165.005940       0.000524     0.000524\n",
       "std     203.644079       0.014474     0.014474\n",
       "min     762.470000      -0.081611    -0.081611\n",
       "25%    1028.635000      -0.004647    -0.004647\n",
       "50%    1166.540000       0.001564     0.001564\n",
       "75%    1334.695000       0.007713     0.007713\n",
       "max    1528.570000       0.065738     0.065738"
      ]
     },
     "execution_count": 219,
     "metadata": {},
     "output_type": "execute_result"
    }
   ],
   "source": [
    "# Check statistics\n",
    "vni_index_test.describe()"
   ]
  },
  {
   "cell_type": "code",
   "execution_count": 220,
   "metadata": {},
   "outputs": [],
   "source": [
    "# Predict close price of vn-index\n",
    "pred_close = []\n",
    "for i in range(len(vni_index_test) - 1):\n",
    "    pred_price = vni_index_test['Close'].iloc[i] *  (1 + vni_index_test['Pred_return'].iloc[i + 1])\n",
    "    pred_close.append(pred_price)"
   ]
  },
  {
   "cell_type": "code",
   "execution_count": 221,
   "metadata": {},
   "outputs": [
    {
     "data": {
      "text/html": [
       "<div>\n",
       "<style scoped>\n",
       "    .dataframe tbody tr th:only-of-type {\n",
       "        vertical-align: middle;\n",
       "    }\n",
       "\n",
       "    .dataframe tbody tr th {\n",
       "        vertical-align: top;\n",
       "    }\n",
       "\n",
       "    .dataframe thead th {\n",
       "        text-align: right;\n",
       "    }\n",
       "</style>\n",
       "<table border=\"1\" class=\"dataframe\">\n",
       "  <thead>\n",
       "    <tr style=\"text-align: right;\">\n",
       "      <th></th>\n",
       "      <th>Close</th>\n",
       "      <th>Actual_return</th>\n",
       "      <th>Pred_return</th>\n",
       "      <th>Pred_close</th>\n",
       "    </tr>\n",
       "    <tr>\n",
       "      <th>Date</th>\n",
       "      <th></th>\n",
       "      <th></th>\n",
       "      <th></th>\n",
       "      <th></th>\n",
       "    </tr>\n",
       "  </thead>\n",
       "  <tbody>\n",
       "    <tr>\n",
       "      <th>2020-04-21</th>\n",
       "      <td>766.84</td>\n",
       "      <td>-0.035385</td>\n",
       "      <td>-0.035385</td>\n",
       "      <td>766.84</td>\n",
       "    </tr>\n",
       "    <tr>\n",
       "      <th>2020-04-22</th>\n",
       "      <td>768.92</td>\n",
       "      <td>0.002712</td>\n",
       "      <td>0.002712</td>\n",
       "      <td>768.92</td>\n",
       "    </tr>\n",
       "    <tr>\n",
       "      <th>2020-04-23</th>\n",
       "      <td>773.91</td>\n",
       "      <td>0.006490</td>\n",
       "      <td>0.006490</td>\n",
       "      <td>773.91</td>\n",
       "    </tr>\n",
       "    <tr>\n",
       "      <th>2020-04-24</th>\n",
       "      <td>776.66</td>\n",
       "      <td>0.003553</td>\n",
       "      <td>0.003553</td>\n",
       "      <td>776.66</td>\n",
       "    </tr>\n",
       "    <tr>\n",
       "      <th>2020-04-27</th>\n",
       "      <td>770.77</td>\n",
       "      <td>-0.007584</td>\n",
       "      <td>-0.007584</td>\n",
       "      <td>770.77</td>\n",
       "    </tr>\n",
       "    <tr>\n",
       "      <th>2020-04-28</th>\n",
       "      <td>767.21</td>\n",
       "      <td>-0.004619</td>\n",
       "      <td>-0.004619</td>\n",
       "      <td>767.21</td>\n",
       "    </tr>\n",
       "    <tr>\n",
       "      <th>2020-04-29</th>\n",
       "      <td>769.11</td>\n",
       "      <td>0.002477</td>\n",
       "      <td>0.002477</td>\n",
       "      <td>769.11</td>\n",
       "    </tr>\n",
       "    <tr>\n",
       "      <th>2020-04-30</th>\n",
       "      <td>789.60</td>\n",
       "      <td>0.026641</td>\n",
       "      <td>0.026641</td>\n",
       "      <td>789.60</td>\n",
       "    </tr>\n",
       "    <tr>\n",
       "      <th>2020-05-01</th>\n",
       "      <td>794.97</td>\n",
       "      <td>0.006801</td>\n",
       "      <td>0.006801</td>\n",
       "      <td>794.97</td>\n",
       "    </tr>\n",
       "    <tr>\n",
       "      <th>2020-05-04</th>\n",
       "      <td>762.47</td>\n",
       "      <td>-0.040882</td>\n",
       "      <td>-0.040882</td>\n",
       "      <td>762.47</td>\n",
       "    </tr>\n",
       "  </tbody>\n",
       "</table>\n",
       "</div>"
      ],
      "text/plain": [
       "             Close  Actual_return  Pred_return  Pred_close\n",
       "Date                                                      \n",
       "2020-04-21  766.84      -0.035385    -0.035385      766.84\n",
       "2020-04-22  768.92       0.002712     0.002712      768.92\n",
       "2020-04-23  773.91       0.006490     0.006490      773.91\n",
       "2020-04-24  776.66       0.003553     0.003553      776.66\n",
       "2020-04-27  770.77      -0.007584    -0.007584      770.77\n",
       "2020-04-28  767.21      -0.004619    -0.004619      767.21\n",
       "2020-04-29  769.11       0.002477     0.002477      769.11\n",
       "2020-04-30  789.60       0.026641     0.026641      789.60\n",
       "2020-05-01  794.97       0.006801     0.006801      794.97\n",
       "2020-05-04  762.47      -0.040882    -0.040882      762.47"
      ]
     },
     "execution_count": 221,
     "metadata": {},
     "output_type": "execute_result"
    }
   ],
   "source": [
    "# Append to the dataframe\n",
    "vni_index_test = vni_index_test.iloc[1:]\n",
    "vni_index_test['Pred_close'] = pred_close\n",
    "vni_index_test.head(10)"
   ]
  },
  {
   "cell_type": "code",
   "execution_count": 222,
   "metadata": {},
   "outputs": [
    {
     "data": {
      "image/png": "[encoded data removed]",
      "text/plain": [
       "<Figure size 1200x600 with 1 Axes>"
      ]
     },
     "metadata": {},
     "output_type": "display_data"
    }
   ],
   "source": [
    "# Visualize the prediction and actual\n",
    "fig, ax = plt.subplots(figsize = (12,6))\n",
    "\n",
    "ax.plot(vni_index_test['Close'], color = 'g', label = 'Actual Close Price')\n",
    "ax.plot(vni_index_test['Pred_close'], color = 'r', label = 'Predicted Close Price')\n",
    "ax.legend()\n",
    "ax.set_xlabel('Time')\n",
    "ax.set_ylabel('Close Price')\n",
    "plt.title('Prediction vs Actual close price of VN-Index')\n",
    "plt.show()"
   ]
  },
  {
   "cell_type": "markdown",
   "metadata": {},
   "source": [
    "The predictions fit very well with the actual movement of the target variable. Let's take a closer look to see how fit it is."
   ]
  },
  {
   "cell_type": "code",
   "execution_count": 223,
   "metadata": {},
   "outputs": [],
   "source": [
    "# Slicing to a closer \n",
    "import datetime\n",
    "start = datetime.datetime(2023,1,1)\n",
    "end = datetime.datetime(2023,6,30)\n",
    "\n",
    "vni_index_test2 = vni_index_test.loc[start:end]"
   ]
  },
  {
   "cell_type": "code",
   "execution_count": 224,
   "metadata": {},
   "outputs": [
    {
     "data": {
      "image/png": "[encoded data removed]",
      "text/plain": [
       "<Figure size 1000x500 with 1 Axes>"
      ]
     },
     "metadata": {},
     "output_type": "display_data"
    }
   ],
   "source": [
    "# Visualize the data\n",
    "fig, ax = plt.subplots(figsize = (10,5))\n",
    "ax.plot(vni_index_test2['Close'], color = 'g', label = 'Actual price')\n",
    "ax.plot(vni_index_test2['Pred_close'], color = 'r', label = 'Prediction')\n",
    "plt.legend()\n",
    "plt.show()"
   ]
  },
  {
   "cell_type": "markdown",
   "metadata": {},
   "source": [
    "The prediction fits perfectly well!"
   ]
  },
  {
   "cell_type": "code",
   "execution_count": 225,
   "metadata": {},
   "outputs": [
    {
     "data": {
      "text/html": [
       "<div>\n",
       "<style scoped>\n",
       "    .dataframe tbody tr th:only-of-type {\n",
       "        vertical-align: middle;\n",
       "    }\n",
       "\n",
       "    .dataframe tbody tr th {\n",
       "        vertical-align: top;\n",
       "    }\n",
       "\n",
       "    .dataframe thead th {\n",
       "        text-align: right;\n",
       "    }\n",
       "</style>\n",
       "<table border=\"1\" class=\"dataframe\">\n",
       "  <thead>\n",
       "    <tr style=\"text-align: right;\">\n",
       "      <th></th>\n",
       "      <th>Close</th>\n",
       "      <th>Actual_return</th>\n",
       "      <th>Pred_return</th>\n",
       "      <th>Pred_close</th>\n",
       "    </tr>\n",
       "    <tr>\n",
       "      <th>Date</th>\n",
       "      <th></th>\n",
       "      <th></th>\n",
       "      <th></th>\n",
       "      <th></th>\n",
       "    </tr>\n",
       "  </thead>\n",
       "  <tbody>\n",
       "    <tr>\n",
       "      <th>2020-04-21</th>\n",
       "      <td>766.84</td>\n",
       "      <td>-0.035385</td>\n",
       "      <td>-0.035385</td>\n",
       "      <td>766.84</td>\n",
       "    </tr>\n",
       "    <tr>\n",
       "      <th>2020-04-22</th>\n",
       "      <td>768.92</td>\n",
       "      <td>0.002712</td>\n",
       "      <td>0.002712</td>\n",
       "      <td>768.92</td>\n",
       "    </tr>\n",
       "    <tr>\n",
       "      <th>2020-04-23</th>\n",
       "      <td>773.91</td>\n",
       "      <td>0.006490</td>\n",
       "      <td>0.006490</td>\n",
       "      <td>773.91</td>\n",
       "    </tr>\n",
       "    <tr>\n",
       "      <th>2020-04-24</th>\n",
       "      <td>776.66</td>\n",
       "      <td>0.003553</td>\n",
       "      <td>0.003553</td>\n",
       "      <td>776.66</td>\n",
       "    </tr>\n",
       "    <tr>\n",
       "      <th>2020-04-27</th>\n",
       "      <td>770.77</td>\n",
       "      <td>-0.007584</td>\n",
       "      <td>-0.007584</td>\n",
       "      <td>770.77</td>\n",
       "    </tr>\n",
       "    <tr>\n",
       "      <th>...</th>\n",
       "      <td>...</td>\n",
       "      <td>...</td>\n",
       "      <td>...</td>\n",
       "      <td>...</td>\n",
       "    </tr>\n",
       "    <tr>\n",
       "      <th>2023-06-22</th>\n",
       "      <td>1125.30</td>\n",
       "      <td>0.006116</td>\n",
       "      <td>0.006116</td>\n",
       "      <td>1125.30</td>\n",
       "    </tr>\n",
       "    <tr>\n",
       "      <th>2023-06-23</th>\n",
       "      <td>1129.38</td>\n",
       "      <td>0.003626</td>\n",
       "      <td>0.003626</td>\n",
       "      <td>1129.38</td>\n",
       "    </tr>\n",
       "    <tr>\n",
       "      <th>2023-06-27</th>\n",
       "      <td>1134.33</td>\n",
       "      <td>0.002032</td>\n",
       "      <td>0.002032</td>\n",
       "      <td>1134.33</td>\n",
       "    </tr>\n",
       "    <tr>\n",
       "      <th>2023-06-28</th>\n",
       "      <td>1138.35</td>\n",
       "      <td>0.003544</td>\n",
       "      <td>0.003544</td>\n",
       "      <td>1138.35</td>\n",
       "    </tr>\n",
       "    <tr>\n",
       "      <th>2023-06-29</th>\n",
       "      <td>1125.39</td>\n",
       "      <td>-0.011385</td>\n",
       "      <td>-0.011385</td>\n",
       "      <td>1125.39</td>\n",
       "    </tr>\n",
       "  </tbody>\n",
       "</table>\n",
       "<p>695 rows × 4 columns</p>\n",
       "</div>"
      ],
      "text/plain": [
       "              Close  Actual_return  Pred_return  Pred_close\n",
       "Date                                                       \n",
       "2020-04-21   766.84      -0.035385    -0.035385      766.84\n",
       "2020-04-22   768.92       0.002712     0.002712      768.92\n",
       "2020-04-23   773.91       0.006490     0.006490      773.91\n",
       "2020-04-24   776.66       0.003553     0.003553      776.66\n",
       "2020-04-27   770.77      -0.007584    -0.007584      770.77\n",
       "...             ...            ...          ...         ...\n",
       "2023-06-22  1125.30       0.006116     0.006116     1125.30\n",
       "2023-06-23  1129.38       0.003626     0.003626     1129.38\n",
       "2023-06-27  1134.33       0.002032     0.002032     1134.33\n",
       "2023-06-28  1138.35       0.003544     0.003544     1138.35\n",
       "2023-06-29  1125.39      -0.011385    -0.011385     1125.39\n",
       "\n",
       "[695 rows x 4 columns]"
      ]
     },
     "execution_count": 225,
     "metadata": {},
     "output_type": "execute_result"
    }
   ],
   "source": [
    "# Check how many days the model predict wrong\n",
    "vni_index_test[vni_index_test['Pred_close'] != vni_index_test['Close']]"
   ]
  },
  {
   "cell_type": "code",
   "execution_count": 226,
   "metadata": {},
   "outputs": [
    {
     "name": "stdout",
     "output_type": "stream",
     "text": [
      "834\n"
     ]
    }
   ],
   "source": [
    "# Check total test set observation\n",
    "print(len(vni_index_test))"
   ]
  },
  {
   "cell_type": "markdown",
   "metadata": {},
   "source": [
    "The model only predicts wrong 694 days out of 834 days, however the error is very small! "
   ]
  },
  {
   "cell_type": "code",
   "execution_count": 228,
   "metadata": {},
   "outputs": [
    {
     "name": "stdout",
     "output_type": "stream",
     "text": [
      "MAE: 3.657335558838079e-13 \n",
      "MSE: 2.1452827524676935e-25\n"
     ]
    }
   ],
   "source": [
    "# Calculate MAE and MSE of the prediction and actual price\n",
    "MAE = mae(vni_index_test['Close'], vni_index_test['Pred_close'])\n",
    "MSE = mse(vni_index_test['Close'], vni_index_test['Pred_close'])\n",
    "\n",
    "print(f\"MAE: {MAE} \\n\"\n",
    "      f\"MSE: {MSE}\")"
   ]
  }
 ],
 "metadata": {
  "kernelspec": {
   "display_name": "Python 3",
   "language": "python",
   "name": "python3"
  },
  "language_info": {
   "codemirror_mode": {
    "name": "ipython",
    "version": 3
   },
   "file_extension": ".py",
   "mimetype": "text/x-python",
   "name": "python",
   "nbconvert_exporter": "python",
   "pygments_lexer": "ipython3",
   "version": "3.11.4"
  },
  "orig_nbformat": 4
 },
 "nbformat": 4,
 "nbformat_minor": 2
}
