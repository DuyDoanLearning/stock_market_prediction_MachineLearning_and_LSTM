{
 "cells": [
  {
   "cell_type": "markdown",
   "metadata": {},
   "source": [
    "# Dissertation Code - Regression"
   ]
  },
  {
   "cell_type": "markdown",
   "metadata": {},
   "source": [
    "# Import necessary libraries"
   ]
  },
  {
   "cell_type": "code",
   "execution_count": 1,
   "metadata": {},
   "outputs": [],
   "source": [
    "import pandas as pd\n",
    "import numpy as np\n",
    "import matplotlib.pyplot as plt\n",
    "import seaborn as sns\n",
    "sns.set()\n",
    "\n",
    "import warnings\n",
    "warnings.filterwarnings(\"ignore\")"
   ]
  },
  {
   "cell_type": "markdown",
   "metadata": {},
   "source": [
    "## Import data\n",
    "\n",
    "The data was downloaded from Bloomberg and has been cleaned, keeping only meaningful variables:\n",
    "- Global stock indices: SHSZ CSI300 (China) and SP500 (US)\n",
    "- Commodity price: Palladium spot price\n",
    "- Target variable: VN-Index"
   ]
  },
  {
   "cell_type": "code",
   "execution_count": 74,
   "metadata": {},
   "outputs": [],
   "source": [
    "# Import data\n",
    "data = pd.read_csv('data.csv', index_col = 'Date')"
   ]
  },
  {
   "cell_type": "markdown",
   "metadata": {},
   "source": [
    "## Exploratory Data Analysis"
   ]
  },
  {
   "cell_type": "code",
   "execution_count": 75,
   "metadata": {},
   "outputs": [
    {
     "data": {
      "text/html": [
       "<div>\n",
       "<style scoped>\n",
       "    .dataframe tbody tr th:only-of-type {\n",
       "        vertical-align: middle;\n",
       "    }\n",
       "\n",
       "    .dataframe tbody tr th {\n",
       "        vertical-align: top;\n",
       "    }\n",
       "\n",
       "    .dataframe thead th {\n",
       "        text-align: right;\n",
       "    }\n",
       "</style>\n",
       "<table border=\"1\" class=\"dataframe\">\n",
       "  <thead>\n",
       "    <tr style=\"text-align: right;\">\n",
       "      <th></th>\n",
       "      <th>index_sp500</th>\n",
       "      <th>spot_palladium</th>\n",
       "      <th>index_shsz_csi300</th>\n",
       "      <th>index_vni</th>\n",
       "    </tr>\n",
       "  </thead>\n",
       "  <tbody>\n",
       "    <tr>\n",
       "      <th>count</th>\n",
       "      <td>4175.000000</td>\n",
       "      <td>4175.000000</td>\n",
       "      <td>4175.000000</td>\n",
       "      <td>4175.000000</td>\n",
       "    </tr>\n",
       "    <tr>\n",
       "      <th>mean</th>\n",
       "      <td>2260.290129</td>\n",
       "      <td>1027.290549</td>\n",
       "      <td>21234.396886</td>\n",
       "      <td>735.764041</td>\n",
       "    </tr>\n",
       "    <tr>\n",
       "      <th>std</th>\n",
       "      <td>1055.352200</td>\n",
       "      <td>677.881578</td>\n",
       "      <td>2228.786620</td>\n",
       "      <td>304.453259</td>\n",
       "    </tr>\n",
       "    <tr>\n",
       "      <th>min</th>\n",
       "      <td>676.530000</td>\n",
       "      <td>164.500000</td>\n",
       "      <td>15810.000000</td>\n",
       "      <td>235.500000</td>\n",
       "    </tr>\n",
       "    <tr>\n",
       "      <th>25%</th>\n",
       "      <td>1354.535000</td>\n",
       "      <td>585.835000</td>\n",
       "      <td>20817.000000</td>\n",
       "      <td>489.695000</td>\n",
       "    </tr>\n",
       "    <tr>\n",
       "      <th>50%</th>\n",
       "      <td>2049.580000</td>\n",
       "      <td>765.900000</td>\n",
       "      <td>21815.000000</td>\n",
       "      <td>614.420000</td>\n",
       "    </tr>\n",
       "    <tr>\n",
       "      <th>75%</th>\n",
       "      <td>2887.915000</td>\n",
       "      <td>1425.245000</td>\n",
       "      <td>23028.500000</td>\n",
       "      <td>973.865000</td>\n",
       "    </tr>\n",
       "    <tr>\n",
       "      <th>max</th>\n",
       "      <td>4796.560000</td>\n",
       "      <td>3171.880000</td>\n",
       "      <td>24867.000000</td>\n",
       "      <td>1528.570000</td>\n",
       "    </tr>\n",
       "  </tbody>\n",
       "</table>\n",
       "</div>"
      ],
      "text/plain": [
       "       index_sp500  spot_palladium  index_shsz_csi300    index_vni\n",
       "count  4175.000000     4175.000000        4175.000000  4175.000000\n",
       "mean   2260.290129     1027.290549       21234.396886   735.764041\n",
       "std    1055.352200      677.881578        2228.786620   304.453259\n",
       "min     676.530000      164.500000       15810.000000   235.500000\n",
       "25%    1354.535000      585.835000       20817.000000   489.695000\n",
       "50%    2049.580000      765.900000       21815.000000   614.420000\n",
       "75%    2887.915000     1425.245000       23028.500000   973.865000\n",
       "max    4796.560000     3171.880000       24867.000000  1528.570000"
      ]
     },
     "execution_count": 75,
     "metadata": {},
     "output_type": "execute_result"
    }
   ],
   "source": [
    "# Describe the data\n",
    "data.describe()"
   ]
  },
  {
   "cell_type": "markdown",
   "metadata": {},
   "source": [
    "## Cointegration Test"
   ]
  },
  {
   "cell_type": "code",
   "execution_count": 76,
   "metadata": {},
   "outputs": [
    {
     "data": {
      "text/html": [
       "<div>\n",
       "<style scoped>\n",
       "    .dataframe tbody tr th:only-of-type {\n",
       "        vertical-align: middle;\n",
       "    }\n",
       "\n",
       "    .dataframe tbody tr th {\n",
       "        vertical-align: top;\n",
       "    }\n",
       "\n",
       "    .dataframe thead th {\n",
       "        text-align: right;\n",
       "    }\n",
       "</style>\n",
       "<table border=\"1\" class=\"dataframe\">\n",
       "  <thead>\n",
       "    <tr style=\"text-align: right;\">\n",
       "      <th></th>\n",
       "      <th>p_value</th>\n",
       "      <th>Test_statistics</th>\n",
       "      <th>Stationary</th>\n",
       "    </tr>\n",
       "  </thead>\n",
       "  <tbody>\n",
       "    <tr>\n",
       "      <th>index_shsz_csi300</th>\n",
       "      <td>0.166166</td>\n",
       "      <td>-2.318198</td>\n",
       "      <td>Non-stationary</td>\n",
       "    </tr>\n",
       "    <tr>\n",
       "      <th>spot_palladium</th>\n",
       "      <td>0.547025</td>\n",
       "      <td>-1.472589</td>\n",
       "      <td>Non-stationary</td>\n",
       "    </tr>\n",
       "    <tr>\n",
       "      <th>index_vni</th>\n",
       "      <td>0.682080</td>\n",
       "      <td>-1.180140</td>\n",
       "      <td>Non-stationary</td>\n",
       "    </tr>\n",
       "    <tr>\n",
       "      <th>index_sp500</th>\n",
       "      <td>0.980759</td>\n",
       "      <td>0.380698</td>\n",
       "      <td>Non-stationary</td>\n",
       "    </tr>\n",
       "  </tbody>\n",
       "</table>\n",
       "</div>"
      ],
      "text/plain": [
       "                    p_value  Test_statistics      Stationary\n",
       "index_shsz_csi300  0.166166        -2.318198  Non-stationary\n",
       "spot_palladium     0.547025        -1.472589  Non-stationary\n",
       "index_vni          0.682080        -1.180140  Non-stationary\n",
       "index_sp500        0.980759         0.380698  Non-stationary"
      ]
     },
     "execution_count": 76,
     "metadata": {},
     "output_type": "execute_result"
    }
   ],
   "source": [
    "# Check for stationarity\n",
    "import statsmodels.tsa.stattools as ts\n",
    "cols = []\n",
    "p_values = []\n",
    "statistics = []\n",
    "for col in data.columns:\n",
    "    result = ts.adfuller(data[col])\n",
    "    p_value = result[1]\n",
    "    cols.append(col)\n",
    "    p_values.append(p_value)\n",
    "    statistics.append(result[0])\n",
    "\n",
    "\n",
    "stationary = pd.DataFrame(data = [p_values, statistics], columns = data.columns, index = ['p_value','Test_statistics'])\n",
    "stationary = stationary.T\n",
    "stationary['Stationary'] = np.where(stationary['p_value'] > 0.1, 'Non-stationary','Stationary')\n",
    "stationary.sort_values(by = 'p_value', ascending = True)\n",
    "    "
   ]
  },
  {
   "cell_type": "code",
   "execution_count": 77,
   "metadata": {},
   "outputs": [
    {
     "data": {
      "text/html": [
       "<div>\n",
       "<style scoped>\n",
       "    .dataframe tbody tr th:only-of-type {\n",
       "        vertical-align: middle;\n",
       "    }\n",
       "\n",
       "    .dataframe tbody tr th {\n",
       "        vertical-align: top;\n",
       "    }\n",
       "\n",
       "    .dataframe thead th {\n",
       "        text-align: right;\n",
       "    }\n",
       "</style>\n",
       "<table border=\"1\" class=\"dataframe\">\n",
       "  <thead>\n",
       "    <tr style=\"text-align: right;\">\n",
       "      <th></th>\n",
       "      <th>p_value</th>\n",
       "      <th>Cointegrated</th>\n",
       "    </tr>\n",
       "  </thead>\n",
       "  <tbody>\n",
       "    <tr>\n",
       "      <th>index_sp500</th>\n",
       "      <td>0.011873</td>\n",
       "      <td>Cointegrated</td>\n",
       "    </tr>\n",
       "    <tr>\n",
       "      <th>spot_palladium</th>\n",
       "      <td>0.093027</td>\n",
       "      <td>Cointegrated</td>\n",
       "    </tr>\n",
       "    <tr>\n",
       "      <th>index_shsz_csi300</th>\n",
       "      <td>0.317219</td>\n",
       "      <td>No cointegration</td>\n",
       "    </tr>\n",
       "  </tbody>\n",
       "</table>\n",
       "</div>"
      ],
      "text/plain": [
       "                    p_value      Cointegrated\n",
       "index_sp500        0.011873      Cointegrated\n",
       "spot_palladium     0.093027      Cointegrated\n",
       "index_shsz_csi300  0.317219  No cointegration"
      ]
     },
     "execution_count": 77,
     "metadata": {},
     "output_type": "execute_result"
    }
   ],
   "source": [
    "# Cointegration test\n",
    "import statsmodels.tsa.stattools as ts\n",
    "\n",
    "cols = []\n",
    "p_values = []\n",
    "\n",
    "for column in data.drop('index_vni', axis = 1).columns:\n",
    "    result = ts.coint(data['index_vni'], data[column], method = 'aeg', maxlag = 5)\n",
    "    cols.append(column)\n",
    "    p_values.append(result[1])\n",
    "\n",
    "\n",
    "cointegration = pd.DataFrame(data = p_values)\n",
    "cointegration.T\n",
    "cointegration.index = cols\n",
    "cointegration.rename(columns = {0 : 'p_value'}, inplace = True)\n",
    "cointegration = cointegration.sort_values(by = 'p_value', ascending = True)\n",
    "cointegration['Cointegrated'] = np.where(cointegration['p_value'] > 0.1, 'No cointegration','Cointegrated')\n",
    "cointegration\n"
   ]
  },
  {
   "cell_type": "code",
   "execution_count": 78,
   "metadata": {},
   "outputs": [
    {
     "data": {
      "text/html": [
       "<div>\n",
       "<style scoped>\n",
       "    .dataframe tbody tr th:only-of-type {\n",
       "        vertical-align: middle;\n",
       "    }\n",
       "\n",
       "    .dataframe tbody tr th {\n",
       "        vertical-align: top;\n",
       "    }\n",
       "\n",
       "    .dataframe thead th {\n",
       "        text-align: right;\n",
       "    }\n",
       "</style>\n",
       "<table border=\"1\" class=\"dataframe\">\n",
       "  <thead>\n",
       "    <tr style=\"text-align: right;\">\n",
       "      <th></th>\n",
       "      <th>index_sp500_x</th>\n",
       "      <th>spot_palladium_x</th>\n",
       "      <th>index_shsz_csi300_x</th>\n",
       "      <th>index_vni_x</th>\n",
       "    </tr>\n",
       "  </thead>\n",
       "  <tbody>\n",
       "    <tr>\n",
       "      <th>index_sp500_y</th>\n",
       "      <td>1.0000</td>\n",
       "      <td>0.1347</td>\n",
       "      <td>0.0158</td>\n",
       "      <td>0.0004</td>\n",
       "    </tr>\n",
       "    <tr>\n",
       "      <th>spot_palladium_y</th>\n",
       "      <td>0.0000</td>\n",
       "      <td>1.0000</td>\n",
       "      <td>0.0015</td>\n",
       "      <td>0.0056</td>\n",
       "    </tr>\n",
       "    <tr>\n",
       "      <th>index_shsz_csi300_y</th>\n",
       "      <td>0.0086</td>\n",
       "      <td>0.0403</td>\n",
       "      <td>1.0000</td>\n",
       "      <td>0.0546</td>\n",
       "    </tr>\n",
       "    <tr>\n",
       "      <th>index_vni_y</th>\n",
       "      <td>0.0000</td>\n",
       "      <td>0.0000</td>\n",
       "      <td>0.0012</td>\n",
       "      <td>1.0000</td>\n",
       "    </tr>\n",
       "  </tbody>\n",
       "</table>\n",
       "</div>"
      ],
      "text/plain": [
       "                     index_sp500_x  spot_palladium_x  index_shsz_csi300_x  \\\n",
       "index_sp500_y               1.0000            0.1347               0.0158   \n",
       "spot_palladium_y            0.0000            1.0000               0.0015   \n",
       "index_shsz_csi300_y         0.0086            0.0403               1.0000   \n",
       "index_vni_y                 0.0000            0.0000               0.0012   \n",
       "\n",
       "                     index_vni_x  \n",
       "index_sp500_y             0.0004  \n",
       "spot_palladium_y          0.0056  \n",
       "index_shsz_csi300_y       0.0546  \n",
       "index_vni_y               1.0000  "
      ]
     },
     "execution_count": 78,
     "metadata": {},
     "output_type": "execute_result"
    }
   ],
   "source": [
    "# Import test\n",
    "from statsmodels.tsa.stattools import grangercausalitytests\n",
    "\n",
    "# Define parameters\n",
    "maxlag = 12\n",
    "test = 'ssr_chi2test'\n",
    "\n",
    "# Define test\n",
    "def granger_causality_matrix(X_train, variables, test = test, verbose = False):\n",
    "    dataset = pd.DataFrame(np.zeros((len(variables), len(variables))), columns = variables, index = variables)\n",
    "    for c in dataset.columns:\n",
    "        for r in dataset.index:\n",
    "            test_result = grangercausalitytests(X_train[[r,c]], maxlag= maxlag, verbose= False)\n",
    "            p_values = [round(test_result[i+1][0][test][1],4) for i in range(maxlag)]\n",
    "            if verbose: print(f'Y = {r}, X = {c}, P Values = {p_values}')\n",
    "            \n",
    "            min_p_value = np.min(p_values)\n",
    "            dataset.loc[r,c] = min_p_value\n",
    "    dataset.columns = [var + '_x' for var in variables]\n",
    "    \n",
    "    dataset.index = [var + '_y' for var in variables]\n",
    "    \n",
    "    return dataset\n",
    "granger_result = granger_causality_matrix(data, variables= data.columns)\n",
    "granger_result"
   ]
  },
  {
   "cell_type": "code",
   "execution_count": 79,
   "metadata": {},
   "outputs": [
    {
     "data": {
      "text/plain": [
       "index_sp500_x          0.0000\n",
       "spot_palladium_x       0.0000\n",
       "index_shsz_csi300_x    0.0012\n",
       "index_vni_x            1.0000\n",
       "Name: index_vni_y, dtype: float64"
      ]
     },
     "execution_count": 79,
     "metadata": {},
     "output_type": "execute_result"
    }
   ],
   "source": [
    "# Examine potential variables to predict vn-index\n",
    "granger_result.loc['index_vni_y'].T.sort_values(ascending = True)"
   ]
  },
  {
   "cell_type": "code",
   "execution_count": 80,
   "metadata": {},
   "outputs": [
    {
     "data": {
      "image/png": "[encoded data removed]",
      "text/plain": [
       "<Figure size 1000x600 with 4 Axes>"
      ]
     },
     "metadata": {},
     "output_type": "display_data"
    }
   ],
   "source": [
    "# Check the scatter plot between variables\n",
    "y = data['index_vni']\n",
    "fix, ax = plt.subplots(2,2, figsize = (10,6))\n",
    "ax[0,0].scatter(y, data['index_sp500'])\n",
    "ax[0,1].scatter(y, data['index_shsz_csi300'])\n",
    "ax[1,0].scatter(y, data['spot_palladium'])\n",
    "plt.show()"
   ]
  },
  {
   "cell_type": "markdown",
   "metadata": {},
   "source": [
    "Spot price palladium and SP500 seems to have a certain degree of correlation, while SHSZ CSI300 shows little correlation with the VNI. Therefore, we will continue further with only SP500 and spot price of palladium."
   ]
  },
  {
   "cell_type": "code",
   "execution_count": 107,
   "metadata": {},
   "outputs": [],
   "source": [
    "# Drop the SHSZ CSI300 variables\n",
    "data = data.drop('index_shsz_csi300', axis = 1)"
   ]
  },
  {
   "cell_type": "code",
   "execution_count": 108,
   "metadata": {},
   "outputs": [
    {
     "data": {
      "text/html": [
       "<div>\n",
       "<style scoped>\n",
       "    .dataframe tbody tr th:only-of-type {\n",
       "        vertical-align: middle;\n",
       "    }\n",
       "\n",
       "    .dataframe tbody tr th {\n",
       "        vertical-align: top;\n",
       "    }\n",
       "\n",
       "    .dataframe thead th {\n",
       "        text-align: right;\n",
       "    }\n",
       "</style>\n",
       "<table border=\"1\" class=\"dataframe\">\n",
       "  <thead>\n",
       "    <tr style=\"text-align: right;\">\n",
       "      <th></th>\n",
       "      <th>index_sp500</th>\n",
       "      <th>spot_palladium</th>\n",
       "      <th>index_vni</th>\n",
       "    </tr>\n",
       "    <tr>\n",
       "      <th>Date</th>\n",
       "      <th></th>\n",
       "      <th></th>\n",
       "      <th></th>\n",
       "    </tr>\n",
       "  </thead>\n",
       "  <tbody>\n",
       "    <tr>\n",
       "      <th>7/3/2007</th>\n",
       "      <td>0.003574</td>\n",
       "      <td>-0.009543</td>\n",
       "      <td>-0.017115</td>\n",
       "    </tr>\n",
       "    <tr>\n",
       "      <th>7/4/2007</th>\n",
       "      <td>-0.001759</td>\n",
       "      <td>0.002736</td>\n",
       "      <td>0.036430</td>\n",
       "    </tr>\n",
       "    <tr>\n",
       "      <th>7/5/2007</th>\n",
       "      <td>0.002107</td>\n",
       "      <td>-0.001367</td>\n",
       "      <td>-0.000730</td>\n",
       "    </tr>\n",
       "    <tr>\n",
       "      <th>7/6/2007</th>\n",
       "      <td>0.003299</td>\n",
       "      <td>0.004096</td>\n",
       "      <td>-0.002264</td>\n",
       "    </tr>\n",
       "    <tr>\n",
       "      <th>7/9/2007</th>\n",
       "      <td>0.000921</td>\n",
       "      <td>0.002721</td>\n",
       "      <td>-0.000257</td>\n",
       "    </tr>\n",
       "  </tbody>\n",
       "</table>\n",
       "</div>"
      ],
      "text/plain": [
       "          index_sp500  spot_palladium  index_vni\n",
       "Date                                            \n",
       "7/3/2007     0.003574       -0.009543  -0.017115\n",
       "7/4/2007    -0.001759        0.002736   0.036430\n",
       "7/5/2007     0.002107       -0.001367  -0.000730\n",
       "7/6/2007     0.003299        0.004096  -0.002264\n",
       "7/9/2007     0.000921        0.002721  -0.000257"
      ]
     },
     "execution_count": 108,
     "metadata": {},
     "output_type": "execute_result"
    }
   ],
   "source": [
    "# Generate log return\n",
    "log_returns = np.log(data).diff()\n",
    "log_returns.dropna(inplace= True)\n",
    "log_returns.reset_index(inplace= True)\n",
    "log_returns.replace([np.inf, -np.inf], np.nan, inplace = True)\n",
    "log_returns = log_returns.dropna()\n",
    "log_returns.set_index('Date', inplace = True)\n",
    "log_returns.head()"
   ]
  },
  {
   "cell_type": "code",
   "execution_count": 109,
   "metadata": {},
   "outputs": [
    {
     "data": {
      "text/plain": [
       "index_sp500       0.000257\n",
       "spot_palladium    0.000289\n",
       "index_vni         0.000029\n",
       "dtype: float64"
      ]
     },
     "execution_count": 109,
     "metadata": {},
     "output_type": "execute_result"
    }
   ],
   "source": [
    "log_returns.mean()"
   ]
  },
  {
   "cell_type": "code",
   "execution_count": 110,
   "metadata": {},
   "outputs": [
    {
     "data": {
      "text/html": [
       "<div>\n",
       "<style scoped>\n",
       "    .dataframe tbody tr th:only-of-type {\n",
       "        vertical-align: middle;\n",
       "    }\n",
       "\n",
       "    .dataframe tbody tr th {\n",
       "        vertical-align: top;\n",
       "    }\n",
       "\n",
       "    .dataframe thead th {\n",
       "        text-align: right;\n",
       "    }\n",
       "</style>\n",
       "<table border=\"1\" class=\"dataframe\">\n",
       "  <thead>\n",
       "    <tr style=\"text-align: right;\">\n",
       "      <th></th>\n",
       "      <th>index_sp500_x</th>\n",
       "      <th>spot_palladium_x</th>\n",
       "      <th>index_vni_x</th>\n",
       "    </tr>\n",
       "  </thead>\n",
       "  <tbody>\n",
       "    <tr>\n",
       "      <th>index_sp500_y</th>\n",
       "      <td>1.0</td>\n",
       "      <td>0.1347</td>\n",
       "      <td>0.0004</td>\n",
       "    </tr>\n",
       "    <tr>\n",
       "      <th>spot_palladium_y</th>\n",
       "      <td>0.0</td>\n",
       "      <td>1.0000</td>\n",
       "      <td>0.0056</td>\n",
       "    </tr>\n",
       "    <tr>\n",
       "      <th>index_vni_y</th>\n",
       "      <td>0.0</td>\n",
       "      <td>0.0000</td>\n",
       "      <td>1.0000</td>\n",
       "    </tr>\n",
       "  </tbody>\n",
       "</table>\n",
       "</div>"
      ],
      "text/plain": [
       "                  index_sp500_x  spot_palladium_x  index_vni_x\n",
       "index_sp500_y               1.0            0.1347       0.0004\n",
       "spot_palladium_y            0.0            1.0000       0.0056\n",
       "index_vni_y                 0.0            0.0000       1.0000"
      ]
     },
     "execution_count": 110,
     "metadata": {},
     "output_type": "execute_result"
    }
   ],
   "source": [
    "# Import test\n",
    "from statsmodels.tsa.stattools import grangercausalitytests\n",
    "\n",
    "# Define parameters\n",
    "maxlag = 12\n",
    "test = 'ssr_chi2test'\n",
    "\n",
    "# Define test\n",
    "def granger_causality_matrix(X_train, variables, test = test, verbose = False):\n",
    "    dataset = pd.DataFrame(np.zeros((len(variables), len(variables))), columns = variables, index = variables)\n",
    "    for c in dataset.columns:\n",
    "        for r in dataset.index:\n",
    "            test_result = grangercausalitytests(X_train[[r,c]], maxlag= maxlag, verbose= False)\n",
    "            p_values = [round(test_result[i+1][0][test][1],4) for i in range(maxlag)]\n",
    "            if verbose: print(f'Y = {r}, X = {c}, P Values = {p_values}')\n",
    "            \n",
    "            min_p_value = np.min(p_values)\n",
    "            dataset.loc[r,c] = min_p_value\n",
    "    dataset.columns = [var + '_x' for var in variables]\n",
    "    \n",
    "    dataset.index = [var + '_y' for var in variables]\n",
    "    \n",
    "    return dataset\n",
    "granger_result = granger_causality_matrix(data, variables= data.columns)\n",
    "granger_result"
   ]
  },
  {
   "cell_type": "code",
   "execution_count": 111,
   "metadata": {},
   "outputs": [],
   "source": [
    "# plots the spread on the return series data\n",
    "import statsmodels.api as sm\n",
    "A1 = log_returns[\"index_vni\"]\n",
    "A2 = log_returns[\"index_sp500\"]\n",
    "A1 = sm.add_constant(A1)\n",
    "results = sm.OLS(A2, A1).fit()\n",
    "\n",
    "A1 = A1[\"index_vni\"]\n",
    "b1 = results.params[\"index_vni\"]\n"
   ]
  },
  {
   "cell_type": "code",
   "execution_count": 112,
   "metadata": {},
   "outputs": [
    {
     "data": {
      "text/plain": [
       "Text(0.5, 1.0, 'Spread between log different of SP500 and VNIndex')"
      ]
     },
     "execution_count": 112,
     "metadata": {},
     "output_type": "execute_result"
    },
    {
     "data": {
      "image/png": "[encoded data removed]",
      "text/plain": [
       "<Figure size 640x480 with 1 Axes>"
      ]
     },
     "metadata": {},
     "output_type": "display_data"
    }
   ],
   "source": [
    "# Check spread\n",
    "spread1 = A2.values - b1 * A1.values\n",
    "plt.plot(spread1)\n",
    "plt.xlabel('Time t')\n",
    "plt.ylabel('Spread of Log different')\n",
    "plt.title('Spread between log different of SP500 and VNIndex')"
   ]
  },
  {
   "cell_type": "code",
   "execution_count": 113,
   "metadata": {},
   "outputs": [],
   "source": [
    "# plots the spread on the return series data\n",
    "import statsmodels.api as sm\n",
    "A1 = log_returns[\"index_vni\"]\n",
    "A3 = log_returns[\"spot_palladium\"]\n",
    "A1 = sm.add_constant(A1)\n",
    "results = sm.OLS(A3, A1).fit()\n",
    "\n",
    "A1 = A1[\"index_vni\"]\n",
    "b2 = results.params[\"index_vni\"]"
   ]
  },
  {
   "cell_type": "code",
   "execution_count": 114,
   "metadata": {},
   "outputs": [
    {
     "data": {
      "text/plain": [
       "Text(0.5, 1.0, 'Spread between log different of spot price Palladium and VNIndex')"
      ]
     },
     "execution_count": 114,
     "metadata": {},
     "output_type": "execute_result"
    },
    {
     "data": {
      "image/png": "[encoded data removed]",
      "text/plain": [
       "<Figure size 640x480 with 1 Axes>"
      ]
     },
     "metadata": {},
     "output_type": "display_data"
    }
   ],
   "source": [
    "# Check spread\n",
    "spread2 = A3.values - b2 * A1.values\n",
    "plt.plot(spread2)\n",
    "plt.xlabel('Time t')\n",
    "plt.ylabel('Spread of Log different')\n",
    "plt.title('Spread between log different of spot price Palladium and VNIndex')"
   ]
  },
  {
   "cell_type": "markdown",
   "metadata": {},
   "source": [
    "## Machine Learning for Regressions"
   ]
  },
  {
   "cell_type": "code",
   "execution_count": 115,
   "metadata": {},
   "outputs": [],
   "source": [
    "def split(df, target):\n",
    "    # Define target and predictors\n",
    "    X = df.drop('index_vni', axis = 1)\n",
    "    y = df['index_vni']\n",
    "\n",
    "    # Define train set, cv test and test set\n",
    "    train_time = int(round(0.8 * len(df)))\n",
    "\n",
    "    X_train = X.iloc[:train_time]\n",
    "    X_test = X.iloc[train_time:]\n",
    "\n",
    "    y_train = y.iloc[:train_time]\n",
    "    y_test = y.iloc[train_time:]\n",
    "    \n",
    "    # Print out the shape to check shape\n",
    "    print(X_train.shape)\n",
    "    print(X_test.shape)\n",
    "    print(y_train.shape)\n",
    "    print(y_test.shape)\n",
    "    return X_train, y_train, X_test, y_test"
   ]
  },
  {
   "cell_type": "code",
   "execution_count": 116,
   "metadata": {},
   "outputs": [],
   "source": [
    "# Import and call out object of models\n",
    "from sklearn.linear_model import LinearRegression, Ridge, Lasso\n",
    "from sklearn.svm import SVR\n",
    "from xgboost import XGBRegressor\n",
    "from sklearn.tree import DecisionTreeRegressor\n",
    "from sklearn.ensemble import RandomForestRegressor\n",
    "from sklearn.ensemble import GradientBoostingRegressor\n",
    "\n",
    "\n",
    "lr = LinearRegression()\n",
    "ridge = Ridge(alpha = 0.1)\n",
    "lasso = Lasso(alpha = 0.1)\n",
    "dtr = DecisionTreeRegressor(criterion = 'squared_error', max_depth = 10, min_samples_split = 4)\n",
    "gb = GradientBoostingRegressor()\n",
    "xgb = XGBRegressor()\n",
    "rf = RandomForestRegressor(criterion = 'squared_error', max_depth = 10, min_samples_split = 4)\n",
    "svr = SVR()"
   ]
  },
  {
   "cell_type": "code",
   "execution_count": 117,
   "metadata": {},
   "outputs": [],
   "source": [
    "# Import scaling\n",
    "from sklearn.preprocessing import MinMaxScaler\n",
    "scaler = MinMaxScaler()"
   ]
  },
  {
   "cell_type": "code",
   "execution_count": 119,
   "metadata": {},
   "outputs": [
    {
     "name": "stdout",
     "output_type": "stream",
     "text": [
      "(3340, 2)\n",
      "(835, 2)\n",
      "(3340,)\n",
      "(835,)\n"
     ]
    }
   ],
   "source": [
    "# Define train set, cv test and test set\n",
    "X_train, y_train, X_test, y_test = split(data, 'index_vni')"
   ]
  },
  {
   "cell_type": "code",
   "execution_count": 120,
   "metadata": {},
   "outputs": [],
   "source": [
    "# Scale the variables\n",
    "X_train_scaled = scaler.fit_transform(X_train)\n",
    "X_test_scaled = scaler.transform(X_test)"
   ]
  },
  {
   "cell_type": "code",
   "execution_count": 121,
   "metadata": {},
   "outputs": [],
   "source": [
    "# Import metrics\n",
    "from sklearn.metrics import mean_absolute_error as mae\n",
    "from sklearn.metrics import mean_squared_error as mse"
   ]
  },
  {
   "cell_type": "code",
   "execution_count": 122,
   "metadata": {},
   "outputs": [],
   "source": [
    "# Define evaluate model function\n",
    "def rmse(mse):\n",
    "    rmse = np.sqrt(mse)\n",
    "    return rmse\n",
    "\n",
    "def evaluate_model(model, X_train, y_train, X_test, y_test):\n",
    "    model.fit(X_train, y_train)\n",
    "    y_pred = model.predict(X_test)\n",
    "    print(f\"{model} errors: \\n\"\n",
    "          f\"MAE: {mae(y_test, y_pred)} \\n\"\n",
    "          f\"MSE: {mse(y_test, y_pred)} \\n\"\n",
    "          f\"RMSE : {rmse(mse(y_test, y_pred))}\")"
   ]
  },
  {
   "cell_type": "code",
   "execution_count": 123,
   "metadata": {},
   "outputs": [
    {
     "name": "stdout",
     "output_type": "stream",
     "text": [
      "LinearRegression() errors: \n",
      "MAE: 100.95034447975807 \n",
      "MSE: 16475.599203818965 \n",
      "RMSE : 128.35731067539146\n",
      "Ridge(alpha=0.1) errors: \n",
      "MAE: 100.91085455702917 \n",
      "MSE: 16420.100222959383 \n",
      "RMSE : 128.14093890306634\n",
      "Lasso(alpha=0.1) errors: \n",
      "MAE: 100.6034586372575 \n",
      "MSE: 16129.680294092928 \n",
      "RMSE : 127.00267829495931\n",
      "DecisionTreeRegressor(max_depth=10, min_samples_split=4) errors: \n",
      "MAE: 239.7291167982716 \n",
      "MSE: 87433.08907229929 \n",
      "RMSE : 295.69086741443215\n",
      "GradientBoostingRegressor() errors: \n",
      "MAE: 233.31915404414005 \n",
      "MSE: 85063.381957488 \n",
      "RMSE : 291.6562736467159\n",
      "XGBRegressor(base_score=None, booster=None, callbacks=None,\n",
      "             colsample_bylevel=None, colsample_bynode=None,\n",
      "             colsample_bytree=None, early_stopping_rounds=None,\n",
      "             enable_categorical=False, eval_metric=None, feature_types=None,\n",
      "             gamma=None, gpu_id=None, grow_policy=None, importance_type=None,\n",
      "             interaction_constraints=None, learning_rate=None, max_bin=None,\n",
      "             max_cat_threshold=None, max_cat_to_onehot=None,\n",
      "             max_delta_step=None, max_depth=None, max_leaves=None,\n",
      "             min_child_weight=None, missing=nan, monotone_constraints=None,\n",
      "             n_estimators=100, n_jobs=None, num_parallel_tree=None,\n",
      "             predictor=None, random_state=None, ...) errors: \n",
      "MAE: 236.18134040220343 \n",
      "MSE: 86620.98116029469 \n",
      "RMSE : 294.3144256748124\n",
      "RandomForestRegressor(max_depth=10, min_samples_split=4) errors: \n",
      "MAE: 240.83748033676528 \n",
      "MSE: 87961.04998768226 \n",
      "RMSE : 296.5822819854252\n",
      "SVR() errors: \n",
      "MAE: 409.1822266811936 \n",
      "MSE: 222258.7876271069 \n",
      "RMSE : 471.44330266438925\n"
     ]
    }
   ],
   "source": [
    "# Set the model list\n",
    "models = [lr, ridge, lasso, dtr, gb, xgb, rf, svr]\n",
    "\n",
    "# Evaluate models performance\n",
    "for model in models:\n",
    "    evaluate_model(model, X_train_scaled, y_train, X_test_scaled, y_test)"
   ]
  },
  {
   "cell_type": "markdown",
   "metadata": {},
   "source": [
    "It seems like regression task on level time-series data is not effective and will not work at all. The error is too high. We will perform regression on the log differencing of time-series data"
   ]
  },
  {
   "cell_type": "code",
   "execution_count": 124,
   "metadata": {},
   "outputs": [
    {
     "name": "stdout",
     "output_type": "stream",
     "text": [
      "(3339, 2)\n",
      "(835, 2)\n",
      "(3339,)\n",
      "(835,)\n"
     ]
    }
   ],
   "source": [
    "# Test with log return data set\n",
    "df2 = log_returns\n",
    "\n",
    "# Train test split\n",
    "X_train, y_train, X_test, y_test = split(df2, 'index_vni')"
   ]
  },
  {
   "cell_type": "code",
   "execution_count": 125,
   "metadata": {},
   "outputs": [],
   "source": [
    "# Scale the data\n",
    "from sklearn.preprocessing import StandardScaler\n",
    "scaler = StandardScaler()\n",
    "\n",
    "X_train_scaled = scaler.fit_transform(X_train)\n",
    "X_test_scaled = scaler.transform(X_test)"
   ]
  },
  {
   "cell_type": "code",
   "execution_count": 126,
   "metadata": {},
   "outputs": [
    {
     "name": "stdout",
     "output_type": "stream",
     "text": [
      "LinearRegression() errors: \n",
      "MAE: 0.009927017918490688 \n",
      "MSE: 0.00021372742807856384 \n",
      "RMSE : 0.014619419553407852\n",
      "Ridge(alpha=0.1) errors: \n",
      "MAE: 0.009927014651343383 \n",
      "MSE: 0.00021372734198263645 \n",
      "RMSE : 0.014619416608833488\n",
      "Lasso(alpha=0.1) errors: \n",
      "MAE: 0.00985837397160294 \n",
      "MSE: 0.00021168026227547028 \n",
      "RMSE : 0.014549235796957525\n",
      "DecisionTreeRegressor(max_depth=10, min_samples_split=4) errors: \n",
      "MAE: 0.011099175542662267 \n",
      "MSE: 0.0003092208355064684 \n",
      "RMSE : 0.01758467615585992\n",
      "GradientBoostingRegressor() errors: \n",
      "MAE: 0.010278769114681606 \n",
      "MSE: 0.00022602750987706031 \n",
      "RMSE : 0.015034211315431891\n",
      "XGBRegressor(base_score=None, booster=None, callbacks=None,\n",
      "             colsample_bylevel=None, colsample_bynode=None,\n",
      "             colsample_bytree=None, early_stopping_rounds=None,\n",
      "             enable_categorical=False, eval_metric=None, feature_types=None,\n",
      "             gamma=None, gpu_id=None, grow_policy=None, importance_type=None,\n",
      "             interaction_constraints=None, learning_rate=None, max_bin=None,\n",
      "             max_cat_threshold=None, max_cat_to_onehot=None,\n",
      "             max_delta_step=None, max_depth=None, max_leaves=None,\n",
      "             min_child_weight=None, missing=nan, monotone_constraints=None,\n",
      "             n_estimators=100, n_jobs=None, num_parallel_tree=None,\n",
      "             predictor=None, random_state=None, ...) errors: \n",
      "MAE: 0.011702853969026773 \n",
      "MSE: 0.00027459780239047103 \n",
      "RMSE : 0.016570992800386795\n",
      "RandomForestRegressor(max_depth=10, min_samples_split=4) errors: \n",
      "MAE: 0.010113205458703372 \n",
      "MSE: 0.00021824800392068194 \n",
      "RMSE : 0.014773219145490327\n",
      "SVR() errors: \n",
      "MAE: 0.02515759069285992 \n",
      "MSE: 0.0009491683051564079 \n",
      "RMSE : 0.03080857518867771\n"
     ]
    }
   ],
   "source": [
    "# Set the model list\n",
    "models = [lr, ridge, lasso, dtr, gb, xgb, rf, svr]\n",
    "\n",
    "# Evaluate models\n",
    "for model in models:\n",
    "    evaluate_model(model, X_train_scaled, y_train, X_test_scaled, y_test)"
   ]
  },
  {
   "cell_type": "markdown",
   "metadata": {},
   "source": [
    "With the values mean for the target variable is 0.00029, then the MAE, MSE and RMSE is very high, hence the model is not very accurate. We will generate a dataset that includes the spread of sp500 and palladium. We will do that by calculating the spread like we did with OLC models above as follow:\n",
    "\n",
    "$ spread = log_{sp500}(\\frac{p_t}{p_{t-1}}) - b \\times log_{vni}(\\frac{p_t}{p_{t-1}})$\n",
    "\n",
    "With $b$ is the beta coefficient generated from OLS models above"
   ]
  },
  {
   "cell_type": "code",
   "execution_count": 128,
   "metadata": {},
   "outputs": [],
   "source": [
    "# Generate set\n",
    "df3 = df2.copy()\n",
    "df3['vni_sp500_spread'] = df3['index_sp500'] - b1 * df3['index_vni']\n",
    "df3['vni_palladium_spread'] = df3['spot_palladium'] - b2 * df3['index_vni']"
   ]
  },
  {
   "cell_type": "code",
   "execution_count": 129,
   "metadata": {},
   "outputs": [
    {
     "name": "stdout",
     "output_type": "stream",
     "text": [
      "(3339, 4)\n",
      "(835, 4)\n",
      "(3339,)\n",
      "(835,)\n"
     ]
    }
   ],
   "source": [
    "# Train test split\n",
    "X_train, y_train, X_test, y_test = split(df3, 'index_vni')"
   ]
  },
  {
   "cell_type": "code",
   "execution_count": 130,
   "metadata": {},
   "outputs": [],
   "source": [
    "# Scale the data\n",
    "X_train_scaled = scaler.fit_transform(X_train)\n",
    "X_test_scaled = scaler.transform(X_test)"
   ]
  },
  {
   "cell_type": "code",
   "execution_count": 131,
   "metadata": {},
   "outputs": [
    {
     "name": "stdout",
     "output_type": "stream",
     "text": [
      "LinearRegression() errors: \n",
      "MAE: 4.5861508437565174e-17 \n",
      "MSE: 4.1831762035033025e-33 \n",
      "RMSE : 6.467747833290428e-17\n",
      "Ridge(alpha=0.1) errors: \n",
      "MAE: 0.0001676845152554172 \n",
      "MSE: 6.125041253927993e-08 \n",
      "RMSE : 0.00024748820686909496\n",
      "Lasso(alpha=0.1) errors: \n",
      "MAE: 0.00985837397160294 \n",
      "MSE: 0.00021168026227547028 \n",
      "RMSE : 0.014549235796957525\n",
      "DecisionTreeRegressor(max_depth=10, min_samples_split=4) errors: \n",
      "MAE: 0.009691434510909487 \n",
      "MSE: 0.00020559461042793297 \n",
      "RMSE : 0.014338570724724727\n",
      "GradientBoostingRegressor() errors: \n",
      "MAE: 0.008608843092704748 \n",
      "MSE: 0.00015935177288862445 \n",
      "RMSE : 0.012623461208742413\n",
      "XGBRegressor(base_score=None, booster=None, callbacks=None,\n",
      "             colsample_bylevel=None, colsample_bynode=None,\n",
      "             colsample_bytree=None, early_stopping_rounds=None,\n",
      "             enable_categorical=False, eval_metric=None, feature_types=None,\n",
      "             gamma=None, gpu_id=None, grow_policy=None, importance_type=None,\n",
      "             interaction_constraints=None, learning_rate=None, max_bin=None,\n",
      "             max_cat_threshold=None, max_cat_to_onehot=None,\n",
      "             max_delta_step=None, max_depth=None, max_leaves=None,\n",
      "             min_child_weight=None, missing=nan, monotone_constraints=None,\n",
      "             n_estimators=100, n_jobs=None, num_parallel_tree=None,\n",
      "             predictor=None, random_state=None, ...) errors: \n",
      "MAE: 0.00503596191772787 \n",
      "MSE: 7.036606883776322e-05 \n",
      "RMSE : 0.008388448535799883\n",
      "RandomForestRegressor(max_depth=10, min_samples_split=4) errors: \n",
      "MAE: 0.00902440131944451 \n",
      "MSE: 0.00017536245506311494 \n",
      "RMSE : 0.013242448982839803\n",
      "SVR() errors: \n",
      "MAE: 0.01925785721610383 \n",
      "MSE: 0.0005638749014942936 \n",
      "RMSE : 0.02374605022933906\n"
     ]
    }
   ],
   "source": [
    "# Set model list\n",
    "models = [lr, ridge, lasso, dtr, gb, xgb, rf, svr]\n",
    "\n",
    "# Evaluate models\n",
    "for model in models:\n",
    "    evaluate_model(model, X_train_scaled, y_train, X_test_scaled, y_test)"
   ]
  },
  {
   "cell_type": "markdown",
   "metadata": {},
   "source": [
    "Linear regression performed best with very low error! Ridge, applied to avoid overfitting, also has a quite low error. Now will test with only spread values to see the performance."
   ]
  },
  {
   "cell_type": "code",
   "execution_count": 132,
   "metadata": {},
   "outputs": [
    {
     "data": {
      "text/html": [
       "<div>\n",
       "<style scoped>\n",
       "    .dataframe tbody tr th:only-of-type {\n",
       "        vertical-align: middle;\n",
       "    }\n",
       "\n",
       "    .dataframe tbody tr th {\n",
       "        vertical-align: top;\n",
       "    }\n",
       "\n",
       "    .dataframe thead th {\n",
       "        text-align: right;\n",
       "    }\n",
       "</style>\n",
       "<table border=\"1\" class=\"dataframe\">\n",
       "  <thead>\n",
       "    <tr style=\"text-align: right;\">\n",
       "      <th></th>\n",
       "      <th>index_vni</th>\n",
       "      <th>vni_sp500_spread</th>\n",
       "      <th>vni_palladium_spread</th>\n",
       "    </tr>\n",
       "    <tr>\n",
       "      <th>Date</th>\n",
       "      <th></th>\n",
       "      <th></th>\n",
       "      <th></th>\n",
       "    </tr>\n",
       "  </thead>\n",
       "  <tbody>\n",
       "    <tr>\n",
       "      <th>7/3/2007</th>\n",
       "      <td>-0.017115</td>\n",
       "      <td>0.003959</td>\n",
       "      <td>-0.008422</td>\n",
       "    </tr>\n",
       "    <tr>\n",
       "      <th>7/4/2007</th>\n",
       "      <td>0.036430</td>\n",
       "      <td>-0.002578</td>\n",
       "      <td>0.000349</td>\n",
       "    </tr>\n",
       "    <tr>\n",
       "      <th>7/5/2007</th>\n",
       "      <td>-0.000730</td>\n",
       "      <td>0.002123</td>\n",
       "      <td>-0.001319</td>\n",
       "    </tr>\n",
       "    <tr>\n",
       "      <th>7/6/2007</th>\n",
       "      <td>-0.002264</td>\n",
       "      <td>0.003350</td>\n",
       "      <td>0.004244</td>\n",
       "    </tr>\n",
       "    <tr>\n",
       "      <th>7/9/2007</th>\n",
       "      <td>-0.000257</td>\n",
       "      <td>0.000927</td>\n",
       "      <td>0.002738</td>\n",
       "    </tr>\n",
       "    <tr>\n",
       "      <th>...</th>\n",
       "      <td>...</td>\n",
       "      <td>...</td>\n",
       "      <td>...</td>\n",
       "    </tr>\n",
       "    <tr>\n",
       "      <th>6/26/2023</th>\n",
       "      <td>0.002344</td>\n",
       "      <td>-0.004550</td>\n",
       "      <td>0.016588</td>\n",
       "    </tr>\n",
       "    <tr>\n",
       "      <th>6/27/2023</th>\n",
       "      <td>0.002030</td>\n",
       "      <td>0.011345</td>\n",
       "      <td>-0.008804</td>\n",
       "    </tr>\n",
       "    <tr>\n",
       "      <th>6/28/2023</th>\n",
       "      <td>0.003538</td>\n",
       "      <td>-0.000434</td>\n",
       "      <td>-0.028628</td>\n",
       "    </tr>\n",
       "    <tr>\n",
       "      <th>6/29/2023</th>\n",
       "      <td>-0.011450</td>\n",
       "      <td>0.004721</td>\n",
       "      <td>-0.026154</td>\n",
       "    </tr>\n",
       "    <tr>\n",
       "      <th>6/30/2023</th>\n",
       "      <td>-0.004640</td>\n",
       "      <td>0.012299</td>\n",
       "      <td>0.001581</td>\n",
       "    </tr>\n",
       "  </tbody>\n",
       "</table>\n",
       "<p>4174 rows × 3 columns</p>\n",
       "</div>"
      ],
      "text/plain": [
       "           index_vni  vni_sp500_spread  vni_palladium_spread\n",
       "Date                                                        \n",
       "7/3/2007   -0.017115          0.003959             -0.008422\n",
       "7/4/2007    0.036430         -0.002578              0.000349\n",
       "7/5/2007   -0.000730          0.002123             -0.001319\n",
       "7/6/2007   -0.002264          0.003350              0.004244\n",
       "7/9/2007   -0.000257          0.000927              0.002738\n",
       "...              ...               ...                   ...\n",
       "6/26/2023   0.002344         -0.004550              0.016588\n",
       "6/27/2023   0.002030          0.011345             -0.008804\n",
       "6/28/2023   0.003538         -0.000434             -0.028628\n",
       "6/29/2023  -0.011450          0.004721             -0.026154\n",
       "6/30/2023  -0.004640          0.012299              0.001581\n",
       "\n",
       "[4174 rows x 3 columns]"
      ]
     },
     "execution_count": 132,
     "metadata": {},
     "output_type": "execute_result"
    }
   ],
   "source": [
    "# Generate set\n",
    "df4 = df3.drop(['index_sp500','spot_palladium'], axis = 1)\n",
    "df4"
   ]
  },
  {
   "cell_type": "code",
   "execution_count": 143,
   "metadata": {},
   "outputs": [
    {
     "name": "stdout",
     "output_type": "stream",
     "text": [
      "(3339, 2)\n",
      "(835, 2)\n",
      "(3339,)\n",
      "(835,)\n"
     ]
    }
   ],
   "source": [
    "# Train test split\n",
    "X_train, y_train, X_test, y_test = split(df4, 'index_vni')"
   ]
  },
  {
   "cell_type": "code",
   "execution_count": 145,
   "metadata": {},
   "outputs": [],
   "source": [
    "# Scale the data\n",
    "X_train_scaled = scaler.fit_transform(X_train)\n",
    "X_test_scaled = scaler.transform(X_test)"
   ]
  },
  {
   "cell_type": "code",
   "execution_count": 146,
   "metadata": {},
   "outputs": [
    {
     "name": "stdout",
     "output_type": "stream",
     "text": [
      "LinearRegression() errors: \n",
      "MAE: 0.009866106767424124 \n",
      "MSE: 0.00021240293953167998 \n",
      "RMSE : 0.014574050210277169\n",
      "DecisionTreeRegressor(max_depth=10, min_samples_split=4) errors: \n",
      "MAE: 0.010938127723998615 \n",
      "MSE: 0.0002803473021970155 \n",
      "RMSE : 0.016743574952709936\n",
      "XGBRegressor(base_score=None, booster=None, callbacks=None,\n",
      "             colsample_bylevel=None, colsample_bynode=None,\n",
      "             colsample_bytree=None, early_stopping_rounds=None,\n",
      "             enable_categorical=False, eval_metric=None, feature_types=None,\n",
      "             gamma=None, gpu_id=None, grow_policy=None, importance_type=None,\n",
      "             interaction_constraints=None, learning_rate=None, max_bin=None,\n",
      "             max_cat_threshold=None, max_cat_to_onehot=None,\n",
      "             max_delta_step=None, max_depth=None, max_leaves=None,\n",
      "             min_child_weight=None, missing=nan, monotone_constraints=None,\n",
      "             n_estimators=100, n_jobs=None, num_parallel_tree=None,\n",
      "             predictor=None, random_state=None, ...) errors: \n",
      "MAE: 0.011264867648146633 \n",
      "MSE: 0.00024856583947242903 \n",
      "RMSE : 0.015765970933387802\n",
      "SVR() errors: \n",
      "MAE: 0.023577497054398135 \n",
      "MSE: 0.0008190055910835214 \n",
      "RMSE : 0.02861827372647626\n"
     ]
    }
   ],
   "source": [
    "# Evaluate model\n",
    "models = [lr, dtr, xgb, svr]\n",
    "\n",
    "for model in models:\n",
    "    evaluate_model(model, X_train_scaled, y_train, X_test_scaled, y_test)"
   ]
  },
  {
   "cell_type": "markdown",
   "metadata": {},
   "source": [
    "The errors with spread only version are much higher than version included the log differencing of our original predictors.\n",
    "\n",
    "To confirm that our predictors actually have a meaning in assisting the VN-index log return prediction, we will perform the model on the target variable only"
   ]
  },
  {
   "cell_type": "code",
   "execution_count": 147,
   "metadata": {},
   "outputs": [
    {
     "data": {
      "text/html": [
       "<div>\n",
       "<style scoped>\n",
       "    .dataframe tbody tr th:only-of-type {\n",
       "        vertical-align: middle;\n",
       "    }\n",
       "\n",
       "    .dataframe tbody tr th {\n",
       "        vertical-align: top;\n",
       "    }\n",
       "\n",
       "    .dataframe thead th {\n",
       "        text-align: right;\n",
       "    }\n",
       "</style>\n",
       "<table border=\"1\" class=\"dataframe\">\n",
       "  <thead>\n",
       "    <tr style=\"text-align: right;\">\n",
       "      <th></th>\n",
       "      <th>index_vni</th>\n",
       "    </tr>\n",
       "    <tr>\n",
       "      <th>Date</th>\n",
       "      <th></th>\n",
       "    </tr>\n",
       "  </thead>\n",
       "  <tbody>\n",
       "    <tr>\n",
       "      <th>7/3/2007</th>\n",
       "      <td>-0.017115</td>\n",
       "    </tr>\n",
       "    <tr>\n",
       "      <th>7/4/2007</th>\n",
       "      <td>0.036430</td>\n",
       "    </tr>\n",
       "    <tr>\n",
       "      <th>7/5/2007</th>\n",
       "      <td>-0.000730</td>\n",
       "    </tr>\n",
       "    <tr>\n",
       "      <th>7/6/2007</th>\n",
       "      <td>-0.002264</td>\n",
       "    </tr>\n",
       "    <tr>\n",
       "      <th>7/9/2007</th>\n",
       "      <td>-0.000257</td>\n",
       "    </tr>\n",
       "    <tr>\n",
       "      <th>...</th>\n",
       "      <td>...</td>\n",
       "    </tr>\n",
       "    <tr>\n",
       "      <th>6/26/2023</th>\n",
       "      <td>0.002344</td>\n",
       "    </tr>\n",
       "    <tr>\n",
       "      <th>6/27/2023</th>\n",
       "      <td>0.002030</td>\n",
       "    </tr>\n",
       "    <tr>\n",
       "      <th>6/28/2023</th>\n",
       "      <td>0.003538</td>\n",
       "    </tr>\n",
       "    <tr>\n",
       "      <th>6/29/2023</th>\n",
       "      <td>-0.011450</td>\n",
       "    </tr>\n",
       "    <tr>\n",
       "      <th>6/30/2023</th>\n",
       "      <td>-0.004640</td>\n",
       "    </tr>\n",
       "  </tbody>\n",
       "</table>\n",
       "<p>4174 rows × 1 columns</p>\n",
       "</div>"
      ],
      "text/plain": [
       "           index_vni\n",
       "Date                \n",
       "7/3/2007   -0.017115\n",
       "7/4/2007    0.036430\n",
       "7/5/2007   -0.000730\n",
       "7/6/2007   -0.002264\n",
       "7/9/2007   -0.000257\n",
       "...              ...\n",
       "6/26/2023   0.002344\n",
       "6/27/2023   0.002030\n",
       "6/28/2023   0.003538\n",
       "6/29/2023  -0.011450\n",
       "6/30/2023  -0.004640\n",
       "\n",
       "[4174 rows x 1 columns]"
      ]
     },
     "execution_count": 147,
     "metadata": {},
     "output_type": "execute_result"
    }
   ],
   "source": [
    "# Generate data\n",
    "df5 = df4[['index_vni']]\n",
    "df5"
   ]
  },
  {
   "cell_type": "code",
   "execution_count": 149,
   "metadata": {},
   "outputs": [],
   "source": [
    "# Define X and Y\n",
    "X = list(range(len(df5))) # The X variable is the time itself\n",
    "y = df5['index_vni']\n",
    "\n",
    "# Train test split\n",
    "X_train = np.array(X[:train_time]).reshape(-1,1)\n",
    "X_test = np.array(X[train_time:]).reshape(-1,1)\n",
    "\n",
    "y_train = y.iloc[:train_time]\n",
    "y_test = y.iloc[train_time:]"
   ]
  },
  {
   "cell_type": "code",
   "execution_count": 150,
   "metadata": {},
   "outputs": [
    {
     "name": "stdout",
     "output_type": "stream",
     "text": [
      "LinearRegression() errors: \n",
      "MAE: 0.00957750211291237 \n",
      "MSE: 0.00021541318225019304 \n",
      "RMSE : 0.014676960933728516\n",
      "DecisionTreeRegressor(max_depth=10, min_samples_split=4) errors: \n",
      "MAE: 0.010136218989781403 \n",
      "MSE: 0.000238283888650957 \n",
      "RMSE : 0.015436446762482518\n",
      "XGBRegressor(base_score=None, booster=None, callbacks=None,\n",
      "             colsample_bylevel=None, colsample_bynode=None,\n",
      "             colsample_bytree=None, early_stopping_rounds=None,\n",
      "             enable_categorical=False, eval_metric=None, feature_types=None,\n",
      "             gamma=None, gpu_id=None, grow_policy=None, importance_type=None,\n",
      "             interaction_constraints=None, learning_rate=None, max_bin=None,\n",
      "             max_cat_threshold=None, max_cat_to_onehot=None,\n",
      "             max_delta_step=None, max_depth=None, max_leaves=None,\n",
      "             min_child_weight=None, missing=nan, monotone_constraints=None,\n",
      "             n_estimators=100, n_jobs=None, num_parallel_tree=None,\n",
      "             predictor=None, random_state=None, ...) errors: \n",
      "MAE: 0.010962602070777466 \n",
      "MSE: 0.00026105307841519065 \n",
      "RMSE : 0.01615713707360282\n",
      "SVR() errors: \n",
      "MAE: 0.009759792746717151 \n",
      "MSE: 0.0002179900748308142 \n",
      "RMSE : 0.014764486947768087\n"
     ]
    }
   ],
   "source": [
    "# Perform the model\n",
    "for model in models:\n",
    "    evaluate_model(model, X_train, y_train, X_cv, y_cv)"
   ]
  },
  {
   "cell_type": "markdown",
   "metadata": {},
   "source": [
    "When predicting with only the target variable, we can see that the errors are much higher. This indicates that the predictors and their spreads between target variables could low down the errors, without further tuning the hyperparameters."
   ]
  },
  {
   "cell_type": "code",
   "execution_count": 153,
   "metadata": {},
   "outputs": [
    {
     "name": "stdout",
     "output_type": "stream",
     "text": [
      "(3339, 4)\n",
      "(835, 4)\n",
      "(3339,)\n",
      "(835,)\n",
      "Test error: \n",
      "MAE: 4.5861508437565174e-17 \n",
      "MSE: 4.1831762035033025e-33 \n",
      "RMSE: 6.467747833290428e-17\n"
     ]
    }
   ],
   "source": [
    "# Re-fit the model to LR\n",
    "# Generate set\n",
    "df3 = df2.copy()\n",
    "df3['vni_sp500_spread'] = df3['index_sp500'] - b1 * df3['index_vni']\n",
    "df3['vni_palladium_spread'] = df3['spot_palladium'] - b2 * df3['index_vni']\n",
    "\n",
    "# Train test split\n",
    "X_train, y_train, X_test, y_test = split(df3, 'index_vni')\n",
    "\n",
    "# Scale the data\n",
    "X_train_scaled = scaler.fit_transform(X_train)\n",
    "X_test_scaled = scaler.transform(X_test)\n",
    "\n",
    "# Fit the model\n",
    "lr.fit(X_train_scaled, y_train)\n",
    "y_pred_test = lr.predict(X_test_scaled)\n",
    "\n",
    "# Calculate error\n",
    "print(f\"Test error: \\n\"\n",
    "      f\"MAE: {mae(y_test, y_pred_test)} \\n\"\n",
    "      f\"MSE: {mse(y_test, y_pred_test)} \\n\"\n",
    "      f\"RMSE: {rmse(mse(y_test, y_pred_test))}\")"
   ]
  },
  {
   "cell_type": "markdown",
   "metadata": {},
   "source": [
    "## Turn into actual prediction\n",
    "\n",
    "Since this is the log of different, therefore we need to exponent them and translate into actual change. What we can notice here is that the trading time of the US is closed 12 hours before the close time of VN-Index trading. Therefore, once the market in Vietnam closed at time t, we will already have enough information to predict the next day change."
   ]
  },
  {
   "cell_type": "code",
   "execution_count": 155,
   "metadata": {},
   "outputs": [],
   "source": [
    "# Turn into actual change\n",
    "pred_test = np.exp(y_pred_test)\n"
   ]
  },
  {
   "cell_type": "markdown",
   "metadata": {},
   "source": [
    "The above values are the normalization of the returns, calculated as follow:\n",
    "\n",
    "\n",
    "$r_t = log(1 + R_{t}) = log(\\frac{P_t}{P_{t-1}}) = log(P_t) - log(P_{t-1})$\n",
    "\n",
    "To inverse the values back to $R_t$, we need to perform the following equation:\n",
    "\n",
    "$return_t = R_t - 1$"
   ]
  },
  {
   "cell_type": "code",
   "execution_count": 156,
   "metadata": {},
   "outputs": [],
   "source": [
    "# Inverse into actual return\n",
    "pred_test = pred_test - 1"
   ]
  },
  {
   "cell_type": "code",
   "execution_count": 159,
   "metadata": {},
   "outputs": [
    {
     "name": "stdout",
     "output_type": "stream",
     "text": [
      "835\n"
     ]
    },
    {
     "data": {
      "image/png": "[encoded data removed]",
      "text/plain": [
       "<Figure size 640x480 with 1 Axes>"
      ]
     },
     "metadata": {},
     "output_type": "display_data"
    }
   ],
   "source": [
    "# Visualize the return\n",
    "plt.plot(pred_test)\n",
    "print(len(pred_test))"
   ]
  },
  {
   "cell_type": "code",
   "execution_count": 161,
   "metadata": {},
   "outputs": [
    {
     "name": "stdout",
     "output_type": "stream",
     "text": [
      "834\n"
     ]
    },
    {
     "data": {
      "image/png": "[encoded data removed]",
      "text/plain": [
       "<Figure size 640x480 with 1 Axes>"
      ]
     },
     "metadata": {},
     "output_type": "display_data"
    }
   ],
   "source": [
    "# Compare to actual return\n",
    "test_time = data['index_vni'].iloc[train_time:]\n",
    "test_time = test_time.pct_change()\n",
    "test_time.dropna(inplace = True)\n",
    "plt.plot(test_time)\n",
    "print(len(test_time))"
   ]
  },
  {
   "cell_type": "markdown",
   "metadata": {},
   "source": [
    "We can see that the pattern of prediction is very much like the pattern of return in cv time. It is time for us to translate into actual change and compare prediction with actual movements"
   ]
  },
  {
   "cell_type": "code",
   "execution_count": 165,
   "metadata": {},
   "outputs": [],
   "source": [
    "# Generate price of Vn-index\n",
    "vni_index = data[['index_vni']]\n",
    "vni_index.rename(columns = {'index_vni' : 'Close'}, inplace= True)\n",
    "\n",
    "# Generate the return column\n",
    "vni_index['Actual_return'] = vni_index['Close'].pct_change()\n",
    "\n",
    "# Generate dataset with same length with prediction\n",
    "vni_index_test = vni_index.iloc[train_time:]"
   ]
  },
  {
   "cell_type": "code",
   "execution_count": 166,
   "metadata": {},
   "outputs": [],
   "source": [
    "# Combine two prediction numpy\n",
    "pred = pd.DataFrame(data = pred_test, columns = ['Pred_return'], index = vni_index_test.index)\n",
    "\n",
    "# Combine the two dataframe\n",
    "vni_index_test['Pred_return'] = pred"
   ]
  },
  {
   "cell_type": "code",
   "execution_count": 167,
   "metadata": {},
   "outputs": [
    {
     "data": {
      "text/html": [
       "<div>\n",
       "<style scoped>\n",
       "    .dataframe tbody tr th:only-of-type {\n",
       "        vertical-align: middle;\n",
       "    }\n",
       "\n",
       "    .dataframe tbody tr th {\n",
       "        vertical-align: top;\n",
       "    }\n",
       "\n",
       "    .dataframe thead th {\n",
       "        text-align: right;\n",
       "    }\n",
       "</style>\n",
       "<table border=\"1\" class=\"dataframe\">\n",
       "  <thead>\n",
       "    <tr style=\"text-align: right;\">\n",
       "      <th></th>\n",
       "      <th>Close</th>\n",
       "      <th>Actual_return</th>\n",
       "      <th>Pred_return</th>\n",
       "    </tr>\n",
       "    <tr>\n",
       "      <th>Date</th>\n",
       "      <th></th>\n",
       "      <th></th>\n",
       "      <th></th>\n",
       "    </tr>\n",
       "  </thead>\n",
       "  <tbody>\n",
       "    <tr>\n",
       "      <th>4/20/2020</th>\n",
       "      <td>794.97</td>\n",
       "      <td>0.006801</td>\n",
       "      <td>0.006801</td>\n",
       "    </tr>\n",
       "    <tr>\n",
       "      <th>4/21/2020</th>\n",
       "      <td>766.84</td>\n",
       "      <td>-0.035385</td>\n",
       "      <td>-0.035385</td>\n",
       "    </tr>\n",
       "    <tr>\n",
       "      <th>4/22/2020</th>\n",
       "      <td>768.92</td>\n",
       "      <td>0.002712</td>\n",
       "      <td>0.002712</td>\n",
       "    </tr>\n",
       "    <tr>\n",
       "      <th>4/23/2020</th>\n",
       "      <td>773.91</td>\n",
       "      <td>0.006490</td>\n",
       "      <td>0.006490</td>\n",
       "    </tr>\n",
       "    <tr>\n",
       "      <th>4/24/2020</th>\n",
       "      <td>776.66</td>\n",
       "      <td>0.003553</td>\n",
       "      <td>0.003553</td>\n",
       "    </tr>\n",
       "    <tr>\n",
       "      <th>4/27/2020</th>\n",
       "      <td>770.77</td>\n",
       "      <td>-0.007584</td>\n",
       "      <td>-0.007584</td>\n",
       "    </tr>\n",
       "    <tr>\n",
       "      <th>4/28/2020</th>\n",
       "      <td>767.21</td>\n",
       "      <td>-0.004619</td>\n",
       "      <td>-0.004619</td>\n",
       "    </tr>\n",
       "    <tr>\n",
       "      <th>4/29/2020</th>\n",
       "      <td>769.11</td>\n",
       "      <td>0.002477</td>\n",
       "      <td>0.002477</td>\n",
       "    </tr>\n",
       "    <tr>\n",
       "      <th>4/30/2020</th>\n",
       "      <td>789.60</td>\n",
       "      <td>0.026641</td>\n",
       "      <td>0.026641</td>\n",
       "    </tr>\n",
       "    <tr>\n",
       "      <th>5/1/2020</th>\n",
       "      <td>794.97</td>\n",
       "      <td>0.006801</td>\n",
       "      <td>0.006801</td>\n",
       "    </tr>\n",
       "  </tbody>\n",
       "</table>\n",
       "</div>"
      ],
      "text/plain": [
       "            Close  Actual_return  Pred_return\n",
       "Date                                         \n",
       "4/20/2020  794.97       0.006801     0.006801\n",
       "4/21/2020  766.84      -0.035385    -0.035385\n",
       "4/22/2020  768.92       0.002712     0.002712\n",
       "4/23/2020  773.91       0.006490     0.006490\n",
       "4/24/2020  776.66       0.003553     0.003553\n",
       "4/27/2020  770.77      -0.007584    -0.007584\n",
       "4/28/2020  767.21      -0.004619    -0.004619\n",
       "4/29/2020  769.11       0.002477     0.002477\n",
       "4/30/2020  789.60       0.026641     0.026641\n",
       "5/1/2020   794.97       0.006801     0.006801"
      ]
     },
     "execution_count": 167,
     "metadata": {},
     "output_type": "execute_result"
    }
   ],
   "source": [
    "# Check first 10 values\n",
    "vni_index_test.head(10)"
   ]
  },
  {
   "cell_type": "code",
   "execution_count": 168,
   "metadata": {},
   "outputs": [
    {
     "data": {
      "text/html": [
       "<div>\n",
       "<style scoped>\n",
       "    .dataframe tbody tr th:only-of-type {\n",
       "        vertical-align: middle;\n",
       "    }\n",
       "\n",
       "    .dataframe tbody tr th {\n",
       "        vertical-align: top;\n",
       "    }\n",
       "\n",
       "    .dataframe thead th {\n",
       "        text-align: right;\n",
       "    }\n",
       "</style>\n",
       "<table border=\"1\" class=\"dataframe\">\n",
       "  <thead>\n",
       "    <tr style=\"text-align: right;\">\n",
       "      <th></th>\n",
       "      <th>Close</th>\n",
       "      <th>Actual_return</th>\n",
       "      <th>Pred_return</th>\n",
       "    </tr>\n",
       "  </thead>\n",
       "  <tbody>\n",
       "    <tr>\n",
       "      <th>count</th>\n",
       "      <td>835.000000</td>\n",
       "      <td>835.000000</td>\n",
       "      <td>835.000000</td>\n",
       "    </tr>\n",
       "    <tr>\n",
       "      <th>mean</th>\n",
       "      <td>1165.005940</td>\n",
       "      <td>0.000524</td>\n",
       "      <td>0.000524</td>\n",
       "    </tr>\n",
       "    <tr>\n",
       "      <th>std</th>\n",
       "      <td>203.644079</td>\n",
       "      <td>0.014474</td>\n",
       "      <td>0.014474</td>\n",
       "    </tr>\n",
       "    <tr>\n",
       "      <th>min</th>\n",
       "      <td>762.470000</td>\n",
       "      <td>-0.081611</td>\n",
       "      <td>-0.081611</td>\n",
       "    </tr>\n",
       "    <tr>\n",
       "      <th>25%</th>\n",
       "      <td>1028.635000</td>\n",
       "      <td>-0.004647</td>\n",
       "      <td>-0.004647</td>\n",
       "    </tr>\n",
       "    <tr>\n",
       "      <th>50%</th>\n",
       "      <td>1166.540000</td>\n",
       "      <td>0.001564</td>\n",
       "      <td>0.001564</td>\n",
       "    </tr>\n",
       "    <tr>\n",
       "      <th>75%</th>\n",
       "      <td>1334.695000</td>\n",
       "      <td>0.007713</td>\n",
       "      <td>0.007713</td>\n",
       "    </tr>\n",
       "    <tr>\n",
       "      <th>max</th>\n",
       "      <td>1528.570000</td>\n",
       "      <td>0.065738</td>\n",
       "      <td>0.065738</td>\n",
       "    </tr>\n",
       "  </tbody>\n",
       "</table>\n",
       "</div>"
      ],
      "text/plain": [
       "             Close  Actual_return  Pred_return\n",
       "count   835.000000     835.000000   835.000000\n",
       "mean   1165.005940       0.000524     0.000524\n",
       "std     203.644079       0.014474     0.014474\n",
       "min     762.470000      -0.081611    -0.081611\n",
       "25%    1028.635000      -0.004647    -0.004647\n",
       "50%    1166.540000       0.001564     0.001564\n",
       "75%    1334.695000       0.007713     0.007713\n",
       "max    1528.570000       0.065738     0.065738"
      ]
     },
     "execution_count": 168,
     "metadata": {},
     "output_type": "execute_result"
    }
   ],
   "source": [
    "# Check statistics\n",
    "vni_index_test.describe()"
   ]
  },
  {
   "cell_type": "code",
   "execution_count": 169,
   "metadata": {},
   "outputs": [],
   "source": [
    "# Predict close price of vn-index\n",
    "pred_close = []\n",
    "for i in range(len(vni_index_test) - 1):\n",
    "    pred_price = vni_index_test['Close'].iloc[i] *  (1 + vni_index_test['Pred_return'].iloc[i + 1])\n",
    "    pred_close.append(pred_price)"
   ]
  },
  {
   "cell_type": "code",
   "execution_count": 170,
   "metadata": {},
   "outputs": [
    {
     "data": {
      "text/html": [
       "<div>\n",
       "<style scoped>\n",
       "    .dataframe tbody tr th:only-of-type {\n",
       "        vertical-align: middle;\n",
       "    }\n",
       "\n",
       "    .dataframe tbody tr th {\n",
       "        vertical-align: top;\n",
       "    }\n",
       "\n",
       "    .dataframe thead th {\n",
       "        text-align: right;\n",
       "    }\n",
       "</style>\n",
       "<table border=\"1\" class=\"dataframe\">\n",
       "  <thead>\n",
       "    <tr style=\"text-align: right;\">\n",
       "      <th></th>\n",
       "      <th>Close</th>\n",
       "      <th>Actual_return</th>\n",
       "      <th>Pred_return</th>\n",
       "      <th>Pred_close</th>\n",
       "    </tr>\n",
       "    <tr>\n",
       "      <th>Date</th>\n",
       "      <th></th>\n",
       "      <th></th>\n",
       "      <th></th>\n",
       "      <th></th>\n",
       "    </tr>\n",
       "  </thead>\n",
       "  <tbody>\n",
       "    <tr>\n",
       "      <th>4/21/2020</th>\n",
       "      <td>766.84</td>\n",
       "      <td>-0.035385</td>\n",
       "      <td>-0.035385</td>\n",
       "      <td>766.84</td>\n",
       "    </tr>\n",
       "    <tr>\n",
       "      <th>4/22/2020</th>\n",
       "      <td>768.92</td>\n",
       "      <td>0.002712</td>\n",
       "      <td>0.002712</td>\n",
       "      <td>768.92</td>\n",
       "    </tr>\n",
       "    <tr>\n",
       "      <th>4/23/2020</th>\n",
       "      <td>773.91</td>\n",
       "      <td>0.006490</td>\n",
       "      <td>0.006490</td>\n",
       "      <td>773.91</td>\n",
       "    </tr>\n",
       "    <tr>\n",
       "      <th>4/24/2020</th>\n",
       "      <td>776.66</td>\n",
       "      <td>0.003553</td>\n",
       "      <td>0.003553</td>\n",
       "      <td>776.66</td>\n",
       "    </tr>\n",
       "    <tr>\n",
       "      <th>4/27/2020</th>\n",
       "      <td>770.77</td>\n",
       "      <td>-0.007584</td>\n",
       "      <td>-0.007584</td>\n",
       "      <td>770.77</td>\n",
       "    </tr>\n",
       "    <tr>\n",
       "      <th>4/28/2020</th>\n",
       "      <td>767.21</td>\n",
       "      <td>-0.004619</td>\n",
       "      <td>-0.004619</td>\n",
       "      <td>767.21</td>\n",
       "    </tr>\n",
       "    <tr>\n",
       "      <th>4/29/2020</th>\n",
       "      <td>769.11</td>\n",
       "      <td>0.002477</td>\n",
       "      <td>0.002477</td>\n",
       "      <td>769.11</td>\n",
       "    </tr>\n",
       "    <tr>\n",
       "      <th>4/30/2020</th>\n",
       "      <td>789.60</td>\n",
       "      <td>0.026641</td>\n",
       "      <td>0.026641</td>\n",
       "      <td>789.60</td>\n",
       "    </tr>\n",
       "    <tr>\n",
       "      <th>5/1/2020</th>\n",
       "      <td>794.97</td>\n",
       "      <td>0.006801</td>\n",
       "      <td>0.006801</td>\n",
       "      <td>794.97</td>\n",
       "    </tr>\n",
       "    <tr>\n",
       "      <th>5/4/2020</th>\n",
       "      <td>762.47</td>\n",
       "      <td>-0.040882</td>\n",
       "      <td>-0.040882</td>\n",
       "      <td>762.47</td>\n",
       "    </tr>\n",
       "  </tbody>\n",
       "</table>\n",
       "</div>"
      ],
      "text/plain": [
       "            Close  Actual_return  Pred_return  Pred_close\n",
       "Date                                                     \n",
       "4/21/2020  766.84      -0.035385    -0.035385      766.84\n",
       "4/22/2020  768.92       0.002712     0.002712      768.92\n",
       "4/23/2020  773.91       0.006490     0.006490      773.91\n",
       "4/24/2020  776.66       0.003553     0.003553      776.66\n",
       "4/27/2020  770.77      -0.007584    -0.007584      770.77\n",
       "4/28/2020  767.21      -0.004619    -0.004619      767.21\n",
       "4/29/2020  769.11       0.002477     0.002477      769.11\n",
       "4/30/2020  789.60       0.026641     0.026641      789.60\n",
       "5/1/2020   794.97       0.006801     0.006801      794.97\n",
       "5/4/2020   762.47      -0.040882    -0.040882      762.47"
      ]
     },
     "execution_count": 170,
     "metadata": {},
     "output_type": "execute_result"
    }
   ],
   "source": [
    "# Append to the dataframe\n",
    "vni_index_test = vni_index_test.iloc[1:]\n",
    "vni_index_test['Pred_close'] = pred_close\n",
    "vni_index_test.head(10)"
   ]
  },
  {
   "cell_type": "code",
   "execution_count": 171,
   "metadata": {},
   "outputs": [
    {
     "data": {
      "image/png": "[encoded data removed]",
      "text/plain": [
       "<Figure size 1200x600 with 1 Axes>"
      ]
     },
     "metadata": {},
     "output_type": "display_data"
    }
   ],
   "source": [
    "# Visualize the prediction and actual\n",
    "fig, ax = plt.subplots(figsize = (12,6))\n",
    "\n",
    "ax.plot(vni_index_test['Close'], color = 'g', label = 'Actual Close Price')\n",
    "ax.plot(vni_index_test['Pred_close'], color = 'r', label = 'Predicted Close Price')\n",
    "ax.legend()\n",
    "ax.set_xlabel('Time')\n",
    "ax.set_ylabel('Close Price')\n",
    "plt.title('Prediction vs Actual close price of VN-Index')\n",
    "plt.show()"
   ]
  },
  {
   "cell_type": "markdown",
   "metadata": {},
   "source": [
    "The predictions fit very well with the actual movement of the target variable."
   ]
  }
 ],
 "metadata": {
  "kernelspec": {
   "display_name": "Python 3",
   "language": "python",
   "name": "python3"
  },
  "language_info": {
   "codemirror_mode": {
    "name": "ipython",
    "version": 3
   },
   "file_extension": ".py",
   "mimetype": "text/x-python",
   "name": "python",
   "nbconvert_exporter": "python",
   "pygments_lexer": "ipython3",
   "version": "3.11.4"
  },
  "orig_nbformat": 4
 },
 "nbformat": 4,
 "nbformat_minor": 2
}
