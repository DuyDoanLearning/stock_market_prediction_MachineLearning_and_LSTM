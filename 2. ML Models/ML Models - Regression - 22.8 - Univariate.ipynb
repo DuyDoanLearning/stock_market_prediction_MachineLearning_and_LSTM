{
 "cells": [
  {
   "cell_type": "markdown",
   "metadata": {},
   "source": [
    "# Machine Learning Models for stock prediction - non transformation version"
   ]
  },
  {
   "cell_type": "markdown",
   "metadata": {},
   "source": [
    "# Import necessary libraries"
   ]
  },
  {
   "cell_type": "code",
   "execution_count": 1,
   "metadata": {},
   "outputs": [],
   "source": [
    "import pandas as pd\n",
    "import numpy as np\n",
    "import matplotlib.pyplot as plt\n",
    "import seaborn as sns\n",
    "sns.set()\n",
    "\n",
    "import warnings\n",
    "warnings.filterwarnings(\"ignore\")"
   ]
  },
  {
   "cell_type": "markdown",
   "metadata": {},
   "source": [
    "## Import data\n",
    "\n",
    "The data was downloaded from Bloomberg on:\n",
    "* Exchange rate of Vietnam with its major trading partners: the China and the US\n",
    "* Precious metal spot price and future price: Gold, Silver, Palladium, Platinum\n",
    "* Global Stock Indices: Hang Seng Index, Nasdaq 100, Nasdaq Composite, Nikkei 225, SP500, DOJI, Shanghai Shenzhen CSI3000, Shanghai Shenzhen Composite and Singapore Stock Index\n",
    "* Volatility stock index: VIX Index\n",
    "\n",
    "The data will be imported from previous EDA session, which has been cleaned."
   ]
  },
  {
   "cell_type": "code",
   "execution_count": 2,
   "metadata": {},
   "outputs": [],
   "source": [
    "# Import data\n",
    "data = pd.read_csv('data.csv')\n",
    "\n",
    "# Transfer date column to date time\n",
    "import datetime\n",
    "data['Date'] = pd.to_datetime(data['Date'], format = '%m/%d/%Y')\n",
    "\n",
    "# Turn date into index\n",
    "data.set_index('Date', inplace = True)"
   ]
  },
  {
   "cell_type": "markdown",
   "metadata": {},
   "source": [
    "# Machine Learning models - Regression\n",
    "\n",
    "We will perform the test on several models to determine which models will perform best. The models are:\n",
    "- Linear Regression (include Ridge and Lasso for avoid multicolinearity)\n",
    "- Decision Trees Regressor\n",
    "- Gradient Boosting Regressor\n",
    "- XGBoost Regressor"
   ]
  },
  {
   "cell_type": "markdown",
   "metadata": {},
   "source": [
    "## Train test split - 80% 20%"
   ]
  },
  {
   "cell_type": "code",
   "execution_count": 21,
   "metadata": {},
   "outputs": [],
   "source": [
    "# Define train test split\n",
    "def train_test_split(df, target):\n",
    "    # Define train, cv, test time\n",
    "    train_time = int(round(len(df) * 0.8))\n",
    "    \n",
    "    # Define X, y\n",
    "    X = np.arange(0, len(df))\n",
    "    y = df[target]\n",
    "    \n",
    "    # Train test split\n",
    "    X_train = X[:train_time]\n",
    "    X_test = X[train_time:]\n",
    "    \n",
    "    y_train = y.iloc[:train_time]\n",
    "    y_test = y.iloc[train_time:]\n",
    "    \n",
    "    # Print out to check shape\n",
    "    print(X_train.shape)\n",
    "    print(X_test.shape)\n",
    "    \n",
    "    print(y_train.shape)\n",
    "    print(y_test.shape)\n",
    "    \n",
    "    return X_train, y_train, X_test, y_test"
   ]
  },
  {
   "cell_type": "code",
   "execution_count": 22,
   "metadata": {},
   "outputs": [
    {
     "name": "stdout",
     "output_type": "stream",
     "text": [
      "(3340,)\n",
      "(835,)\n",
      "(3340,)\n",
      "(835,)\n"
     ]
    }
   ],
   "source": [
    "# Train test split the dataset\n",
    "X_train, y_train, X_test, y_test = train_test_split(data, 'index_vni')"
   ]
  },
  {
   "cell_type": "markdown",
   "metadata": {},
   "source": [
    "## Prepare models\n",
    "\n",
    "We will prepare regression models. We will fit on non-tuned models first to see the model, then based on the result, we will perform further hyperparameters tunning if needed"
   ]
  },
  {
   "cell_type": "code",
   "execution_count": 23,
   "metadata": {},
   "outputs": [],
   "source": [
    "# Import model\n",
    "from sklearn.linear_model import LinearRegression\n",
    "from sklearn.linear_model import Ridge\n",
    "from sklearn.linear_model import Lasso\n",
    "from sklearn.tree import DecisionTreeRegressor\n",
    "from sklearn.ensemble import GradientBoostingRegressor\n",
    "from xgboost import XGBRegressor\n",
    "from sklearn.ensemble import RandomForestRegressor\n",
    "from sklearn.svm import SVR"
   ]
  },
  {
   "cell_type": "code",
   "execution_count": 24,
   "metadata": {},
   "outputs": [],
   "source": [
    "# Call out object\n",
    "lr = LinearRegression()\n",
    "ridge = Ridge(alpha = 15)\n",
    "lasso = Lasso(alpha = 20)\n",
    "dtr = DecisionTreeRegressor(criterion = 'squared_error', max_depth = 10, min_samples_split = 4)\n",
    "gb = GradientBoostingRegressor()\n",
    "xgb = XGBRegressor()\n",
    "rf = RandomForestRegressor(criterion = 'squared_error', max_depth = 10, min_samples_split = 4)\n",
    "svr = SVR()\n",
    "\n",
    "# Set models list\n",
    "models = [lr, ridge, lasso, dtr, gb, xgb, rf, svr]"
   ]
  },
  {
   "cell_type": "markdown",
   "metadata": {},
   "source": [
    "## Test models"
   ]
  },
  {
   "cell_type": "code",
   "execution_count": 25,
   "metadata": {},
   "outputs": [],
   "source": [
    "# Import metrics\n",
    "from sklearn.metrics import mean_absolute_error as mae\n",
    "from sklearn.metrics import mean_squared_error as mse\n",
    "\n",
    "def rmse(mse):\n",
    "    rmse = np.sqrt(mse)"
   ]
  },
  {
   "cell_type": "code",
   "execution_count": 26,
   "metadata": {},
   "outputs": [],
   "source": [
    "# Define evaluate model\n",
    "def evaluate_model(model, X_train, y_train, X_cv, y_cv):\n",
    "    # Fit model and obtain result\n",
    "    model.fit(X_train, y_train)\n",
    "    y_pred_cv = model.predict(X_cv)\n",
    "    MAE = mae(y_cv, y_pred_cv)\n",
    "    MSE = mse(y_cv, y_pred_cv)\n",
    "    RMSE = rmse(MSE)\n",
    "\n",
    "    # Store result\n",
    "    return MAE, MSE, RMSE"
   ]
  },
  {
   "cell_type": "code",
   "execution_count": 27,
   "metadata": {},
   "outputs": [
    {
     "data": {
      "text/html": [
       "<div>\n",
       "<style scoped>\n",
       "    .dataframe tbody tr th:only-of-type {\n",
       "        vertical-align: middle;\n",
       "    }\n",
       "\n",
       "    .dataframe tbody tr th {\n",
       "        vertical-align: top;\n",
       "    }\n",
       "\n",
       "    .dataframe thead th {\n",
       "        text-align: right;\n",
       "    }\n",
       "</style>\n",
       "<table border=\"1\" class=\"dataframe\">\n",
       "  <thead>\n",
       "    <tr style=\"text-align: right;\">\n",
       "      <th></th>\n",
       "      <th>MAE</th>\n",
       "      <th>MSE</th>\n",
       "    </tr>\n",
       "  </thead>\n",
       "  <tbody>\n",
       "    <tr>\n",
       "      <th>Linear Regression</th>\n",
       "      <td>254.927068</td>\n",
       "      <td>100731.572821</td>\n",
       "    </tr>\n",
       "    <tr>\n",
       "      <th>Ridge</th>\n",
       "      <td>254.927069</td>\n",
       "      <td>100731.573519</td>\n",
       "    </tr>\n",
       "    <tr>\n",
       "      <th>Lasso</th>\n",
       "      <td>254.965061</td>\n",
       "      <td>100754.140121</td>\n",
       "    </tr>\n",
       "    <tr>\n",
       "      <th>SVR</th>\n",
       "      <td>329.300403</td>\n",
       "      <td>143074.986964</td>\n",
       "    </tr>\n",
       "    <tr>\n",
       "      <th>XGBoost</th>\n",
       "      <td>378.520056</td>\n",
       "      <td>184394.282982</td>\n",
       "    </tr>\n",
       "    <tr>\n",
       "      <th>Decision Tree</th>\n",
       "      <td>382.792711</td>\n",
       "      <td>187726.939374</td>\n",
       "    </tr>\n",
       "    <tr>\n",
       "      <th>Random Forest</th>\n",
       "      <td>385.914154</td>\n",
       "      <td>190177.626501</td>\n",
       "    </tr>\n",
       "    <tr>\n",
       "      <th>Gradient Boosting</th>\n",
       "      <td>389.849369</td>\n",
       "      <td>193293.623894</td>\n",
       "    </tr>\n",
       "  </tbody>\n",
       "</table>\n",
       "</div>"
      ],
      "text/plain": [
       "                          MAE            MSE\n",
       "Linear Regression  254.927068  100731.572821\n",
       "Ridge              254.927069  100731.573519\n",
       "Lasso              254.965061  100754.140121\n",
       "SVR                329.300403  143074.986964\n",
       "XGBoost            378.520056  184394.282982\n",
       "Decision Tree      382.792711  187726.939374\n",
       "Random Forest      385.914154  190177.626501\n",
       "Gradient Boosting  389.849369  193293.623894"
      ]
     },
     "execution_count": 27,
     "metadata": {},
     "output_type": "execute_result"
    }
   ],
   "source": [
    "# Test the model\n",
    "\n",
    "col = ['Linear Regression','Ridge','Lasso','Decision Tree','Gradient Boosting','XGBoost','Random Forest', 'SVR']\n",
    "MAE_cv = []\n",
    "MSE_cv = []\n",
    "\n",
    "for model in models:\n",
    "    MAE, MSE, RMSE = evaluate_model(model, X_train.reshape(-1,1), y_train, X_test.reshape(-1,1), y_test)\n",
    "    MAE_cv.append(MAE)\n",
    "    MSE_cv.append(MSE)\n",
    "\n",
    "cv_result = pd.DataFrame(data = [MAE_cv, MSE_cv], columns = [col], index = ['MAE','MSE'])\n",
    "cv_result.T.sort_values(by = 'MAE')"
   ]
  },
  {
   "cell_type": "markdown",
   "metadata": {},
   "source": [
    "When we apply simple univariate models, we can see that the errors are very high!"
   ]
  }
 ],
 "metadata": {
  "kernelspec": {
   "display_name": "Python 3",
   "language": "python",
   "name": "python3"
  },
  "language_info": {
   "codemirror_mode": {
    "name": "ipython",
    "version": 3
   },
   "file_extension": ".py",
   "mimetype": "text/x-python",
   "name": "python",
   "nbconvert_exporter": "python",
   "pygments_lexer": "ipython3",
   "version": "3.11.4"
  },
  "orig_nbformat": 4
 },
 "nbformat": 4,
 "nbformat_minor": 2
}
